{
 "cells": [
  {
   "cell_type": "markdown",
   "source": [
    "# INGENIERÍA DE DATOS PARA LOGS\n",
    "\n",
    "El proceso a realizar es el siguiente:\n",
    "1. Imputación de datos\n",
    "2. Tratamiento de outliers\n",
    "3. Análisis descriptivo\n",
    "4. Transformación y escalamiento de atributos"
   ],
   "metadata": {
    "collapsed": false
   }
  },
  {
   "cell_type": "code",
   "execution_count": 20,
   "metadata": {
    "collapsed": true,
    "ExecuteTime": {
     "end_time": "2023-11-06T14:07:02.580944400Z",
     "start_time": "2023-11-06T14:07:02.105755Z"
    }
   },
   "outputs": [],
   "source": [
    "import pandas as pd\n",
    "\n",
    "logs_validacion = pd.read_csv('logs_validacion.csv')"
   ]
  },
  {
   "cell_type": "code",
   "execution_count": 21,
   "outputs": [
    {
     "data": {
      "text/plain": "   Unnamed: 0                                           username  \\\n0          36  05743498d061bf472df897f1e5bdda6d62e99312c952e3...   \n1          37  05743498d061bf472df897f1e5bdda6d62e99312c952e3...   \n2          38  05743498d061bf472df897f1e5bdda6d62e99312c952e3...   \n3          39  05743498d061bf472df897f1e5bdda6d62e99312c952e3...   \n4          40  05743498d061bf472df897f1e5bdda6d62e99312c952e3...   \n\n                               time  \\\n0  2022-08-04 16:49:20.799753+00:00   \n1  2022-08-04 16:49:23.351461+00:00   \n2  2022-08-04 16:50:47.651708+00:00   \n3  2022-08-04 16:50:47.652441+00:00   \n4  2022-08-04 16:50:47.824654+00:00   \n\n                                          event_type  \\\n0       /courses/course-v1:eol+INXXXX+YYYY_Z/course/   \n1      edx.bi.course.upgrade.sidebarupsell.displayed   \n2   /courses/course-v1:eol+INXXXX+YYYY_Z/course_wiki   \n3                            edx.ui.lms.link_clicked   \n4  /courses/course-v1:eol+INXXXX+YYYY_Z/wiki/eol....   \n\n                              grouped_event_type    chapter sequential  \n0                 /courses/(course-code)/course/  none_page  none_page  \n1  edx.bi.course.upgrade.sidebarupsell.displayed        NaN        NaN  \n2             /courses/(course-code)/course_wiki  none_page  none_page  \n3                        edx.ui.lms.link_clicked        NaN        NaN  \n4     /courses/(course-code)/wiki/(course-code)/  none_page  none_page  ",
      "text/html": "<div>\n<style scoped>\n    .dataframe tbody tr th:only-of-type {\n        vertical-align: middle;\n    }\n\n    .dataframe tbody tr th {\n        vertical-align: top;\n    }\n\n    .dataframe thead th {\n        text-align: right;\n    }\n</style>\n<table border=\"1\" class=\"dataframe\">\n  <thead>\n    <tr style=\"text-align: right;\">\n      <th></th>\n      <th>Unnamed: 0</th>\n      <th>username</th>\n      <th>time</th>\n      <th>event_type</th>\n      <th>grouped_event_type</th>\n      <th>chapter</th>\n      <th>sequential</th>\n    </tr>\n  </thead>\n  <tbody>\n    <tr>\n      <th>0</th>\n      <td>36</td>\n      <td>05743498d061bf472df897f1e5bdda6d62e99312c952e3...</td>\n      <td>2022-08-04 16:49:20.799753+00:00</td>\n      <td>/courses/course-v1:eol+INXXXX+YYYY_Z/course/</td>\n      <td>/courses/(course-code)/course/</td>\n      <td>none_page</td>\n      <td>none_page</td>\n    </tr>\n    <tr>\n      <th>1</th>\n      <td>37</td>\n      <td>05743498d061bf472df897f1e5bdda6d62e99312c952e3...</td>\n      <td>2022-08-04 16:49:23.351461+00:00</td>\n      <td>edx.bi.course.upgrade.sidebarupsell.displayed</td>\n      <td>edx.bi.course.upgrade.sidebarupsell.displayed</td>\n      <td>NaN</td>\n      <td>NaN</td>\n    </tr>\n    <tr>\n      <th>2</th>\n      <td>38</td>\n      <td>05743498d061bf472df897f1e5bdda6d62e99312c952e3...</td>\n      <td>2022-08-04 16:50:47.651708+00:00</td>\n      <td>/courses/course-v1:eol+INXXXX+YYYY_Z/course_wiki</td>\n      <td>/courses/(course-code)/course_wiki</td>\n      <td>none_page</td>\n      <td>none_page</td>\n    </tr>\n    <tr>\n      <th>3</th>\n      <td>39</td>\n      <td>05743498d061bf472df897f1e5bdda6d62e99312c952e3...</td>\n      <td>2022-08-04 16:50:47.652441+00:00</td>\n      <td>edx.ui.lms.link_clicked</td>\n      <td>edx.ui.lms.link_clicked</td>\n      <td>NaN</td>\n      <td>NaN</td>\n    </tr>\n    <tr>\n      <th>4</th>\n      <td>40</td>\n      <td>05743498d061bf472df897f1e5bdda6d62e99312c952e3...</td>\n      <td>2022-08-04 16:50:47.824654+00:00</td>\n      <td>/courses/course-v1:eol+INXXXX+YYYY_Z/wiki/eol....</td>\n      <td>/courses/(course-code)/wiki/(course-code)/</td>\n      <td>none_page</td>\n      <td>none_page</td>\n    </tr>\n  </tbody>\n</table>\n</div>"
     },
     "execution_count": 21,
     "metadata": {},
     "output_type": "execute_result"
    }
   ],
   "source": [
    "logs_validacion.head()"
   ],
   "metadata": {
    "collapsed": false,
    "ExecuteTime": {
     "end_time": "2023-11-06T14:07:02.594431300Z",
     "start_time": "2023-11-06T14:07:02.582952600Z"
    }
   }
  },
  {
   "cell_type": "code",
   "execution_count": 22,
   "outputs": [
    {
     "name": "stdout",
     "output_type": "stream",
     "text": [
      "<class 'pandas.core.frame.DataFrame'>\n",
      "RangeIndex: 196381 entries, 0 to 196380\n",
      "Data columns (total 7 columns):\n",
      " #   Column              Non-Null Count   Dtype \n",
      "---  ------              --------------   ----- \n",
      " 0   Unnamed: 0          196381 non-null  int64 \n",
      " 1   username            196381 non-null  object\n",
      " 2   time                196381 non-null  object\n",
      " 3   event_type          196381 non-null  object\n",
      " 4   grouped_event_type  196381 non-null  object\n",
      " 5   chapter             184500 non-null  object\n",
      " 6   sequential          184500 non-null  object\n",
      "dtypes: int64(1), object(6)\n",
      "memory usage: 10.5+ MB\n"
     ]
    }
   ],
   "source": [
    "logs_validacion.info()"
   ],
   "metadata": {
    "collapsed": false,
    "ExecuteTime": {
     "end_time": "2023-11-06T14:07:02.763806300Z",
     "start_time": "2023-11-06T14:07:02.595429800Z"
    }
   }
  },
  {
   "cell_type": "code",
   "execution_count": 23,
   "outputs": [
    {
     "data": {
      "text/plain": "Unnamed: 0                0\nusername                  0\ntime                      0\nevent_type                0\ngrouped_event_type        0\nchapter               11881\nsequential            11881\ndtype: int64"
     },
     "execution_count": 23,
     "metadata": {},
     "output_type": "execute_result"
    }
   ],
   "source": [
    "logs_validacion.isna().sum()"
   ],
   "metadata": {
    "collapsed": false,
    "ExecuteTime": {
     "end_time": "2023-11-06T14:07:02.843765900Z",
     "start_time": "2023-11-06T14:07:02.747284800Z"
    }
   }
  },
  {
   "cell_type": "code",
   "execution_count": 24,
   "outputs": [],
   "source": [
    "# Genera nombres de usuario acortados automáticamente\n",
    "logs_validacion['user_id'] = ['u' + str(i+1) for i in range(len(logs_validacion))]\n",
    "\n",
    "# Crea un diccionario para mapear nombres acortados a nombres largos\n",
    "diccionario_mapeo = dict(zip(logs_validacion['user_id'], logs_validacion['username']))\n",
    "\n",
    "logs_validacion = logs_validacion.drop('username', axis=1)\n",
    "\n",
    "column_order = ['user_id'] + [col for col in logs_validacion if col != 'user_id']\n",
    "logs_validacion = logs_validacion[column_order]"
   ],
   "metadata": {
    "collapsed": false,
    "ExecuteTime": {
     "end_time": "2023-11-06T14:07:03.142487300Z",
     "start_time": "2023-11-06T14:07:02.818246800Z"
    }
   }
  },
  {
   "cell_type": "code",
   "execution_count": null,
   "outputs": [],
   "source": [
    "# GRAFICAR TODAS LAS VARIABLES NUMÉRICAS\n",
    "\n",
    "import plotly.graph_objects as go\n",
    "from plotly.subplots import make_subplots\n",
    "\n",
    "numeric = logs_validacion.select_dtypes([\"object\"]).columns\n",
    "n_cols = 2\n",
    "\n",
    "fig = make_subplots(\n",
    "    rows=len(numeric) // n_cols + 1, cols=n_cols, subplot_titles=numeric\n",
    ")\n",
    "\n",
    "for idx, col in enumerate(numeric):\n",
    "    row_idx = idx // n_cols + 1\n",
    "    col_idx = idx % n_cols + 1\n",
    "\n",
    "    hist = go.Histogram(x=logs_validacion.loc[:, col], name=col, histnorm=\"probability\")\n",
    "    fig.add_trace(hist, row=row_idx, col=col_idx)\n",
    "\n",
    "fig.update_layout(\n",
    "    height=2000,\n",
    "    title_text=\"Análisis Univariado de las Variables Object\",\n",
    "    showlegend=False,\n",
    ")\n",
    "fig.show()"
   ],
   "metadata": {
    "collapsed": false,
    "is_executing": true,
    "ExecuteTime": {
     "start_time": "2023-11-06T14:26:27.017334700Z"
    }
   }
  },
  {
   "cell_type": "code",
   "execution_count": 25,
   "outputs": [],
   "source": [],
   "metadata": {
    "collapsed": false
   }
  }
 ],
 "metadata": {
  "kernelspec": {
   "display_name": "Python 3",
   "language": "python",
   "name": "python3"
  },
  "language_info": {
   "codemirror_mode": {
    "name": "ipython",
    "version": 2
   },
   "file_extension": ".py",
   "mimetype": "text/x-python",
   "name": "python",
   "nbconvert_exporter": "python",
   "pygments_lexer": "ipython2",
   "version": "2.7.6"
  }
 },
 "nbformat": 4,
 "nbformat_minor": 0
}
