{
 "cells": [
  {
   "cell_type": "markdown",
   "metadata": {
    "collapsed": false
   },
   "source": [
    "# INGENIERÍA DE DATOS PARA LOGS\n",
    "\n",
    "El proceso a realizar es el siguiente:\n",
    "1. Imputación de datos\n",
    "2. Tratamiento de outliers\n",
    "3. Análisis descriptivo\n",
    "4. Transformación y escalamiento de atributos"
   ]
  },
  {
   "cell_type": "code",
   "execution_count": 2,
   "metadata": {
    "ExecuteTime": {
     "end_time": "2023-11-06T14:07:02.580944400Z",
     "start_time": "2023-11-06T14:07:02.105755Z"
    },
    "collapsed": true
   },
   "outputs": [],
   "source": [
    "import pandas as pd\n",
    "\n",
    "logs_validacion = pd.read_csv('logs_validacion.csv')"
   ]
  },
  {
   "cell_type": "code",
   "execution_count": 3,
   "metadata": {
    "ExecuteTime": {
     "end_time": "2023-11-06T14:07:02.594431300Z",
     "start_time": "2023-11-06T14:07:02.582952600Z"
    },
    "collapsed": false
   },
   "outputs": [
    {
     "data": {
      "text/html": [
       "<div>\n",
       "<style scoped>\n",
       "    .dataframe tbody tr th:only-of-type {\n",
       "        vertical-align: middle;\n",
       "    }\n",
       "\n",
       "    .dataframe tbody tr th {\n",
       "        vertical-align: top;\n",
       "    }\n",
       "\n",
       "    .dataframe thead th {\n",
       "        text-align: right;\n",
       "    }\n",
       "</style>\n",
       "<table border=\"1\" class=\"dataframe\">\n",
       "  <thead>\n",
       "    <tr style=\"text-align: right;\">\n",
       "      <th></th>\n",
       "      <th>Unnamed: 0</th>\n",
       "      <th>username</th>\n",
       "      <th>time</th>\n",
       "      <th>event_type</th>\n",
       "      <th>grouped_event_type</th>\n",
       "      <th>chapter</th>\n",
       "      <th>sequential</th>\n",
       "    </tr>\n",
       "  </thead>\n",
       "  <tbody>\n",
       "    <tr>\n",
       "      <th>0</th>\n",
       "      <td>36</td>\n",
       "      <td>05743498d061bf472df897f1e5bdda6d62e99312c952e3...</td>\n",
       "      <td>2022-08-04 16:49:20.799753+00:00</td>\n",
       "      <td>/courses/course-v1:eol+INXXXX+YYYY_Z/course/</td>\n",
       "      <td>/courses/(course-code)/course/</td>\n",
       "      <td>none_page</td>\n",
       "      <td>none_page</td>\n",
       "    </tr>\n",
       "    <tr>\n",
       "      <th>1</th>\n",
       "      <td>37</td>\n",
       "      <td>05743498d061bf472df897f1e5bdda6d62e99312c952e3...</td>\n",
       "      <td>2022-08-04 16:49:23.351461+00:00</td>\n",
       "      <td>edx.bi.course.upgrade.sidebarupsell.displayed</td>\n",
       "      <td>edx.bi.course.upgrade.sidebarupsell.displayed</td>\n",
       "      <td>NaN</td>\n",
       "      <td>NaN</td>\n",
       "    </tr>\n",
       "    <tr>\n",
       "      <th>2</th>\n",
       "      <td>38</td>\n",
       "      <td>05743498d061bf472df897f1e5bdda6d62e99312c952e3...</td>\n",
       "      <td>2022-08-04 16:50:47.651708+00:00</td>\n",
       "      <td>/courses/course-v1:eol+INXXXX+YYYY_Z/course_wiki</td>\n",
       "      <td>/courses/(course-code)/course_wiki</td>\n",
       "      <td>none_page</td>\n",
       "      <td>none_page</td>\n",
       "    </tr>\n",
       "    <tr>\n",
       "      <th>3</th>\n",
       "      <td>39</td>\n",
       "      <td>05743498d061bf472df897f1e5bdda6d62e99312c952e3...</td>\n",
       "      <td>2022-08-04 16:50:47.652441+00:00</td>\n",
       "      <td>edx.ui.lms.link_clicked</td>\n",
       "      <td>edx.ui.lms.link_clicked</td>\n",
       "      <td>NaN</td>\n",
       "      <td>NaN</td>\n",
       "    </tr>\n",
       "    <tr>\n",
       "      <th>4</th>\n",
       "      <td>40</td>\n",
       "      <td>05743498d061bf472df897f1e5bdda6d62e99312c952e3...</td>\n",
       "      <td>2022-08-04 16:50:47.824654+00:00</td>\n",
       "      <td>/courses/course-v1:eol+INXXXX+YYYY_Z/wiki/eol....</td>\n",
       "      <td>/courses/(course-code)/wiki/(course-code)/</td>\n",
       "      <td>none_page</td>\n",
       "      <td>none_page</td>\n",
       "    </tr>\n",
       "  </tbody>\n",
       "</table>\n",
       "</div>"
      ],
      "text/plain": [
       "   Unnamed: 0                                           username  \\\n",
       "0          36  05743498d061bf472df897f1e5bdda6d62e99312c952e3...   \n",
       "1          37  05743498d061bf472df897f1e5bdda6d62e99312c952e3...   \n",
       "2          38  05743498d061bf472df897f1e5bdda6d62e99312c952e3...   \n",
       "3          39  05743498d061bf472df897f1e5bdda6d62e99312c952e3...   \n",
       "4          40  05743498d061bf472df897f1e5bdda6d62e99312c952e3...   \n",
       "\n",
       "                               time  \\\n",
       "0  2022-08-04 16:49:20.799753+00:00   \n",
       "1  2022-08-04 16:49:23.351461+00:00   \n",
       "2  2022-08-04 16:50:47.651708+00:00   \n",
       "3  2022-08-04 16:50:47.652441+00:00   \n",
       "4  2022-08-04 16:50:47.824654+00:00   \n",
       "\n",
       "                                          event_type  \\\n",
       "0       /courses/course-v1:eol+INXXXX+YYYY_Z/course/   \n",
       "1      edx.bi.course.upgrade.sidebarupsell.displayed   \n",
       "2   /courses/course-v1:eol+INXXXX+YYYY_Z/course_wiki   \n",
       "3                            edx.ui.lms.link_clicked   \n",
       "4  /courses/course-v1:eol+INXXXX+YYYY_Z/wiki/eol....   \n",
       "\n",
       "                              grouped_event_type    chapter sequential  \n",
       "0                 /courses/(course-code)/course/  none_page  none_page  \n",
       "1  edx.bi.course.upgrade.sidebarupsell.displayed        NaN        NaN  \n",
       "2             /courses/(course-code)/course_wiki  none_page  none_page  \n",
       "3                        edx.ui.lms.link_clicked        NaN        NaN  \n",
       "4     /courses/(course-code)/wiki/(course-code)/  none_page  none_page  "
      ]
     },
     "execution_count": 3,
     "metadata": {},
     "output_type": "execute_result"
    }
   ],
   "source": [
    "logs_validacion.head()"
   ]
  },
  {
   "cell_type": "markdown",
   "metadata": {},
   "source": [
    "Se confirma que las columnas y eventos son del mismo tipo de entrenamiento."
   ]
  },
  {
   "cell_type": "code",
   "execution_count": 4,
   "metadata": {
    "ExecuteTime": {
     "end_time": "2023-11-06T14:07:02.763806300Z",
     "start_time": "2023-11-06T14:07:02.595429800Z"
    },
    "collapsed": false
   },
   "outputs": [
    {
     "name": "stdout",
     "output_type": "stream",
     "text": [
      "<class 'pandas.core.frame.DataFrame'>\n",
      "RangeIndex: 196381 entries, 0 to 196380\n",
      "Data columns (total 7 columns):\n",
      " #   Column              Non-Null Count   Dtype \n",
      "---  ------              --------------   ----- \n",
      " 0   Unnamed: 0          196381 non-null  int64 \n",
      " 1   username            196381 non-null  object\n",
      " 2   time                196381 non-null  object\n",
      " 3   event_type          196381 non-null  object\n",
      " 4   grouped_event_type  196381 non-null  object\n",
      " 5   chapter             184500 non-null  object\n",
      " 6   sequential          184500 non-null  object\n",
      "dtypes: int64(1), object(6)\n",
      "memory usage: 10.5+ MB\n"
     ]
    }
   ],
   "source": [
    "logs_validacion.info()"
   ]
  },
  {
   "cell_type": "code",
   "execution_count": 5,
   "metadata": {
    "ExecuteTime": {
     "end_time": "2023-11-06T14:07:02.843765900Z",
     "start_time": "2023-11-06T14:07:02.747284800Z"
    },
    "collapsed": false
   },
   "outputs": [
    {
     "data": {
      "text/plain": [
       "Unnamed: 0                0\n",
       "username                  0\n",
       "time                      0\n",
       "event_type                0\n",
       "grouped_event_type        0\n",
       "chapter               11881\n",
       "sequential            11881\n",
       "dtype: int64"
      ]
     },
     "execution_count": 5,
     "metadata": {},
     "output_type": "execute_result"
    }
   ],
   "source": [
    "logs_validacion.isna().sum()"
   ]
  },
  {
   "cell_type": "code",
   "execution_count": 10,
   "metadata": {},
   "outputs": [
    {
     "ename": "InvalidIndexError",
     "evalue": "(0         False\n1          True\n2         False\n3          True\n4         False\n          ...  \n196376    False\n196377     True\n196378     True\n196379    False\n196380    False\nName: chapter, Length: 196381, dtype: bool, 'grouped_event_type')",
     "output_type": "error",
     "traceback": [
      "\u001b[1;31m---------------------------------------------------------------------------\u001b[0m",
      "\u001b[1;31mTypeError\u001b[0m                                 Traceback (most recent call last)",
      "File \u001b[1;32mc:\\Python311\\Lib\\site-packages\\pandas\\core\\indexes\\base.py:3790\u001b[0m, in \u001b[0;36mIndex.get_loc\u001b[1;34m(self, key)\u001b[0m\n\u001b[0;32m   3789\u001b[0m \u001b[39mtry\u001b[39;00m:\n\u001b[1;32m-> 3790\u001b[0m     \u001b[39mreturn\u001b[39;00m \u001b[39mself\u001b[39;49m\u001b[39m.\u001b[39;49m_engine\u001b[39m.\u001b[39;49mget_loc(casted_key)\n\u001b[0;32m   3791\u001b[0m \u001b[39mexcept\u001b[39;00m \u001b[39mKeyError\u001b[39;00m \u001b[39mas\u001b[39;00m err:\n",
      "File \u001b[1;32mindex.pyx:152\u001b[0m, in \u001b[0;36mpandas._libs.index.IndexEngine.get_loc\u001b[1;34m()\u001b[0m\n",
      "File \u001b[1;32mindex.pyx:158\u001b[0m, in \u001b[0;36mpandas._libs.index.IndexEngine.get_loc\u001b[1;34m()\u001b[0m\n",
      "\u001b[1;31mTypeError\u001b[0m: '(0         False\n1          True\n2         False\n3          True\n4         False\n          ...  \n196376    False\n196377     True\n196378     True\n196379    False\n196380    False\nName: chapter, Length: 196381, dtype: bool, 'grouped_event_type')' is an invalid key",
      "\nDuring handling of the above exception, another exception occurred:\n",
      "\u001b[1;31mInvalidIndexError\u001b[0m                         Traceback (most recent call last)",
      "\u001b[1;32mc:\\Users\\djara\\Documents\\GitHub\\casoCDD\\ing-datos-logs_validacion.ipynb Cell 7\u001b[0m line \u001b[0;36m3\n\u001b[0;32m      <a href='vscode-notebook-cell:/c%3A/Users/djara/Documents/GitHub/casoCDD/ing-datos-logs_validacion.ipynb#X13sZmlsZQ%3D%3D?line=0'>1</a>\u001b[0m \u001b[39m# Se busca los grouped_event_type asociados a chapter\u001b[39;00m\n\u001b[1;32m----> <a href='vscode-notebook-cell:/c%3A/Users/djara/Documents/GitHub/casoCDD/ing-datos-logs_validacion.ipynb#X13sZmlsZQ%3D%3D?line=2'>3</a>\u001b[0m valores_unicos \u001b[39m=\u001b[39m logs_validacion[logs_validacion[\u001b[39m'\u001b[39;49m\u001b[39mchapter\u001b[39;49m\u001b[39m'\u001b[39;49m]\u001b[39m.\u001b[39;49misna(), \u001b[39m'\u001b[39;49m\u001b[39mgrouped_event_type\u001b[39;49m\u001b[39m'\u001b[39;49m]\u001b[39m.\u001b[39munique()\n\u001b[0;32m      <a href='vscode-notebook-cell:/c%3A/Users/djara/Documents/GitHub/casoCDD/ing-datos-logs_validacion.ipynb#X13sZmlsZQ%3D%3D?line=3'>4</a>\u001b[0m \u001b[39mprint\u001b[39m(valores_unicos)\n",
      "File \u001b[1;32mc:\\Python311\\Lib\\site-packages\\pandas\\core\\frame.py:3893\u001b[0m, in \u001b[0;36mDataFrame.__getitem__\u001b[1;34m(self, key)\u001b[0m\n\u001b[0;32m   3891\u001b[0m \u001b[39mif\u001b[39;00m \u001b[39mself\u001b[39m\u001b[39m.\u001b[39mcolumns\u001b[39m.\u001b[39mnlevels \u001b[39m>\u001b[39m \u001b[39m1\u001b[39m:\n\u001b[0;32m   3892\u001b[0m     \u001b[39mreturn\u001b[39;00m \u001b[39mself\u001b[39m\u001b[39m.\u001b[39m_getitem_multilevel(key)\n\u001b[1;32m-> 3893\u001b[0m indexer \u001b[39m=\u001b[39m \u001b[39mself\u001b[39;49m\u001b[39m.\u001b[39;49mcolumns\u001b[39m.\u001b[39;49mget_loc(key)\n\u001b[0;32m   3894\u001b[0m \u001b[39mif\u001b[39;00m is_integer(indexer):\n\u001b[0;32m   3895\u001b[0m     indexer \u001b[39m=\u001b[39m [indexer]\n",
      "File \u001b[1;32mc:\\Python311\\Lib\\site-packages\\pandas\\core\\indexes\\base.py:3802\u001b[0m, in \u001b[0;36mIndex.get_loc\u001b[1;34m(self, key)\u001b[0m\n\u001b[0;32m   3797\u001b[0m     \u001b[39mraise\u001b[39;00m \u001b[39mKeyError\u001b[39;00m(key) \u001b[39mfrom\u001b[39;00m \u001b[39merr\u001b[39;00m\n\u001b[0;32m   3798\u001b[0m \u001b[39mexcept\u001b[39;00m \u001b[39mTypeError\u001b[39;00m:\n\u001b[0;32m   3799\u001b[0m     \u001b[39m# If we have a listlike key, _check_indexing_error will raise\u001b[39;00m\n\u001b[0;32m   3800\u001b[0m     \u001b[39m#  InvalidIndexError. Otherwise we fall through and re-raise\u001b[39;00m\n\u001b[0;32m   3801\u001b[0m     \u001b[39m#  the TypeError.\u001b[39;00m\n\u001b[1;32m-> 3802\u001b[0m     \u001b[39mself\u001b[39;49m\u001b[39m.\u001b[39;49m_check_indexing_error(key)\n\u001b[0;32m   3803\u001b[0m     \u001b[39mraise\u001b[39;00m\n",
      "File \u001b[1;32mc:\\Python311\\Lib\\site-packages\\pandas\\core\\indexes\\base.py:5974\u001b[0m, in \u001b[0;36mIndex._check_indexing_error\u001b[1;34m(self, key)\u001b[0m\n\u001b[0;32m   5970\u001b[0m \u001b[39mdef\u001b[39;00m \u001b[39m_check_indexing_error\u001b[39m(\u001b[39mself\u001b[39m, key):\n\u001b[0;32m   5971\u001b[0m     \u001b[39mif\u001b[39;00m \u001b[39mnot\u001b[39;00m is_scalar(key):\n\u001b[0;32m   5972\u001b[0m         \u001b[39m# if key is not a scalar, directly raise an error (the code below\u001b[39;00m\n\u001b[0;32m   5973\u001b[0m         \u001b[39m# would convert to numpy arrays and raise later any way) - GH29926\u001b[39;00m\n\u001b[1;32m-> 5974\u001b[0m         \u001b[39mraise\u001b[39;00m InvalidIndexError(key)\n",
      "\u001b[1;31mInvalidIndexError\u001b[0m: (0         False\n1          True\n2         False\n3          True\n4         False\n          ...  \n196376    False\n196377     True\n196378     True\n196379    False\n196380    False\nName: chapter, Length: 196381, dtype: bool, 'grouped_event_type')"
     ]
    }
   ],
   "source": [
    "# Se busca los grouped_event_type asociados a chapter\n",
    "\n",
    "valores_unicos = logs_validacion[logs_validacion['chapter'].isna(), 'grouped_event_type'].unique()\n",
    "print(valores_unicos)"
   ]
  },
  {
   "cell_type": "code",
   "execution_count": null,
   "metadata": {
    "ExecuteTime": {
     "start_time": "2023-11-06T14:26:27.017334700Z"
    },
    "collapsed": false,
    "is_executing": true
   },
   "outputs": [],
   "source": [
    "# GRAFICAR TODAS LAS VARIABLES NUMÉRICAS\n",
    "\n",
    "import plotly.graph_objects as go\n",
    "from plotly.subplots import make_subplots\n",
    "\n",
    "numeric = logs_validacion.select_dtypes([\"object\"]).columns\n",
    "n_cols = 2\n",
    "\n",
    "fig = make_subplots(\n",
    "    rows=len(numeric) // n_cols + 1, cols=n_cols, subplot_titles=numeric\n",
    ")\n",
    "\n",
    "for idx, col in enumerate(numeric):\n",
    "    row_idx = idx // n_cols + 1\n",
    "    col_idx = idx % n_cols + 1\n",
    "\n",
    "    hist = go.Histogram(x=logs_validacion.loc[:, col], name=col, histnorm=\"probability\")\n",
    "    fig.add_trace(hist, row=row_idx, col=col_idx)\n",
    "\n",
    "fig.update_layout(\n",
    "    height=2000,\n",
    "    title_text=\"Análisis Univariado de las Variables Object\",\n",
    "    showlegend=False,\n",
    ")\n",
    "fig.show()"
   ]
  },
  {
   "cell_type": "code",
   "execution_count": 25,
   "metadata": {
    "collapsed": false
   },
   "outputs": [],
   "source": []
  }
 ],
 "metadata": {
  "kernelspec": {
   "display_name": "Python 3",
   "language": "python",
   "name": "python3"
  },
  "language_info": {
   "codemirror_mode": {
    "name": "ipython",
    "version": 3
   },
   "file_extension": ".py",
   "mimetype": "text/x-python",
   "name": "python",
   "nbconvert_exporter": "python",
   "pygments_lexer": "ipython3",
   "version": "3.11.5"
  }
 },
 "nbformat": 4,
 "nbformat_minor": 0
}
