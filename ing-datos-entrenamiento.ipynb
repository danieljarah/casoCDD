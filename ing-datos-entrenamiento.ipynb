{
 "cells": [
  {
   "cell_type": "markdown",
   "metadata": {},
   "source": [
    "# INGENIERÍA DE DATOS PARA LOGS\n",
    "\n",
    "El proceso a realizar es el siguiente:\n",
    "1. Imputación de datos\n",
    "2. Tratamiento de outliers\n",
    "3. Análisis descriptivo\n",
    "4. Transformación y escalamiento de atributos"
   ]
  },
  {
   "cell_type": "code",
   "execution_count": 15,
   "metadata": {},
   "outputs": [],
   "source": [
    "import pandas as pd\n",
    "\n",
    "logs_entrenamiento = pd.read_csv('logs_entrenamiento.csv')\n"
   ]
  },
  {
   "cell_type": "code",
   "execution_count": 16,
   "metadata": {},
   "outputs": [],
   "source": [
    "# Configuración de pandas\n",
    "pd.set_option('display.max_columns', None)"
   ]
  },
  {
   "cell_type": "code",
   "execution_count": 17,
   "metadata": {},
   "outputs": [
    {
     "data": {
      "text/html": [
       "<div>\n",
       "<style scoped>\n",
       "    .dataframe tbody tr th:only-of-type {\n",
       "        vertical-align: middle;\n",
       "    }\n",
       "\n",
       "    .dataframe tbody tr th {\n",
       "        vertical-align: top;\n",
       "    }\n",
       "\n",
       "    .dataframe thead th {\n",
       "        text-align: right;\n",
       "    }\n",
       "</style>\n",
       "<table border=\"1\" class=\"dataframe\">\n",
       "  <thead>\n",
       "    <tr style=\"text-align: right;\">\n",
       "      <th></th>\n",
       "      <th>Unnamed: 0</th>\n",
       "      <th>username</th>\n",
       "      <th>time</th>\n",
       "      <th>event_type</th>\n",
       "      <th>grouped_event_type</th>\n",
       "      <th>chapter</th>\n",
       "      <th>sequential</th>\n",
       "      <th>label</th>\n",
       "    </tr>\n",
       "  </thead>\n",
       "  <tbody>\n",
       "    <tr>\n",
       "      <th>0</th>\n",
       "      <td>90</td>\n",
       "      <td>2fb73a5b451fa1beba6a7e6c86cf66ab3d8bfa3fc256bb...</td>\n",
       "      <td>2022-08-04 21:19:49.001622+00:00</td>\n",
       "      <td>/courses/course-v1:eol+INXXXX+YYYY_Z/course/</td>\n",
       "      <td>/courses/(course-code)/course/</td>\n",
       "      <td>none_page</td>\n",
       "      <td>none_page</td>\n",
       "      <td>1</td>\n",
       "    </tr>\n",
       "    <tr>\n",
       "      <th>1</th>\n",
       "      <td>91</td>\n",
       "      <td>c5f32ddce577c3f4cce3bcdcb5c8e0e03933b5cc62fa18...</td>\n",
       "      <td>2022-08-04 21:27:46.305004+00:00</td>\n",
       "      <td>/courses/course-v1:eol+INXXXX+YYYY_Z/course/</td>\n",
       "      <td>/courses/(course-code)/course/</td>\n",
       "      <td>none_page</td>\n",
       "      <td>none_page</td>\n",
       "      <td>1</td>\n",
       "    </tr>\n",
       "    <tr>\n",
       "      <th>2</th>\n",
       "      <td>92</td>\n",
       "      <td>c5f32ddce577c3f4cce3bcdcb5c8e0e03933b5cc62fa18...</td>\n",
       "      <td>2022-08-04 21:27:47.169229+00:00</td>\n",
       "      <td>edx.bi.course.upgrade.sidebarupsell.displayed</td>\n",
       "      <td>edx.bi.course.upgrade.sidebarupsell.displayed</td>\n",
       "      <td>NaN</td>\n",
       "      <td>NaN</td>\n",
       "      <td>1</td>\n",
       "    </tr>\n",
       "    <tr>\n",
       "      <th>3</th>\n",
       "      <td>93</td>\n",
       "      <td>c5f32ddce577c3f4cce3bcdcb5c8e0e03933b5cc62fa18...</td>\n",
       "      <td>2022-08-04 21:29:28.915418+00:00</td>\n",
       "      <td>/courses/course-v1:eol+INXXXX+YYYY_Z/progress</td>\n",
       "      <td>/courses/(course-code)/progress</td>\n",
       "      <td>none_page</td>\n",
       "      <td>none_page</td>\n",
       "      <td>1</td>\n",
       "    </tr>\n",
       "    <tr>\n",
       "      <th>4</th>\n",
       "      <td>94</td>\n",
       "      <td>c5f32ddce577c3f4cce3bcdcb5c8e0e03933b5cc62fa18...</td>\n",
       "      <td>2022-08-04 21:29:28.921098+00:00</td>\n",
       "      <td>edx.ui.lms.link_clicked</td>\n",
       "      <td>edx.ui.lms.link_clicked</td>\n",
       "      <td>NaN</td>\n",
       "      <td>NaN</td>\n",
       "      <td>1</td>\n",
       "    </tr>\n",
       "  </tbody>\n",
       "</table>\n",
       "</div>"
      ],
      "text/plain": [
       "   Unnamed: 0                                           username  \\\n",
       "0          90  2fb73a5b451fa1beba6a7e6c86cf66ab3d8bfa3fc256bb...   \n",
       "1          91  c5f32ddce577c3f4cce3bcdcb5c8e0e03933b5cc62fa18...   \n",
       "2          92  c5f32ddce577c3f4cce3bcdcb5c8e0e03933b5cc62fa18...   \n",
       "3          93  c5f32ddce577c3f4cce3bcdcb5c8e0e03933b5cc62fa18...   \n",
       "4          94  c5f32ddce577c3f4cce3bcdcb5c8e0e03933b5cc62fa18...   \n",
       "\n",
       "                               time  \\\n",
       "0  2022-08-04 21:19:49.001622+00:00   \n",
       "1  2022-08-04 21:27:46.305004+00:00   \n",
       "2  2022-08-04 21:27:47.169229+00:00   \n",
       "3  2022-08-04 21:29:28.915418+00:00   \n",
       "4  2022-08-04 21:29:28.921098+00:00   \n",
       "\n",
       "                                      event_type  \\\n",
       "0   /courses/course-v1:eol+INXXXX+YYYY_Z/course/   \n",
       "1   /courses/course-v1:eol+INXXXX+YYYY_Z/course/   \n",
       "2  edx.bi.course.upgrade.sidebarupsell.displayed   \n",
       "3  /courses/course-v1:eol+INXXXX+YYYY_Z/progress   \n",
       "4                        edx.ui.lms.link_clicked   \n",
       "\n",
       "                              grouped_event_type    chapter sequential  label  \n",
       "0                 /courses/(course-code)/course/  none_page  none_page      1  \n",
       "1                 /courses/(course-code)/course/  none_page  none_page      1  \n",
       "2  edx.bi.course.upgrade.sidebarupsell.displayed        NaN        NaN      1  \n",
       "3                /courses/(course-code)/progress  none_page  none_page      1  \n",
       "4                        edx.ui.lms.link_clicked        NaN        NaN      1  "
      ]
     },
     "execution_count": 17,
     "metadata": {},
     "output_type": "execute_result"
    }
   ],
   "source": [
    "logs_entrenamiento.head()"
   ]
  },
  {
   "cell_type": "code",
   "execution_count": 7,
   "metadata": {},
   "outputs": [
    {
     "name": "stdout",
     "output_type": "stream",
     "text": [
      "<class 'pandas.core.frame.DataFrame'>\n",
      "RangeIndex: 536610 entries, 0 to 536609\n",
      "Data columns (total 8 columns):\n",
      " #   Column              Non-Null Count   Dtype \n",
      "---  ------              --------------   ----- \n",
      " 0   Unnamed: 0          536610 non-null  int64 \n",
      " 1   username            536610 non-null  object\n",
      " 2   time                536610 non-null  object\n",
      " 3   event_type          536610 non-null  object\n",
      " 4   grouped_event_type  536610 non-null  object\n",
      " 5   chapter             504699 non-null  object\n",
      " 6   sequential          504699 non-null  object\n",
      " 7   label               536610 non-null  int64 \n",
      "dtypes: int64(2), object(6)\n",
      "memory usage: 32.8+ MB\n"
     ]
    }
   ],
   "source": [
    "logs_entrenamiento.info()"
   ]
  },
  {
   "cell_type": "code",
   "execution_count": 18,
   "metadata": {},
   "outputs": [
    {
     "data": {
      "text/plain": [
       "Unnamed: 0                0\n",
       "username                  0\n",
       "time                      0\n",
       "event_type                0\n",
       "grouped_event_type        0\n",
       "chapter               31911\n",
       "sequential            31911\n",
       "label                     0\n",
       "dtype: int64"
      ]
     },
     "execution_count": 18,
     "metadata": {},
     "output_type": "execute_result"
    }
   ],
   "source": [
    "# Verificamos existencia de NA's (No hay, se traspasó bien el type object a float)\n",
    "logs_entrenamiento.isna().sum()"
   ]
  },
  {
   "cell_type": "markdown",
   "metadata": {},
   "source": [
    "# Eliminación de outlayers"
   ]
  },
  {
   "cell_type": "code",
   "execution_count": 19,
   "metadata": {},
   "outputs": [
    {
     "data": {
      "image/png": "[encoded data removed]",
      "text/plain": [
       "<Figure size 640x480 with 1 Axes>"
      ]
     },
     "metadata": {},
     "output_type": "display_data"
    }
   ],
   "source": [
    "import matplotlib.pyplot as plt\n",
    "\n",
    "plt.hist(logs_entrenamiento['username'], bins=500, edgecolor='black')  # 'bins' define el número de barras en el histograma\n",
    "\n",
    "# Personaliza el título y las etiquetas de los ejes\n",
    "plt.title('Cantidad de veces que un usuario interactuó')\n",
    "\n",
    "# Muestra el histograma\n",
    "plt.show()"
   ]
  },
  {
   "cell_type": "code",
   "execution_count": null,
   "metadata": {},
   "outputs": [],
   "source": [
    "# Supongamos que tienes un DataFrame llamado 'notas' y deseas eliminar personas con un número de registros por debajo o por encima de ciertos porcentajes.\n",
    "import pandas as pd\n",
    "\n",
    "# Define los umbrales como porcentajes relativos al número total de registros\n",
    "umbral_minimo_percent = 2  # Cambia este valor según tus necesidades\n",
    "umbral_maximo_percent = 98  # Cambia este valor según tus necesidades\n",
    "\n",
    "# Calcula el número mínimo y máximo de registros en función de estos porcentajes\n",
    "total_registros = len(notas)\n",
    "umbral_minimo = total_registros * umbral_minimo_percent / 100\n",
    "umbral_maximo = total_registros * umbral_maximo_percent / 100\n",
    "\n",
    "# Calcula el recuento de registros por persona\n",
    "recuento_por_persona = notas['persona'].value_counts()\n",
    "\n",
    "# Encuentra las personas que tienen un recuento de registros fuera de los umbrales\n",
    "personas_a_eliminar = recuento_por_persona[(recuento_por_persona < umbral_minimo) | (recuento_por_persona > umbral_maximo)].index\n",
    "\n",
    "# Filtra el DataFrame para eliminar las filas correspondientes\n",
    "notas_filtradas = notas[~notas['persona'].isin(personas_a_eliminar)]\n"
   ]
  },
  {
   "cell_type": "code",
   "execution_count": 29,
   "metadata": {},
   "outputs": [],
   "source": [
    "\n",
    "# Calcula el número mínimo y máximo de registros basados en el 5% más extremo\n",
    "umbral_minimo = logs_entrenamiento['username'].value_counts().quantile(0.05)\n",
    "umbral_maximo = logs_entrenamiento['username'].value_counts().quantile(0.95)\n",
    "\n",
    "# Filtra el DataFrame para eliminar las filas correspondientes\n",
    "logs_entrenamiento_filtrado = logs_entrenamiento[logs_entrenamiento.groupby('username')['username'].transform('count').between(umbral_minimo, umbral_maximo)]\n"
   ]
  },
  {
   "cell_type": "code",
   "execution_count": 30,
   "metadata": {},
   "outputs": [
    {
     "data": {
      "image/png": "[encoded data removed]",
      "text/plain": [
       "<Figure size 640x480 with 1 Axes>"
      ]
     },
     "metadata": {},
     "output_type": "display_data"
    }
   ],
   "source": [
    "plt.hist(logs_entrenamiento_filtrado['username'], bins=200, edgecolor='black')  # 'bins' define el número de barras en el histograma\n",
    "\n",
    "# Personaliza el título y las etiquetas de los ejes\n",
    "plt.title('Cantidad de veces que un usuario interactuó')\n",
    "\n",
    "# Muestra el histograma\n",
    "plt.show()"
   ]
  },
  {
   "cell_type": "code",
   "execution_count": null,
   "metadata": {},
   "outputs": [],
   "source": [
    "# Se puede ver que existe varianza en la cantidad de veces que una persona interactuó. Se decide eliminar outlayers."
   ]
  },
  {
   "cell_type": "code",
   "execution_count": 10,
   "metadata": {},
   "outputs": [
    {
     "name": "stdout",
     "output_type": "stream",
     "text": [
      "['none_page' nan '0' '1' '2' '3' '4'] ['none_page' nan '2' '1' '4' '0' '3' '5' '6' '7']\n"
     ]
    }
   ],
   "source": [
    "# Obtener valores únicos de sequential\n",
    "unique_values_sequential = logs_entrenamiento['sequential'].unique()\n",
    "unique_values_chapter = logs_entrenamiento['chapter'].unique()\n",
    "print(unique_values_sequential,unique_values_chapter)"
   ]
  },
  {
   "cell_type": "markdown",
   "metadata": {},
   "source": [
    "Si bien se puede ver que existen NA's, un análisis visual de los datos mostraría que estos NA's están asociados a un tipo especial de evento en la plataforma de EOL, aquellos que son de edx.\n",
    "\n",
    "# NOTA: REALIZAR UN ANÁLISIS DE CORRELACIÓN ENTRE UNO Y EL OTRO.\n",
    "Por ejemplo, un script que cuente la cantidad de veces que un NAN está asociado a un event type que inicie con el string edx"
   ]
  },
  {
   "cell_type": "code",
   "execution_count": null,
   "metadata": {},
   "outputs": [],
   "source": [
    "#CREAMOS UN DICCIONARIO CON PARA PODER GUARDAR A LOS USUARIOS CON NOMBRES MAS PEQUEÑOS\n",
    "\n",
    "\n",
    "# Genera nombres de usuario acortados automáticamente\n",
    "logs_entrenamiento['user_id'] = ['u' + str(i+1) for i in range(len(logs_entrenamiento))]\n",
    "\n",
    "# Crea un diccionario para mapear nombres acortados a nombres largos\n",
    "diccionario_mapeo = dict(zip(logs_entrenamiento['user_id'], logs_entrenamiento['username']))\n",
    "\n",
    "logs_entrenamiento = logs_entrenamiento.drop('username', axis=1)\n",
    "\n",
    "column_order = ['user_id'] + [col for col in logs_entrenamiento if col != 'user_id']\n",
    "logs_entrenamiento = logs_entrenamiento[column_order]\n",
    "\n",
    "\n",
    "#PARA ENCONTRAR A UN USUARIO SE USA LO SIGUIENTE\n",
    "#nombre_acortado = 'u2'\n",
    "#nombre_largo = diccionario_mapeo[nombre_acortado]\n",
    "\n",
    "#print(f\"Nombre largo correspondiente a '{nombre_acortado}': {nombre_largo}\")"
   ]
  }
 ],
 "metadata": {
  "kernelspec": {
   "display_name": "Python 3",
   "language": "python",
   "name": "python3"
  },
  "language_info": {
   "codemirror_mode": {
    "name": "ipython",
    "version": 3
   },
   "file_extension": ".py",
   "mimetype": "text/x-python",
   "name": "python",
   "nbconvert_exporter": "python",
   "pygments_lexer": "ipython3",
   "version": "3.11.5"
  }
 },
 "nbformat": 4,
 "nbformat_minor": 2
}
