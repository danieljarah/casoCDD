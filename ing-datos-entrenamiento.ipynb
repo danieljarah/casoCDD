{
 "cells": [
  {
   "cell_type": "markdown",
   "metadata": {},
   "source": [
    "# INGENIERÍA DE DATOS PARA logs_entrenamiento\n"
   ]
  },
  {
   "cell_type": "code",
   "execution_count": 32,
   "metadata": {},
   "outputs": [],
   "source": [
    "import pandas as pd\n",
    "\n",
    "logs_entrenamiento = pd.read_csv('logs_entrenamiento.csv')\n"
   ]
  },
  {
   "cell_type": "code",
   "execution_count": 33,
   "metadata": {},
   "outputs": [],
   "source": [
    "# Configuración de pandas\n",
    "pd.set_option('display.max_columns', None) # Que se muestren todas las columnas"
   ]
  },
  {
   "cell_type": "code",
   "execution_count": 34,
   "metadata": {},
   "outputs": [
    {
     "data": {
      "text/html": [
       "<div>\n",
       "<style scoped>\n",
       "    .dataframe tbody tr th:only-of-type {\n",
       "        vertical-align: middle;\n",
       "    }\n",
       "\n",
       "    .dataframe tbody tr th {\n",
       "        vertical-align: top;\n",
       "    }\n",
       "\n",
       "    .dataframe thead th {\n",
       "        text-align: right;\n",
       "    }\n",
       "</style>\n",
       "<table border=\"1\" class=\"dataframe\">\n",
       "  <thead>\n",
       "    <tr style=\"text-align: right;\">\n",
       "      <th></th>\n",
       "      <th>Unnamed: 0</th>\n",
       "      <th>username</th>\n",
       "      <th>time</th>\n",
       "      <th>event_type</th>\n",
       "      <th>grouped_event_type</th>\n",
       "      <th>chapter</th>\n",
       "      <th>sequential</th>\n",
       "      <th>label</th>\n",
       "    </tr>\n",
       "  </thead>\n",
       "  <tbody>\n",
       "    <tr>\n",
       "      <th>0</th>\n",
       "      <td>90</td>\n",
       "      <td>2fb73a5b451fa1beba6a7e6c86cf66ab3d8bfa3fc256bb...</td>\n",
       "      <td>2022-08-04 21:19:49.001622+00:00</td>\n",
       "      <td>/courses/course-v1:eol+INXXXX+YYYY_Z/course/</td>\n",
       "      <td>/courses/(course-code)/course/</td>\n",
       "      <td>none_page</td>\n",
       "      <td>none_page</td>\n",
       "      <td>1</td>\n",
       "    </tr>\n",
       "    <tr>\n",
       "      <th>1</th>\n",
       "      <td>91</td>\n",
       "      <td>c5f32ddce577c3f4cce3bcdcb5c8e0e03933b5cc62fa18...</td>\n",
       "      <td>2022-08-04 21:27:46.305004+00:00</td>\n",
       "      <td>/courses/course-v1:eol+INXXXX+YYYY_Z/course/</td>\n",
       "      <td>/courses/(course-code)/course/</td>\n",
       "      <td>none_page</td>\n",
       "      <td>none_page</td>\n",
       "      <td>1</td>\n",
       "    </tr>\n",
       "    <tr>\n",
       "      <th>2</th>\n",
       "      <td>92</td>\n",
       "      <td>c5f32ddce577c3f4cce3bcdcb5c8e0e03933b5cc62fa18...</td>\n",
       "      <td>2022-08-04 21:27:47.169229+00:00</td>\n",
       "      <td>edx.bi.course.upgrade.sidebarupsell.displayed</td>\n",
       "      <td>edx.bi.course.upgrade.sidebarupsell.displayed</td>\n",
       "      <td>NaN</td>\n",
       "      <td>NaN</td>\n",
       "      <td>1</td>\n",
       "    </tr>\n",
       "    <tr>\n",
       "      <th>3</th>\n",
       "      <td>93</td>\n",
       "      <td>c5f32ddce577c3f4cce3bcdcb5c8e0e03933b5cc62fa18...</td>\n",
       "      <td>2022-08-04 21:29:28.915418+00:00</td>\n",
       "      <td>/courses/course-v1:eol+INXXXX+YYYY_Z/progress</td>\n",
       "      <td>/courses/(course-code)/progress</td>\n",
       "      <td>none_page</td>\n",
       "      <td>none_page</td>\n",
       "      <td>1</td>\n",
       "    </tr>\n",
       "    <tr>\n",
       "      <th>4</th>\n",
       "      <td>94</td>\n",
       "      <td>c5f32ddce577c3f4cce3bcdcb5c8e0e03933b5cc62fa18...</td>\n",
       "      <td>2022-08-04 21:29:28.921098+00:00</td>\n",
       "      <td>edx.ui.lms.link_clicked</td>\n",
       "      <td>edx.ui.lms.link_clicked</td>\n",
       "      <td>NaN</td>\n",
       "      <td>NaN</td>\n",
       "      <td>1</td>\n",
       "    </tr>\n",
       "  </tbody>\n",
       "</table>\n",
       "</div>"
      ],
      "text/plain": [
       "   Unnamed: 0                                           username  \\\n",
       "0          90  2fb73a5b451fa1beba6a7e6c86cf66ab3d8bfa3fc256bb...   \n",
       "1          91  c5f32ddce577c3f4cce3bcdcb5c8e0e03933b5cc62fa18...   \n",
       "2          92  c5f32ddce577c3f4cce3bcdcb5c8e0e03933b5cc62fa18...   \n",
       "3          93  c5f32ddce577c3f4cce3bcdcb5c8e0e03933b5cc62fa18...   \n",
       "4          94  c5f32ddce577c3f4cce3bcdcb5c8e0e03933b5cc62fa18...   \n",
       "\n",
       "                               time  \\\n",
       "0  2022-08-04 21:19:49.001622+00:00   \n",
       "1  2022-08-04 21:27:46.305004+00:00   \n",
       "2  2022-08-04 21:27:47.169229+00:00   \n",
       "3  2022-08-04 21:29:28.915418+00:00   \n",
       "4  2022-08-04 21:29:28.921098+00:00   \n",
       "\n",
       "                                      event_type  \\\n",
       "0   /courses/course-v1:eol+INXXXX+YYYY_Z/course/   \n",
       "1   /courses/course-v1:eol+INXXXX+YYYY_Z/course/   \n",
       "2  edx.bi.course.upgrade.sidebarupsell.displayed   \n",
       "3  /courses/course-v1:eol+INXXXX+YYYY_Z/progress   \n",
       "4                        edx.ui.lms.link_clicked   \n",
       "\n",
       "                              grouped_event_type    chapter sequential  label  \n",
       "0                 /courses/(course-code)/course/  none_page  none_page      1  \n",
       "1                 /courses/(course-code)/course/  none_page  none_page      1  \n",
       "2  edx.bi.course.upgrade.sidebarupsell.displayed        NaN        NaN      1  \n",
       "3                /courses/(course-code)/progress  none_page  none_page      1  \n",
       "4                        edx.ui.lms.link_clicked        NaN        NaN      1  "
      ]
     },
     "execution_count": 34,
     "metadata": {},
     "output_type": "execute_result"
    }
   ],
   "source": [
    "logs_entrenamiento.head()"
   ]
  },
  {
   "cell_type": "markdown",
   "metadata": {},
   "source": [
    "Se puede notar que los datos son de los momentos en que una persona interactúa con la página. Existen tipos de interacciones o eventos. Ellos estan asociados a una persona, una momento en el tiempo y una sección (chapter) y subsección (sequential) de página."
   ]
  },
  {
   "cell_type": "code",
   "execution_count": 35,
   "metadata": {},
   "outputs": [
    {
     "name": "stdout",
     "output_type": "stream",
     "text": [
      "<class 'pandas.core.frame.DataFrame'>\n",
      "RangeIndex: 536610 entries, 0 to 536609\n",
      "Data columns (total 8 columns):\n",
      " #   Column              Non-Null Count   Dtype \n",
      "---  ------              --------------   ----- \n",
      " 0   Unnamed: 0          536610 non-null  int64 \n",
      " 1   username            536610 non-null  object\n",
      " 2   time                536610 non-null  object\n",
      " 3   event_type          536610 non-null  object\n",
      " 4   grouped_event_type  536610 non-null  object\n",
      " 5   chapter             504699 non-null  object\n",
      " 6   sequential          504699 non-null  object\n",
      " 7   label               536610 non-null  int64 \n",
      "dtypes: int64(2), object(6)\n",
      "memory usage: 32.8+ MB\n"
     ]
    }
   ],
   "source": [
    "logs_entrenamiento.info()"
   ]
  },
  {
   "cell_type": "code",
   "execution_count": 36,
   "metadata": {},
   "outputs": [
    {
     "data": {
      "text/plain": [
       "Unnamed: 0                0\n",
       "username                  0\n",
       "time                      0\n",
       "event_type                0\n",
       "grouped_event_type        0\n",
       "chapter               31911\n",
       "sequential            31911\n",
       "label                     0\n",
       "dtype: int64"
      ]
     },
     "execution_count": 36,
     "metadata": {},
     "output_type": "execute_result"
    }
   ],
   "source": [
    "# Verificamos existencia de NA's\n",
    "logs_entrenamiento.isna().sum()"
   ]
  },
  {
   "cell_type": "markdown",
   "metadata": {},
   "source": [
    "Se observa que los NA estan asociados a las variables de chapter y sequential."
   ]
  },
  {
   "cell_type": "code",
   "execution_count": 45,
   "metadata": {},
   "outputs": [
    {
     "name": "stdout",
     "output_type": "stream",
     "text": [
      "['edx.bi.course.upgrade.sidebarupsell.displayed' 'edx.ui.lms.link_clicked'\n",
      " 'edx.course.home.resume_course.clicked' 'edx.course.tool.accessed']\n"
     ]
    }
   ],
   "source": [
    "# Se busca los grouped_event_type asociados a chapter\n",
    "\n",
    "valores_unicos = logs_entrenamiento[logs_entrenamiento['chapter'].isna(), 'grouped_event_type'].unique()\n",
    "print(valores_unicos)"
   ]
  },
  {
   "cell_type": "code",
   "execution_count": 47,
   "metadata": {},
   "outputs": [
    {
     "name": "stdout",
     "output_type": "stream",
     "text": [
      "['/courses/(course-code)/course/'\n",
      " 'edx.bi.course.upgrade.sidebarupsell.displayed'\n",
      " '/courses/(course-code)/progress' 'edx.ui.lms.link_clicked'\n",
      " '/courses/(course-code)/(uuid-course)/'\n",
      " '/courses/(course-code)/course_wiki'\n",
      " '/courses/(course-code)/wiki/(course-code)/'\n",
      " '/courses/(course-code)/discussion/(discussion-id)/'\n",
      " '/courses/(course-code)/jump_to/(block-code)@vertical@(uuid)'\n",
      " '/courses/(course-code)/courseware/(uuid1)/(uuid2)/(tab-n)'\n",
      " '/courses/(course-code)/xblock/block-v1:(block-code)@html+block@(uuid)/handler/publish_completion'\n",
      " 'edx.ui.lms.sequence.next_selected'\n",
      " '/courses/(course-code)/courseware/(uuid-code1)/(uuid-code2)/(some-path)'\n",
      " 'load_video'\n",
      " '/courses/(course-code)/xblock/block-v1:(block-code)@sequential+block@(uuid)/handler/xmodule_handler/get_completion'\n",
      " '/courses/(course-code)/xblock/block-v1:(block-code)@sequential+block@(uuid)/handler/xmodule_handler/goto_position'\n",
      " 'seq_goto' 'play_video' 'pause_video' 'seek_video' 'page_close'\n",
      " '/courses/(course-code)/xblock/block-v1:(block-code)@problem+block@(uuid)/handler/xmodule_handler/problem_check'\n",
      " 'problem_check' 'problem_graded' 'seq_next'\n",
      " 'edx.ui.lms.sequence.previous_selected' 'seq_prev' 'stop_video'\n",
      " '/courses/(course-code)/jump_to/(block-code)@course+block'\n",
      " 'edx.course.home.resume_course.clicked'\n",
      " '/courses/(course-code)/courseware'\n",
      " '/courses/(course-code)/discussion/(discussion-id)//(inline-id)/inline'\n",
      " '/courses/(course-code)/jump_to/(block-code)@html@(uuid)'\n",
      " 'speed_change_video'\n",
      " '/courses/(course-code)/discussion/(discussion-id)/(thread-id)/threads/(thread-id)'\n",
      " '/courses/(course-code)/discussion/(discussion-id)/course/inline'\n",
      " '/courses/(course-code)/discussion/(discussion-id)/(1 * hash-id)/(inline-id)/inline'\n",
      " '/courses/(course-code)/bookmarks/' 'edx.course.tool.accessed'\n",
      " '/courses/(course-code)/xblock/block-v1:(block-code)@problem+block@(uuid)/handler/xmodule_handler/problem_show'\n",
      " 'problem_show'\n",
      " '/courses/(course-code)/xblock/block-v1:(block-code)@problem+block@(uuid)/handler/xmodule_handler/problem_save'\n",
      " 'problem_save'\n",
      " '/courses/(course-code)/discussion/(discussion-id)/threads/(thread-id)'\n",
      " '/courses/(course-code)/discussion/(discussion-id)/(thread-id)/update'\n",
      " '/courses/(course-code)/discussion/(discussion-id)/(thread-id)/reply'\n",
      " '/courses/(course-code)/discussion/(discussion-id)/users/(user-id)'\n",
      " '/courses/(course-code)/jump_to/(block-code)@sequential@(uuid)'\n",
      " '/courses/(course-code)/discussion/(discussion-id)/(thread-id)/upvote'\n",
      " '/courses/(course-code)/discussion/(discussion-id)/users/(user-id)/followed'\n",
      " '/courses/(course-code)/discussion/(discussion-id)/(thread-id)/unfollow'\n",
      " '/courses/(course-code)/discussion/(discussion-id)/(thread-id)/follow'\n",
      " '/courses/(course-code)/jump_to/(block-code)@problem@(uuid)'\n",
      " '/courses/(course-code)/discussion/(discussion-id)/(comment-id)/reply'\n",
      " '/courses/(course-code)/discussion/(discussion-id)/search'\n",
      " '/courses/(course-code)/discussion/(discussion-id)'\n",
      " '/courses/(course-code)/wiki/']\n"
     ]
    }
   ],
   "source": [
    "# Se busca los casos únicos de grouped_event_type\n",
    "valores_unicos = logs_entrenamiento['grouped_event_type'].unique()\n",
    "print(valores_unicos)"
   ]
  },
  {
   "cell_type": "markdown",
   "metadata": {},
   "source": [
    "Se puede ver que los NA estan asociados a un típico específico de dato, es decir, es probable que estos NA no se deban a una falta de un dato existente, sino que, el tipo de registro asociado a edx no posee chapter ni sequential. En consecuencia, se decide no eliminar los NA"
   ]
  },
  {
   "cell_type": "markdown",
   "metadata": {},
   "source": [
    "# Eliminación de outliers"
   ]
  },
  {
   "cell_type": "code",
   "execution_count": 37,
   "metadata": {},
   "outputs": [
    {
     "data": {
      "image/png": "[encoded data removed]",
      "text/plain": [
       "<Figure size 640x480 with 1 Axes>"
      ]
     },
     "metadata": {},
     "output_type": "display_data"
    }
   ],
   "source": [
    "import matplotlib.pyplot as plt\n",
    "\n",
    "plt.hist(logs_entrenamiento['username'], bins=500, edgecolor='black')  # 'bins' define el número de barras en el histograma\n",
    "\n",
    "# Personaliza el título y las etiquetas de los ejes\n",
    "plt.title('Cantidad de veces que un usuario interactuó')\n",
    "\n",
    "# Muestra el histograma\n",
    "plt.show()"
   ]
  },
  {
   "cell_type": "markdown",
   "metadata": {},
   "source": [
    "En la eliminación de outlayers, se debe notar que es posible que aquellas personas que menos interactúan con la página, sean las personas que tienen las peores notas. Por lo tanto, se decide eliminar a los outlayers superiores únicamente."
   ]
  },
  {
   "cell_type": "code",
   "execution_count": 44,
   "metadata": {},
   "outputs": [],
   "source": [
    "\n",
    "# Calcula el número mínimo y máximo de registros basados en el 5% más extremo\n",
    "umbral_minimo = logs_entrenamiento['username'].value_counts().quantile(0.00)\n",
    "umbral_maximo = logs_entrenamiento['username'].value_counts().quantile(0.90)\n",
    "\n",
    "# Filtra el DataFrame para eliminar las filas correspondientes\n",
    "logs_entrenamiento_filtrado = logs_entrenamiento[logs_entrenamiento.groupby('username')['username'].transform('count').between(umbral_minimo, umbral_maximo)]\n",
    "\n",
    "logs_entrenamiento_filtrado.to_csv('logs_entrenamiento_filtrado.csv', index=True)"
   ]
  },
  {
   "cell_type": "code",
   "execution_count": 43,
   "metadata": {},
   "outputs": [
    {
     "data": {
      "image/png": "[encoded data removed]",
      "text/plain": [
       "<Figure size 640x480 with 1 Axes>"
      ]
     },
     "metadata": {},
     "output_type": "display_data"
    }
   ],
   "source": [
    "plt.hist(logs_entrenamiento_filtrado['username'], bins=200, edgecolor='black')  # 'bins' define el número de barras en el histograma\n",
    "\n",
    "# Personaliza el título y las etiquetas de los ejes\n",
    "plt.title('Cantidad de veces que un usuario interactuó')\n",
    "\n",
    "# Muestra el histograma\n",
    "plt.show()"
   ]
  }
 ],
 "metadata": {
  "kernelspec": {
   "display_name": "Python 3",
   "language": "python",
   "name": "python3"
  },
  "language_info": {
   "codemirror_mode": {
    "name": "ipython",
    "version": 3
   },
   "file_extension": ".py",
   "mimetype": "text/x-python",
   "name": "python",
   "nbconvert_exporter": "python",
   "pygments_lexer": "ipython3",
   "version": "3.11.5"
  }
 },
 "nbformat": 4,
 "nbformat_minor": 2
}
