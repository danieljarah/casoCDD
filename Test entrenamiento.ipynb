{
 "cells": [
  {
   "cell_type": "code",
   "execution_count": 17,
   "metadata": {},
   "outputs": [],
   "source": [
    "import pandas as pd\n",
    "\n",
    "from sklearn.ensemble import RandomForestClassifier\n",
    "from sklearn.model_selection import train_test_split\n",
    "from sklearn.metrics import accuracy_score, classification_report"
   ]
  },
  {
   "cell_type": "code",
   "execution_count": 18,
   "metadata": {},
   "outputs": [],
   "source": [
    "df_entrenamiento = pd.read_csv('df_entrenamiento.csv')"
   ]
  },
  {
   "cell_type": "code",
   "execution_count": 19,
   "metadata": {},
   "outputs": [],
   "source": [
    "df_entrenamiento = df_entrenamiento.drop(['username', 'Username'], axis=1)"
   ]
  },
  {
   "cell_type": "code",
   "execution_count": 20,
   "metadata": {},
   "outputs": [
    {
     "name": "stdout",
     "output_type": "stream",
     "text": [
      "No se encontraron columnas de tipo string en el DataFrame.\n"
     ]
    }
   ],
   "source": [
    "# Supongamos que tienes un DataFrame llamado \"df\"\n",
    "# Reemplaza \"df\" con el nombre real de tu DataFrame\n",
    "\n",
    "# Obtiene una lista de las columnas de tipo string\n",
    "columnas_string = df_entrenamiento.select_dtypes(include=['object']).columns\n",
    "\n",
    "# Verifica si hay columnas de tipo string y las imprime\n",
    "if not columnas_string.empty:\n",
    "    print(\"Columnas de tipo string:\")\n",
    "    for columna in columnas_string:\n",
    "        print(columna)\n",
    "else:\n",
    "    print(\"No se encontraron columnas de tipo string en el DataFrame.\")\n"
   ]
  },
  {
   "cell_type": "code",
   "execution_count": 21,
   "metadata": {},
   "outputs": [
    {
     "name": "stdout",
     "output_type": "stream",
     "text": [
      "Exactitud del modelo: 0.7906976744186046\n",
      "\n",
      "Informe de clasificación:\n",
      "               precision    recall  f1-score   support\n",
      "\n",
      "           0       1.00      0.10      0.18        10\n",
      "           1       0.79      1.00      0.88        33\n",
      "\n",
      "    accuracy                           0.79        43\n",
      "   macro avg       0.89      0.55      0.53        43\n",
      "weighted avg       0.84      0.79      0.72        43\n",
      "\n"
     ]
    }
   ],
   "source": [
    "\n",
    "\n",
    "# Supongamos que tienes un DataFrame llamado \"df_entrenamiento\" con tus datos de entrenamiento\n",
    "# Reemplaza \"df_entrenamiento\" con el nombre real de tu DataFrame\n",
    "\n",
    "# Separar las características (X) y la variable objetivo (y)\n",
    "X = df_entrenamiento.drop('label', axis=1)  # Reemplaza 'target_column' con el nombre de tu variable objetivo\n",
    "y = df_entrenamiento['label']  # Reemplaza 'target_column' con el nombre de tu variable objetivo\n",
    "\n",
    "# Dividir el conjunto de entrenamiento en entrenamiento y prueba\n",
    "X_train, X_test, y_train, y_test = train_test_split(X, y, test_size=0.1, random_state=314159)  # Ajusta el tamaño de prueba según tus necesidades\n",
    "\n",
    "# Inicializar y entrenar el modelo de Random Forest\n",
    "modelo_rf = RandomForestClassifier(n_estimators=100, random_state=314159)  # Puedes ajustar el número de estimadores según tus necesidades\n",
    "modelo_rf.fit(X_train, y_train)\n",
    "\n",
    "# Realizar predicciones en el conjunto de prueba\n",
    "y_pred = modelo_rf.predict(X_test)\n",
    "\n",
    "# Evaluar el modelo\n",
    "accuracy = accuracy_score(y_test, y_pred)\n",
    "print(\"Exactitud del modelo:\", accuracy)\n",
    "\n",
    "# Mostrar el informe de clasificación\n",
    "print(\"\\nInforme de clasificación:\\n\", classification_report(y_test, y_pred))\n"
   ]
  }
 ],
 "metadata": {
  "kernelspec": {
   "display_name": "Lab_6",
   "language": "python",
   "name": "python3"
  },
  "language_info": {
   "codemirror_mode": {
    "name": "ipython",
    "version": 3
   },
   "file_extension": ".py",
   "mimetype": "text/x-python",
   "name": "python",
   "nbconvert_exporter": "python",
   "pygments_lexer": "ipython3",
   "version": "3.11.5"
  }
 },
 "nbformat": 4,
 "nbformat_minor": 2
}
