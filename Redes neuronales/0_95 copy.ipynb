{
 "cells": [
  {
   "cell_type": "code",
   "execution_count": 1,
   "metadata": {},
   "outputs": [],
   "source": [
    "import pandas as pd"
   ]
  },
  {
   "cell_type": "code",
   "execution_count": 2,
   "metadata": {},
   "outputs": [],
   "source": [
    "df_entrenamiento = pd.read_csv('C:/Users/tomas/OneDrive - Universidad de Chile/Semestre 2023-2 Archivos/Laboratorio de Programación Científica/Laboratorios/Github/casoCDD/Cruce/data_para_entrenar.csv')\n",
    "df_entrenamiento = pd.read_csv('C:/Users/tomas/OneDrive - Universidad de Chile/Semestre 2023-2 Archivos/Laboratorio de Programación Científica/Laboratorios/Github/casoCDD/Oversampling/df_entrenamiento_sobre.csv')\n",
    "df_validacion = pd.read_csv('C:/Users/tomas/OneDrive - Universidad de Chile/Semestre 2023-2 Archivos/Laboratorio de Programación Científica/Laboratorios/Github/casoCDD/data_para_validar.csv')"
   ]
  },
  {
   "cell_type": "code",
   "execution_count": 3,
   "metadata": {},
   "outputs": [
    {
     "data": {
      "text/html": [
       "<div>\n",
       "<style scoped>\n",
       "    .dataframe tbody tr th:only-of-type {\n",
       "        vertical-align: middle;\n",
       "    }\n",
       "\n",
       "    .dataframe tbody tr th {\n",
       "        vertical-align: top;\n",
       "    }\n",
       "\n",
       "    .dataframe thead th {\n",
       "        text-align: right;\n",
       "    }\n",
       "</style>\n",
       "<table border=\"1\" class=\"dataframe\">\n",
       "  <thead>\n",
       "    <tr style=\"text-align: right;\">\n",
       "      <th></th>\n",
       "      <th>Unnamed: 0.1</th>\n",
       "      <th>Unnamed: 0</th>\n",
       "      <th>grade</th>\n",
       "      <th>seq_4_avg</th>\n",
       "      <th>quiz_avg</th>\n",
       "      <th>seq_0_avg</th>\n",
       "      <th>seq_1_avg</th>\n",
       "      <th>seq_2_avg</th>\n",
       "      <th>seq_3_avg</th>\n",
       "      <th>duracion_sesion_avg</th>\n",
       "      <th>...</th>\n",
       "      <th>pause_video_mean</th>\n",
       "      <th>pause_video_std</th>\n",
       "      <th>speed_change_video_mean</th>\n",
       "      <th>speed_change_video_std</th>\n",
       "      <th>num_eventos_seq_0</th>\n",
       "      <th>num_eventos_seq_1</th>\n",
       "      <th>num_eventos_seq_2</th>\n",
       "      <th>num_eventos_seq_3</th>\n",
       "      <th>num_eventos_seq_4</th>\n",
       "      <th>label</th>\n",
       "    </tr>\n",
       "  </thead>\n",
       "  <tbody>\n",
       "    <tr>\n",
       "      <th>0</th>\n",
       "      <td>0</td>\n",
       "      <td>0</td>\n",
       "      <td>1.000000</td>\n",
       "      <td>1.0</td>\n",
       "      <td>0.965517</td>\n",
       "      <td>1.000000</td>\n",
       "      <td>1.000000</td>\n",
       "      <td>1.000000</td>\n",
       "      <td>1.00000</td>\n",
       "      <td>4.944454</td>\n",
       "      <td>...</td>\n",
       "      <td>8.700000</td>\n",
       "      <td>7.409453</td>\n",
       "      <td>0.300000</td>\n",
       "      <td>0.674949</td>\n",
       "      <td>76.000000</td>\n",
       "      <td>384.000000</td>\n",
       "      <td>128.000000</td>\n",
       "      <td>16.000000</td>\n",
       "      <td>20.000000</td>\n",
       "      <td>1</td>\n",
       "    </tr>\n",
       "    <tr>\n",
       "      <th>1</th>\n",
       "      <td>1</td>\n",
       "      <td>1032</td>\n",
       "      <td>0.990000</td>\n",
       "      <td>1.0</td>\n",
       "      <td>0.956897</td>\n",
       "      <td>1.000000</td>\n",
       "      <td>0.977273</td>\n",
       "      <td>1.000000</td>\n",
       "      <td>1.00000</td>\n",
       "      <td>2.410485</td>\n",
       "      <td>...</td>\n",
       "      <td>4.428571</td>\n",
       "      <td>5.957727</td>\n",
       "      <td>0.142857</td>\n",
       "      <td>0.363137</td>\n",
       "      <td>70.000000</td>\n",
       "      <td>168.000000</td>\n",
       "      <td>90.000000</td>\n",
       "      <td>16.000000</td>\n",
       "      <td>6.000000</td>\n",
       "      <td>1</td>\n",
       "    </tr>\n",
       "    <tr>\n",
       "      <th>2</th>\n",
       "      <td>2</td>\n",
       "      <td>1734</td>\n",
       "      <td>1.000000</td>\n",
       "      <td>1.0</td>\n",
       "      <td>0.965517</td>\n",
       "      <td>1.000000</td>\n",
       "      <td>1.000000</td>\n",
       "      <td>1.000000</td>\n",
       "      <td>1.00000</td>\n",
       "      <td>3.794893</td>\n",
       "      <td>...</td>\n",
       "      <td>7.571429</td>\n",
       "      <td>10.399863</td>\n",
       "      <td>0.142857</td>\n",
       "      <td>0.478091</td>\n",
       "      <td>197.000000</td>\n",
       "      <td>346.000000</td>\n",
       "      <td>151.000000</td>\n",
       "      <td>47.000000</td>\n",
       "      <td>8.000000</td>\n",
       "      <td>1</td>\n",
       "    </tr>\n",
       "    <tr>\n",
       "      <th>3</th>\n",
       "      <td>3</td>\n",
       "      <td>2898</td>\n",
       "      <td>0.880000</td>\n",
       "      <td>1.0</td>\n",
       "      <td>0.850690</td>\n",
       "      <td>0.625000</td>\n",
       "      <td>0.909091</td>\n",
       "      <td>0.907778</td>\n",
       "      <td>1.00000</td>\n",
       "      <td>4.008391</td>\n",
       "      <td>...</td>\n",
       "      <td>13.600000</td>\n",
       "      <td>22.487457</td>\n",
       "      <td>0.600000</td>\n",
       "      <td>1.298351</td>\n",
       "      <td>177.000000</td>\n",
       "      <td>466.000000</td>\n",
       "      <td>201.000000</td>\n",
       "      <td>33.000000</td>\n",
       "      <td>9.000000</td>\n",
       "      <td>1</td>\n",
       "    </tr>\n",
       "    <tr>\n",
       "      <th>4</th>\n",
       "      <td>4</td>\n",
       "      <td>4203</td>\n",
       "      <td>1.000000</td>\n",
       "      <td>1.0</td>\n",
       "      <td>0.965517</td>\n",
       "      <td>1.000000</td>\n",
       "      <td>1.000000</td>\n",
       "      <td>1.000000</td>\n",
       "      <td>1.00000</td>\n",
       "      <td>9.352263</td>\n",
       "      <td>...</td>\n",
       "      <td>15.333333</td>\n",
       "      <td>25.263319</td>\n",
       "      <td>0.777778</td>\n",
       "      <td>1.060275</td>\n",
       "      <td>264.000000</td>\n",
       "      <td>810.000000</td>\n",
       "      <td>80.000000</td>\n",
       "      <td>19.000000</td>\n",
       "      <td>11.000000</td>\n",
       "      <td>0</td>\n",
       "    </tr>\n",
       "    <tr>\n",
       "      <th>...</th>\n",
       "      <td>...</td>\n",
       "      <td>...</td>\n",
       "      <td>...</td>\n",
       "      <td>...</td>\n",
       "      <td>...</td>\n",
       "      <td>...</td>\n",
       "      <td>...</td>\n",
       "      <td>...</td>\n",
       "      <td>...</td>\n",
       "      <td>...</td>\n",
       "      <td>...</td>\n",
       "      <td>...</td>\n",
       "      <td>...</td>\n",
       "      <td>...</td>\n",
       "      <td>...</td>\n",
       "      <td>...</td>\n",
       "      <td>...</td>\n",
       "      <td>...</td>\n",
       "      <td>...</td>\n",
       "      <td>...</td>\n",
       "      <td>...</td>\n",
       "    </tr>\n",
       "    <tr>\n",
       "      <th>603</th>\n",
       "      <td>603</td>\n",
       "      <td>282522</td>\n",
       "      <td>0.940363</td>\n",
       "      <td>1.0</td>\n",
       "      <td>0.868407</td>\n",
       "      <td>1.000000</td>\n",
       "      <td>0.804222</td>\n",
       "      <td>0.779122</td>\n",
       "      <td>1.00000</td>\n",
       "      <td>5.003087</td>\n",
       "      <td>...</td>\n",
       "      <td>6.908206</td>\n",
       "      <td>10.864660</td>\n",
       "      <td>0.122678</td>\n",
       "      <td>0.272942</td>\n",
       "      <td>67.602155</td>\n",
       "      <td>244.612931</td>\n",
       "      <td>156.119639</td>\n",
       "      <td>8.036288</td>\n",
       "      <td>3.012096</td>\n",
       "      <td>0</td>\n",
       "    </tr>\n",
       "    <tr>\n",
       "      <th>604</th>\n",
       "      <td>604</td>\n",
       "      <td>129478</td>\n",
       "      <td>0.842813</td>\n",
       "      <td>1.0</td>\n",
       "      <td>0.813376</td>\n",
       "      <td>0.866209</td>\n",
       "      <td>0.762787</td>\n",
       "      <td>0.704212</td>\n",
       "      <td>0.69011</td>\n",
       "      <td>5.248995</td>\n",
       "      <td>...</td>\n",
       "      <td>9.150560</td>\n",
       "      <td>9.437040</td>\n",
       "      <td>0.200196</td>\n",
       "      <td>0.477776</td>\n",
       "      <td>134.394506</td>\n",
       "      <td>451.265933</td>\n",
       "      <td>186.107700</td>\n",
       "      <td>13.000000</td>\n",
       "      <td>2.929670</td>\n",
       "      <td>0</td>\n",
       "    </tr>\n",
       "    <tr>\n",
       "      <th>605</th>\n",
       "      <td>605</td>\n",
       "      <td>310479</td>\n",
       "      <td>0.839504</td>\n",
       "      <td>1.0</td>\n",
       "      <td>0.809557</td>\n",
       "      <td>0.947313</td>\n",
       "      <td>0.703419</td>\n",
       "      <td>0.532586</td>\n",
       "      <td>1.00000</td>\n",
       "      <td>6.482947</td>\n",
       "      <td>...</td>\n",
       "      <td>5.525875</td>\n",
       "      <td>7.274908</td>\n",
       "      <td>0.106805</td>\n",
       "      <td>0.295753</td>\n",
       "      <td>94.586866</td>\n",
       "      <td>419.706268</td>\n",
       "      <td>135.533134</td>\n",
       "      <td>22.314030</td>\n",
       "      <td>11.318209</td>\n",
       "      <td>0</td>\n",
       "    </tr>\n",
       "    <tr>\n",
       "      <th>606</th>\n",
       "      <td>606</td>\n",
       "      <td>168867</td>\n",
       "      <td>0.881915</td>\n",
       "      <td>1.0</td>\n",
       "      <td>0.852923</td>\n",
       "      <td>0.717063</td>\n",
       "      <td>0.817364</td>\n",
       "      <td>0.902334</td>\n",
       "      <td>1.00000</td>\n",
       "      <td>5.551731</td>\n",
       "      <td>...</td>\n",
       "      <td>15.414130</td>\n",
       "      <td>18.579293</td>\n",
       "      <td>1.461072</td>\n",
       "      <td>2.026446</td>\n",
       "      <td>127.521237</td>\n",
       "      <td>556.190787</td>\n",
       "      <td>222.634988</td>\n",
       "      <td>29.964003</td>\n",
       "      <td>10.982002</td>\n",
       "      <td>0</td>\n",
       "    </tr>\n",
       "    <tr>\n",
       "      <th>607</th>\n",
       "      <td>607</td>\n",
       "      <td>154541</td>\n",
       "      <td>0.935885</td>\n",
       "      <td>1.0</td>\n",
       "      <td>0.903971</td>\n",
       "      <td>1.000000</td>\n",
       "      <td>0.854285</td>\n",
       "      <td>0.979781</td>\n",
       "      <td>1.00000</td>\n",
       "      <td>4.702868</td>\n",
       "      <td>...</td>\n",
       "      <td>11.687961</td>\n",
       "      <td>17.541553</td>\n",
       "      <td>0.710228</td>\n",
       "      <td>1.122771</td>\n",
       "      <td>150.003533</td>\n",
       "      <td>407.662693</td>\n",
       "      <td>253.674614</td>\n",
       "      <td>18.691391</td>\n",
       "      <td>6.345695</td>\n",
       "      <td>0</td>\n",
       "    </tr>\n",
       "  </tbody>\n",
       "</table>\n",
       "<p>608 rows × 43 columns</p>\n",
       "</div>"
      ],
      "text/plain": [
       "     Unnamed: 0.1  Unnamed: 0     grade  seq_4_avg  quiz_avg  seq_0_avg  \\\n",
       "0               0           0  1.000000        1.0  0.965517   1.000000   \n",
       "1               1        1032  0.990000        1.0  0.956897   1.000000   \n",
       "2               2        1734  1.000000        1.0  0.965517   1.000000   \n",
       "3               3        2898  0.880000        1.0  0.850690   0.625000   \n",
       "4               4        4203  1.000000        1.0  0.965517   1.000000   \n",
       "..            ...         ...       ...        ...       ...        ...   \n",
       "603           603      282522  0.940363        1.0  0.868407   1.000000   \n",
       "604           604      129478  0.842813        1.0  0.813376   0.866209   \n",
       "605           605      310479  0.839504        1.0  0.809557   0.947313   \n",
       "606           606      168867  0.881915        1.0  0.852923   0.717063   \n",
       "607           607      154541  0.935885        1.0  0.903971   1.000000   \n",
       "\n",
       "     seq_1_avg  seq_2_avg  seq_3_avg  duracion_sesion_avg  ...  \\\n",
       "0     1.000000   1.000000    1.00000             4.944454  ...   \n",
       "1     0.977273   1.000000    1.00000             2.410485  ...   \n",
       "2     1.000000   1.000000    1.00000             3.794893  ...   \n",
       "3     0.909091   0.907778    1.00000             4.008391  ...   \n",
       "4     1.000000   1.000000    1.00000             9.352263  ...   \n",
       "..         ...        ...        ...                  ...  ...   \n",
       "603   0.804222   0.779122    1.00000             5.003087  ...   \n",
       "604   0.762787   0.704212    0.69011             5.248995  ...   \n",
       "605   0.703419   0.532586    1.00000             6.482947  ...   \n",
       "606   0.817364   0.902334    1.00000             5.551731  ...   \n",
       "607   0.854285   0.979781    1.00000             4.702868  ...   \n",
       "\n",
       "     pause_video_mean  pause_video_std  speed_change_video_mean  \\\n",
       "0            8.700000         7.409453                 0.300000   \n",
       "1            4.428571         5.957727                 0.142857   \n",
       "2            7.571429        10.399863                 0.142857   \n",
       "3           13.600000        22.487457                 0.600000   \n",
       "4           15.333333        25.263319                 0.777778   \n",
       "..                ...              ...                      ...   \n",
       "603          6.908206        10.864660                 0.122678   \n",
       "604          9.150560         9.437040                 0.200196   \n",
       "605          5.525875         7.274908                 0.106805   \n",
       "606         15.414130        18.579293                 1.461072   \n",
       "607         11.687961        17.541553                 0.710228   \n",
       "\n",
       "     speed_change_video_std  num_eventos_seq_0  num_eventos_seq_1  \\\n",
       "0                  0.674949          76.000000         384.000000   \n",
       "1                  0.363137          70.000000         168.000000   \n",
       "2                  0.478091         197.000000         346.000000   \n",
       "3                  1.298351         177.000000         466.000000   \n",
       "4                  1.060275         264.000000         810.000000   \n",
       "..                      ...                ...                ...   \n",
       "603                0.272942          67.602155         244.612931   \n",
       "604                0.477776         134.394506         451.265933   \n",
       "605                0.295753          94.586866         419.706268   \n",
       "606                2.026446         127.521237         556.190787   \n",
       "607                1.122771         150.003533         407.662693   \n",
       "\n",
       "     num_eventos_seq_2  num_eventos_seq_3  num_eventos_seq_4  label  \n",
       "0           128.000000          16.000000          20.000000      1  \n",
       "1            90.000000          16.000000           6.000000      1  \n",
       "2           151.000000          47.000000           8.000000      1  \n",
       "3           201.000000          33.000000           9.000000      1  \n",
       "4            80.000000          19.000000          11.000000      0  \n",
       "..                 ...                ...                ...    ...  \n",
       "603         156.119639           8.036288           3.012096      0  \n",
       "604         186.107700          13.000000           2.929670      0  \n",
       "605         135.533134          22.314030          11.318209      0  \n",
       "606         222.634988          29.964003          10.982002      0  \n",
       "607         253.674614          18.691391           6.345695      0  \n",
       "\n",
       "[608 rows x 43 columns]"
      ]
     },
     "execution_count": 3,
     "metadata": {},
     "output_type": "execute_result"
    }
   ],
   "source": [
    "df_entrenamiento"
   ]
  },
  {
   "cell_type": "code",
   "execution_count": 4,
   "metadata": {},
   "outputs": [
    {
     "data": {
      "text/plain": [
       "Index(['Unnamed: 0.1', 'Unnamed: 0', 'grade', 'seq_4_avg', 'quiz_avg',\n",
       "       'seq_0_avg', 'seq_1_avg', 'seq_2_avg', 'seq_3_avg',\n",
       "       'duracion_sesion_avg', 'duracion_sesion_std', 'duracion_EOL',\n",
       "       'num_sesiones_agosto', 'num_sesiones_septiembre',\n",
       "       'num_sesiones_noviembre', 'page_close_mean', 'page_close_std',\n",
       "       'problem_graded_mean', 'problem_graded_std', 'problem_check_mean',\n",
       "       'problem_check_std', 'problem_show_mean', 'problem_show_std',\n",
       "       'seg_prev_mean', 'seg_prev_std', 'seg_next_mean', 'seg_next_std',\n",
       "       'seg_goto_mean', 'seg_goto_std', 'load_video_mean', 'load_video_std',\n",
       "       'play_video_mean', 'play_video_std', 'pause_video_mean',\n",
       "       'pause_video_std', 'speed_change_video_mean', 'speed_change_video_std',\n",
       "       'num_eventos_seq_0', 'num_eventos_seq_1', 'num_eventos_seq_2',\n",
       "       'num_eventos_seq_3', 'num_eventos_seq_4', 'label'],\n",
       "      dtype='object')"
      ]
     },
     "execution_count": 4,
     "metadata": {},
     "output_type": "execute_result"
    }
   ],
   "source": [
    "df_entrenamiento.columns"
   ]
  },
  {
   "cell_type": "code",
   "execution_count": 5,
   "metadata": {},
   "outputs": [],
   "source": [
    "df_entrenamiento.drop(['Unnamed: 0', 'Unnamed: 0.1'], axis = 1, inplace=True)\n"
   ]
  },
  {
   "cell_type": "code",
   "execution_count": 6,
   "metadata": {},
   "outputs": [
    {
     "data": {
      "text/html": [
       "<div>\n",
       "<style scoped>\n",
       "    .dataframe tbody tr th:only-of-type {\n",
       "        vertical-align: middle;\n",
       "    }\n",
       "\n",
       "    .dataframe tbody tr th {\n",
       "        vertical-align: top;\n",
       "    }\n",
       "\n",
       "    .dataframe thead th {\n",
       "        text-align: right;\n",
       "    }\n",
       "</style>\n",
       "<table border=\"1\" class=\"dataframe\">\n",
       "  <thead>\n",
       "    <tr style=\"text-align: right;\">\n",
       "      <th></th>\n",
       "      <th>grade</th>\n",
       "      <th>seq_4_avg</th>\n",
       "      <th>quiz_avg</th>\n",
       "      <th>seq_0_avg</th>\n",
       "      <th>seq_1_avg</th>\n",
       "      <th>seq_2_avg</th>\n",
       "      <th>seq_3_avg</th>\n",
       "      <th>duracion_sesion_avg</th>\n",
       "      <th>duracion_sesion_std</th>\n",
       "      <th>duracion_EOL</th>\n",
       "      <th>...</th>\n",
       "      <th>pause_video_mean</th>\n",
       "      <th>pause_video_std</th>\n",
       "      <th>speed_change_video_mean</th>\n",
       "      <th>speed_change_video_std</th>\n",
       "      <th>num_eventos_seq_0</th>\n",
       "      <th>num_eventos_seq_1</th>\n",
       "      <th>num_eventos_seq_2</th>\n",
       "      <th>num_eventos_seq_3</th>\n",
       "      <th>num_eventos_seq_4</th>\n",
       "      <th>label</th>\n",
       "    </tr>\n",
       "  </thead>\n",
       "  <tbody>\n",
       "    <tr>\n",
       "      <th>0</th>\n",
       "      <td>1.000000</td>\n",
       "      <td>1.0</td>\n",
       "      <td>0.965517</td>\n",
       "      <td>1.000000</td>\n",
       "      <td>1.000000</td>\n",
       "      <td>1.000000</td>\n",
       "      <td>1.00000</td>\n",
       "      <td>4.944454</td>\n",
       "      <td>5.131721</td>\n",
       "      <td>64.000000</td>\n",
       "      <td>...</td>\n",
       "      <td>8.700000</td>\n",
       "      <td>7.409453</td>\n",
       "      <td>0.300000</td>\n",
       "      <td>0.674949</td>\n",
       "      <td>76.000000</td>\n",
       "      <td>384.000000</td>\n",
       "      <td>128.000000</td>\n",
       "      <td>16.000000</td>\n",
       "      <td>20.000000</td>\n",
       "      <td>1</td>\n",
       "    </tr>\n",
       "    <tr>\n",
       "      <th>1</th>\n",
       "      <td>0.990000</td>\n",
       "      <td>1.0</td>\n",
       "      <td>0.956897</td>\n",
       "      <td>1.000000</td>\n",
       "      <td>0.977273</td>\n",
       "      <td>1.000000</td>\n",
       "      <td>1.00000</td>\n",
       "      <td>2.410485</td>\n",
       "      <td>2.627586</td>\n",
       "      <td>60.000000</td>\n",
       "      <td>...</td>\n",
       "      <td>4.428571</td>\n",
       "      <td>5.957727</td>\n",
       "      <td>0.142857</td>\n",
       "      <td>0.363137</td>\n",
       "      <td>70.000000</td>\n",
       "      <td>168.000000</td>\n",
       "      <td>90.000000</td>\n",
       "      <td>16.000000</td>\n",
       "      <td>6.000000</td>\n",
       "      <td>1</td>\n",
       "    </tr>\n",
       "    <tr>\n",
       "      <th>2</th>\n",
       "      <td>1.000000</td>\n",
       "      <td>1.0</td>\n",
       "      <td>0.965517</td>\n",
       "      <td>1.000000</td>\n",
       "      <td>1.000000</td>\n",
       "      <td>1.000000</td>\n",
       "      <td>1.00000</td>\n",
       "      <td>3.794893</td>\n",
       "      <td>5.967056</td>\n",
       "      <td>59.000000</td>\n",
       "      <td>...</td>\n",
       "      <td>7.571429</td>\n",
       "      <td>10.399863</td>\n",
       "      <td>0.142857</td>\n",
       "      <td>0.478091</td>\n",
       "      <td>197.000000</td>\n",
       "      <td>346.000000</td>\n",
       "      <td>151.000000</td>\n",
       "      <td>47.000000</td>\n",
       "      <td>8.000000</td>\n",
       "      <td>1</td>\n",
       "    </tr>\n",
       "    <tr>\n",
       "      <th>3</th>\n",
       "      <td>0.880000</td>\n",
       "      <td>1.0</td>\n",
       "      <td>0.850690</td>\n",
       "      <td>0.625000</td>\n",
       "      <td>0.909091</td>\n",
       "      <td>0.907778</td>\n",
       "      <td>1.00000</td>\n",
       "      <td>4.008391</td>\n",
       "      <td>5.076566</td>\n",
       "      <td>58.000000</td>\n",
       "      <td>...</td>\n",
       "      <td>13.600000</td>\n",
       "      <td>22.487457</td>\n",
       "      <td>0.600000</td>\n",
       "      <td>1.298351</td>\n",
       "      <td>177.000000</td>\n",
       "      <td>466.000000</td>\n",
       "      <td>201.000000</td>\n",
       "      <td>33.000000</td>\n",
       "      <td>9.000000</td>\n",
       "      <td>1</td>\n",
       "    </tr>\n",
       "    <tr>\n",
       "      <th>4</th>\n",
       "      <td>1.000000</td>\n",
       "      <td>1.0</td>\n",
       "      <td>0.965517</td>\n",
       "      <td>1.000000</td>\n",
       "      <td>1.000000</td>\n",
       "      <td>1.000000</td>\n",
       "      <td>1.00000</td>\n",
       "      <td>9.352263</td>\n",
       "      <td>8.270573</td>\n",
       "      <td>58.000000</td>\n",
       "      <td>...</td>\n",
       "      <td>15.333333</td>\n",
       "      <td>25.263319</td>\n",
       "      <td>0.777778</td>\n",
       "      <td>1.060275</td>\n",
       "      <td>264.000000</td>\n",
       "      <td>810.000000</td>\n",
       "      <td>80.000000</td>\n",
       "      <td>19.000000</td>\n",
       "      <td>11.000000</td>\n",
       "      <td>0</td>\n",
       "    </tr>\n",
       "    <tr>\n",
       "      <th>...</th>\n",
       "      <td>...</td>\n",
       "      <td>...</td>\n",
       "      <td>...</td>\n",
       "      <td>...</td>\n",
       "      <td>...</td>\n",
       "      <td>...</td>\n",
       "      <td>...</td>\n",
       "      <td>...</td>\n",
       "      <td>...</td>\n",
       "      <td>...</td>\n",
       "      <td>...</td>\n",
       "      <td>...</td>\n",
       "      <td>...</td>\n",
       "      <td>...</td>\n",
       "      <td>...</td>\n",
       "      <td>...</td>\n",
       "      <td>...</td>\n",
       "      <td>...</td>\n",
       "      <td>...</td>\n",
       "      <td>...</td>\n",
       "      <td>...</td>\n",
       "    </tr>\n",
       "    <tr>\n",
       "      <th>603</th>\n",
       "      <td>0.940363</td>\n",
       "      <td>1.0</td>\n",
       "      <td>0.868407</td>\n",
       "      <td>1.000000</td>\n",
       "      <td>0.804222</td>\n",
       "      <td>0.779122</td>\n",
       "      <td>1.00000</td>\n",
       "      <td>5.003087</td>\n",
       "      <td>7.729962</td>\n",
       "      <td>52.000000</td>\n",
       "      <td>...</td>\n",
       "      <td>6.908206</td>\n",
       "      <td>10.864660</td>\n",
       "      <td>0.122678</td>\n",
       "      <td>0.272942</td>\n",
       "      <td>67.602155</td>\n",
       "      <td>244.612931</td>\n",
       "      <td>156.119639</td>\n",
       "      <td>8.036288</td>\n",
       "      <td>3.012096</td>\n",
       "      <td>0</td>\n",
       "    </tr>\n",
       "    <tr>\n",
       "      <th>604</th>\n",
       "      <td>0.842813</td>\n",
       "      <td>1.0</td>\n",
       "      <td>0.813376</td>\n",
       "      <td>0.866209</td>\n",
       "      <td>0.762787</td>\n",
       "      <td>0.704212</td>\n",
       "      <td>0.69011</td>\n",
       "      <td>5.248995</td>\n",
       "      <td>6.035853</td>\n",
       "      <td>56.394506</td>\n",
       "      <td>...</td>\n",
       "      <td>9.150560</td>\n",
       "      <td>9.437040</td>\n",
       "      <td>0.200196</td>\n",
       "      <td>0.477776</td>\n",
       "      <td>134.394506</td>\n",
       "      <td>451.265933</td>\n",
       "      <td>186.107700</td>\n",
       "      <td>13.000000</td>\n",
       "      <td>2.929670</td>\n",
       "      <td>0</td>\n",
       "    </tr>\n",
       "    <tr>\n",
       "      <th>605</th>\n",
       "      <td>0.839504</td>\n",
       "      <td>1.0</td>\n",
       "      <td>0.809557</td>\n",
       "      <td>0.947313</td>\n",
       "      <td>0.703419</td>\n",
       "      <td>0.532586</td>\n",
       "      <td>1.00000</td>\n",
       "      <td>6.482947</td>\n",
       "      <td>6.920673</td>\n",
       "      <td>53.842985</td>\n",
       "      <td>...</td>\n",
       "      <td>5.525875</td>\n",
       "      <td>7.274908</td>\n",
       "      <td>0.106805</td>\n",
       "      <td>0.295753</td>\n",
       "      <td>94.586866</td>\n",
       "      <td>419.706268</td>\n",
       "      <td>135.533134</td>\n",
       "      <td>22.314030</td>\n",
       "      <td>11.318209</td>\n",
       "      <td>0</td>\n",
       "    </tr>\n",
       "    <tr>\n",
       "      <th>606</th>\n",
       "      <td>0.881915</td>\n",
       "      <td>1.0</td>\n",
       "      <td>0.852923</td>\n",
       "      <td>0.717063</td>\n",
       "      <td>0.817364</td>\n",
       "      <td>0.902334</td>\n",
       "      <td>1.00000</td>\n",
       "      <td>5.551731</td>\n",
       "      <td>6.395383</td>\n",
       "      <td>55.263499</td>\n",
       "      <td>...</td>\n",
       "      <td>15.414130</td>\n",
       "      <td>18.579293</td>\n",
       "      <td>1.461072</td>\n",
       "      <td>2.026446</td>\n",
       "      <td>127.521237</td>\n",
       "      <td>556.190787</td>\n",
       "      <td>222.634988</td>\n",
       "      <td>29.964003</td>\n",
       "      <td>10.982002</td>\n",
       "      <td>0</td>\n",
       "    </tr>\n",
       "    <tr>\n",
       "      <th>607</th>\n",
       "      <td>0.935885</td>\n",
       "      <td>1.0</td>\n",
       "      <td>0.903971</td>\n",
       "      <td>1.000000</td>\n",
       "      <td>0.854285</td>\n",
       "      <td>0.979781</td>\n",
       "      <td>1.00000</td>\n",
       "      <td>4.702868</td>\n",
       "      <td>4.789794</td>\n",
       "      <td>59.000000</td>\n",
       "      <td>...</td>\n",
       "      <td>11.687961</td>\n",
       "      <td>17.541553</td>\n",
       "      <td>0.710228</td>\n",
       "      <td>1.122771</td>\n",
       "      <td>150.003533</td>\n",
       "      <td>407.662693</td>\n",
       "      <td>253.674614</td>\n",
       "      <td>18.691391</td>\n",
       "      <td>6.345695</td>\n",
       "      <td>0</td>\n",
       "    </tr>\n",
       "  </tbody>\n",
       "</table>\n",
       "<p>608 rows × 41 columns</p>\n",
       "</div>"
      ],
      "text/plain": [
       "        grade  seq_4_avg  quiz_avg  seq_0_avg  seq_1_avg  seq_2_avg  \\\n",
       "0    1.000000        1.0  0.965517   1.000000   1.000000   1.000000   \n",
       "1    0.990000        1.0  0.956897   1.000000   0.977273   1.000000   \n",
       "2    1.000000        1.0  0.965517   1.000000   1.000000   1.000000   \n",
       "3    0.880000        1.0  0.850690   0.625000   0.909091   0.907778   \n",
       "4    1.000000        1.0  0.965517   1.000000   1.000000   1.000000   \n",
       "..        ...        ...       ...        ...        ...        ...   \n",
       "603  0.940363        1.0  0.868407   1.000000   0.804222   0.779122   \n",
       "604  0.842813        1.0  0.813376   0.866209   0.762787   0.704212   \n",
       "605  0.839504        1.0  0.809557   0.947313   0.703419   0.532586   \n",
       "606  0.881915        1.0  0.852923   0.717063   0.817364   0.902334   \n",
       "607  0.935885        1.0  0.903971   1.000000   0.854285   0.979781   \n",
       "\n",
       "     seq_3_avg  duracion_sesion_avg  duracion_sesion_std  duracion_EOL  ...  \\\n",
       "0      1.00000             4.944454             5.131721     64.000000  ...   \n",
       "1      1.00000             2.410485             2.627586     60.000000  ...   \n",
       "2      1.00000             3.794893             5.967056     59.000000  ...   \n",
       "3      1.00000             4.008391             5.076566     58.000000  ...   \n",
       "4      1.00000             9.352263             8.270573     58.000000  ...   \n",
       "..         ...                  ...                  ...           ...  ...   \n",
       "603    1.00000             5.003087             7.729962     52.000000  ...   \n",
       "604    0.69011             5.248995             6.035853     56.394506  ...   \n",
       "605    1.00000             6.482947             6.920673     53.842985  ...   \n",
       "606    1.00000             5.551731             6.395383     55.263499  ...   \n",
       "607    1.00000             4.702868             4.789794     59.000000  ...   \n",
       "\n",
       "     pause_video_mean  pause_video_std  speed_change_video_mean  \\\n",
       "0            8.700000         7.409453                 0.300000   \n",
       "1            4.428571         5.957727                 0.142857   \n",
       "2            7.571429        10.399863                 0.142857   \n",
       "3           13.600000        22.487457                 0.600000   \n",
       "4           15.333333        25.263319                 0.777778   \n",
       "..                ...              ...                      ...   \n",
       "603          6.908206        10.864660                 0.122678   \n",
       "604          9.150560         9.437040                 0.200196   \n",
       "605          5.525875         7.274908                 0.106805   \n",
       "606         15.414130        18.579293                 1.461072   \n",
       "607         11.687961        17.541553                 0.710228   \n",
       "\n",
       "     speed_change_video_std  num_eventos_seq_0  num_eventos_seq_1  \\\n",
       "0                  0.674949          76.000000         384.000000   \n",
       "1                  0.363137          70.000000         168.000000   \n",
       "2                  0.478091         197.000000         346.000000   \n",
       "3                  1.298351         177.000000         466.000000   \n",
       "4                  1.060275         264.000000         810.000000   \n",
       "..                      ...                ...                ...   \n",
       "603                0.272942          67.602155         244.612931   \n",
       "604                0.477776         134.394506         451.265933   \n",
       "605                0.295753          94.586866         419.706268   \n",
       "606                2.026446         127.521237         556.190787   \n",
       "607                1.122771         150.003533         407.662693   \n",
       "\n",
       "     num_eventos_seq_2  num_eventos_seq_3  num_eventos_seq_4  label  \n",
       "0           128.000000          16.000000          20.000000      1  \n",
       "1            90.000000          16.000000           6.000000      1  \n",
       "2           151.000000          47.000000           8.000000      1  \n",
       "3           201.000000          33.000000           9.000000      1  \n",
       "4            80.000000          19.000000          11.000000      0  \n",
       "..                 ...                ...                ...    ...  \n",
       "603         156.119639           8.036288           3.012096      0  \n",
       "604         186.107700          13.000000           2.929670      0  \n",
       "605         135.533134          22.314030          11.318209      0  \n",
       "606         222.634988          29.964003          10.982002      0  \n",
       "607         253.674614          18.691391           6.345695      0  \n",
       "\n",
       "[608 rows x 41 columns]"
      ]
     },
     "execution_count": 6,
     "metadata": {},
     "output_type": "execute_result"
    }
   ],
   "source": [
    "df_entrenamiento"
   ]
  },
  {
   "cell_type": "code",
   "execution_count": 7,
   "metadata": {},
   "outputs": [],
   "source": [
    "import tensorflow as tf\n",
    "from tensorflow import keras\n",
    "from sklearn.model_selection import train_test_split\n",
    "import numpy as np\n",
    "import random\n",
    "seed = 314159\n",
    "random.seed(seed)\n",
    "np.random.seed(seed)\n",
    "tf.random.set_seed(seed)\n"
   ]
  },
  {
   "cell_type": "code",
   "execution_count": 8,
   "metadata": {},
   "outputs": [],
   "source": [
    "X = df_entrenamiento.drop(columns=['label'])  # Características\n",
    "y = df_entrenamiento['label']  # Etiquetas\n",
    "\n",
    "X_train, X_test, y_train, y_test = train_test_split(X, y, test_size=1/3, random_state=314159, stratify=y)\n"
   ]
  },
  {
   "cell_type": "code",
   "execution_count": 9,
   "metadata": {},
   "outputs": [],
   "source": [
    "from sklearn.preprocessing import MinMaxScaler\n",
    "\n",
    "# Crea un objeto StandardScaler\n",
    "scaler = MinMaxScaler()\n",
    "\n",
    "# Ajusta el scaler a tus datos de entrenamiento y luego transforma los datos\n",
    "X_train = scaler.fit_transform(X_train)\n",
    "\n",
    "# Transforma también los datos de prueba usando el mismo scaler\n",
    "X_test = scaler.transform(X_test)\n"
   ]
  },
  {
   "cell_type": "code",
   "execution_count": 12,
   "metadata": {},
   "outputs": [
    {
     "name": "stderr",
     "output_type": "stream",
     "text": [
      "[I 2023-11-24 09:04:18,152] A new study created in memory with name: no-name-5394e802-6b00-453a-a4f4-f460082244c9\n"
     ]
    },
    {
     "name": "stdout",
     "output_type": "stream",
     "text": [
      "3/3 [==============================] - 0s 4ms/step\n",
      "3/3 [==============================] - 0s 3ms/step\n",
      "3/3 [==============================] - 0s 4ms/step\n",
      "3/3 [==============================] - 0s 4ms/step\n",
      "3/3 [==============================] - 0s 3ms/step\n"
     ]
    },
    {
     "name": "stderr",
     "output_type": "stream",
     "text": [
      "[I 2023-11-24 09:04:59,121] Trial 0 finished with value: 0.5456790123456791 and parameters: {'learning_rate': 0.06117346477635757, 'num_hidden_layers': 4, 'num_hidden_units': 31, 'dropout_rate': 0.4763284114547742, 'optimizer': 'adam', 'activation': 'sigmoid', 'batch_size': 16}. Best is trial 0 with value: 0.5456790123456791.\n"
     ]
    },
    {
     "name": "stdout",
     "output_type": "stream",
     "text": [
      "3/3 [==============================] - 0s 2ms/step\n",
      "3/3 [==============================] - 0s 6ms/step\n",
      "3/3 [==============================] - 0s 4ms/step\n",
      "3/3 [==============================] - 0s 4ms/step\n",
      "3/3 [==============================] - 0s 4ms/step\n"
     ]
    },
    {
     "name": "stderr",
     "output_type": "stream",
     "text": [
      "[I 2023-11-24 09:05:50,728] Trial 1 finished with value: 0.49876543209876545 and parameters: {'learning_rate': 0.062488326829340794, 'num_hidden_layers': 2, 'num_hidden_units': 255, 'dropout_rate': 0.13435301081223228, 'optimizer': 'rmsprop', 'activation': 'tanh', 'batch_size': 16}. Best is trial 0 with value: 0.5456790123456791.\n"
     ]
    },
    {
     "name": "stdout",
     "output_type": "stream",
     "text": [
      "3/3 [==============================] - 0s 3ms/step\n",
      "3/3 [==============================] - 0s 6ms/step\n",
      "3/3 [==============================] - 0s 2ms/step\n",
      "3/3 [==============================] - 0s 4ms/step\n",
      "3/3 [==============================] - 0s 3ms/step\n"
     ]
    },
    {
     "name": "stderr",
     "output_type": "stream",
     "text": [
      "[I 2023-11-24 09:06:13,186] Trial 2 finished with value: 0.6888888888888889 and parameters: {'learning_rate': 0.044836426560447964, 'num_hidden_layers': 2, 'num_hidden_units': 134, 'dropout_rate': 0.15195938107628737, 'optimizer': 'rmsprop', 'activation': 'sigmoid', 'batch_size': 64}. Best is trial 2 with value: 0.6888888888888889.\n"
     ]
    },
    {
     "name": "stdout",
     "output_type": "stream",
     "text": [
      "3/3 [==============================] - 0s 5ms/step\n",
      "3/3 [==============================] - 0s 6ms/step\n",
      "3/3 [==============================] - 0s 5ms/step\n",
      "3/3 [==============================] - 0s 5ms/step\n",
      "3/3 [==============================] - 0s 5ms/step\n"
     ]
    },
    {
     "name": "stderr",
     "output_type": "stream",
     "text": [
      "[I 2023-11-24 09:07:05,661] Trial 3 finished with value: 0.6666666666666667 and parameters: {'learning_rate': 0.029332815806452778, 'num_hidden_layers': 4, 'num_hidden_units': 175, 'dropout_rate': 0.44295856967685165, 'optimizer': 'rmsprop', 'activation': 'sigmoid', 'batch_size': 16}. Best is trial 2 with value: 0.6888888888888889.\n"
     ]
    },
    {
     "name": "stdout",
     "output_type": "stream",
     "text": [
      "3/3 [==============================] - 0s 3ms/step\n",
      "3/3 [==============================] - 0s 5ms/step\n",
      "3/3 [==============================] - 0s 6ms/step\n",
      "3/3 [==============================] - 0s 4ms/step\n",
      "3/3 [==============================] - 0s 3ms/step\n"
     ]
    },
    {
     "name": "stderr",
     "output_type": "stream",
     "text": [
      "[I 2023-11-24 09:07:31,492] Trial 4 finished with value: 0.6691358024691357 and parameters: {'learning_rate': 0.017597966678585576, 'num_hidden_layers': 2, 'num_hidden_units': 87, 'dropout_rate': 0.3994319853791938, 'optimizer': 'rmsprop', 'activation': 'sigmoid', 'batch_size': 32}. Best is trial 2 with value: 0.6888888888888889.\n"
     ]
    },
    {
     "name": "stdout",
     "output_type": "stream",
     "text": [
      "3/3 [==============================] - 0s 2ms/step\n",
      "3/3 [==============================] - 0s 3ms/step\n",
      "3/3 [==============================] - 0s 4ms/step\n",
      "3/3 [==============================] - 0s 5ms/step\n",
      "3/3 [==============================] - 0s 5ms/step\n"
     ]
    },
    {
     "name": "stderr",
     "output_type": "stream",
     "text": [
      "[I 2023-11-24 09:08:00,626] Trial 5 finished with value: 0.7111111111111111 and parameters: {'learning_rate': 0.04496550452478637, 'num_hidden_layers': 3, 'num_hidden_units': 147, 'dropout_rate': 0.20510531144027572, 'optimizer': 'sgd', 'activation': 'elu', 'batch_size': 64}. Best is trial 5 with value: 0.7111111111111111.\n"
     ]
    },
    {
     "name": "stdout",
     "output_type": "stream",
     "text": [
      "3/3 [==============================] - 0s 6ms/step\n",
      "3/3 [==============================] - 0s 6ms/step\n",
      "3/3 [==============================] - 0s 6ms/step\n",
      "3/3 [==============================] - 0s 5ms/step\n",
      "3/3 [==============================] - 0s 6ms/step\n"
     ]
    },
    {
     "name": "stderr",
     "output_type": "stream",
     "text": [
      "[I 2023-11-24 09:08:31,843] Trial 6 finished with value: 0.7037037037037036 and parameters: {'learning_rate': 0.09086950532867848, 'num_hidden_layers': 3, 'num_hidden_units': 176, 'dropout_rate': 0.12646716646030376, 'optimizer': 'sgd', 'activation': 'sigmoid', 'batch_size': 64}. Best is trial 5 with value: 0.7111111111111111.\n"
     ]
    },
    {
     "name": "stdout",
     "output_type": "stream",
     "text": [
      "3/3 [==============================] - 0s 7ms/step\n",
      "3/3 [==============================] - 0s 7ms/step\n",
      "3/3 [==============================] - 0s 7ms/step\n",
      "3/3 [==============================] - 0s 3ms/step\n",
      "3/3 [==============================] - 0s 3ms/step\n"
     ]
    },
    {
     "name": "stderr",
     "output_type": "stream",
     "text": [
      "[I 2023-11-24 09:09:29,899] Trial 7 finished with value: 0.6666666666666667 and parameters: {'learning_rate': 0.08773107199285556, 'num_hidden_layers': 5, 'num_hidden_units': 208, 'dropout_rate': 0.28979817235960725, 'optimizer': 'rmsprop', 'activation': 'elu', 'batch_size': 16}. Best is trial 5 with value: 0.7111111111111111.\n"
     ]
    },
    {
     "name": "stdout",
     "output_type": "stream",
     "text": [
      "3/3 [==============================] - 0s 3ms/step\n",
      "3/3 [==============================] - 0s 2ms/step\n",
      "3/3 [==============================] - 0s 4ms/step\n",
      "3/3 [==============================] - 0s 6ms/step\n",
      "3/3 [==============================] - 0s 6ms/step\n"
     ]
    },
    {
     "name": "stderr",
     "output_type": "stream",
     "text": [
      "[I 2023-11-24 09:10:01,077] Trial 8 finished with value: 0.6320987654320988 and parameters: {'learning_rate': 0.09461625495238729, 'num_hidden_layers': 5, 'num_hidden_units': 178, 'dropout_rate': 0.1424252366357464, 'optimizer': 'sgd', 'activation': 'relu', 'batch_size': 64}. Best is trial 5 with value: 0.7111111111111111.\n"
     ]
    },
    {
     "name": "stdout",
     "output_type": "stream",
     "text": [
      "3/3 [==============================] - 0s 4ms/step\n",
      "3/3 [==============================] - 0s 5ms/step\n",
      "3/3 [==============================] - 0s 5ms/step\n",
      "3/3 [==============================] - 0s 3ms/step\n",
      "3/3 [==============================] - 0s 3ms/step\n"
     ]
    },
    {
     "name": "stderr",
     "output_type": "stream",
     "text": [
      "[I 2023-11-24 09:10:43,421] Trial 9 finished with value: 0.5753086419753086 and parameters: {'learning_rate': 0.09270105975127806, 'num_hidden_layers': 1, 'num_hidden_units': 244, 'dropout_rate': 0.49540969010736324, 'optimizer': 'rmsprop', 'activation': 'tanh', 'batch_size': 16}. Best is trial 5 with value: 0.7111111111111111.\n"
     ]
    },
    {
     "name": "stdout",
     "output_type": "stream",
     "text": [
      "3/3 [==============================] - 0s 2ms/step\n",
      "3/3 [==============================] - 0s 3ms/step\n",
      "3/3 [==============================] - 0s 5ms/step\n",
      "3/3 [==============================] - 0s 4ms/step\n",
      "3/3 [==============================] - 0s 6ms/step\n"
     ]
    },
    {
     "name": "stderr",
     "output_type": "stream",
     "text": [
      "[I 2023-11-24 09:11:28,863] Trial 10 finished with value: 0.7061728395061728 and parameters: {'learning_rate': 0.005395763732905845, 'num_hidden_layers': 3, 'num_hidden_units': 104, 'dropout_rate': 0.0636821209870792, 'optimizer': 'sgd', 'activation': 'elu', 'batch_size': 8}. Best is trial 5 with value: 0.7111111111111111.\n"
     ]
    },
    {
     "name": "stdout",
     "output_type": "stream",
     "text": [
      "3/3 [==============================] - 0s 6ms/step\n",
      "3/3 [==============================] - 0s 4ms/step\n",
      "3/3 [==============================] - 0s 4ms/step\n",
      "3/3 [==============================] - 0s 2ms/step\n",
      "3/3 [==============================] - 0s 5ms/step\n"
     ]
    },
    {
     "name": "stderr",
     "output_type": "stream",
     "text": [
      "[I 2023-11-24 09:12:20,542] Trial 11 finished with value: 0.7555555555555555 and parameters: {'learning_rate': 0.0021895045074661473, 'num_hidden_layers': 3, 'num_hidden_units': 101, 'dropout_rate': 0.0023097670825267397, 'optimizer': 'sgd', 'activation': 'elu', 'batch_size': 8}. Best is trial 11 with value: 0.7555555555555555.\n"
     ]
    },
    {
     "name": "stdout",
     "output_type": "stream",
     "text": [
      "3/3 [==============================] - 0s 2ms/step\n",
      "3/3 [==============================] - 0s 3ms/step\n",
      "3/3 [==============================] - 0s 4ms/step\n",
      "3/3 [==============================] - 0s 4ms/step\n",
      "3/3 [==============================] - 0s 3ms/step\n"
     ]
    },
    {
     "name": "stderr",
     "output_type": "stream",
     "text": [
      "[I 2023-11-24 09:13:18,108] Trial 12 finished with value: 0.7827160493827161 and parameters: {'learning_rate': 0.0041393962856645945, 'num_hidden_layers': 4, 'num_hidden_units': 71, 'dropout_rate': 0.002281751620423822, 'optimizer': 'sgd', 'activation': 'elu', 'batch_size': 8}. Best is trial 12 with value: 0.7827160493827161.\n"
     ]
    },
    {
     "name": "stdout",
     "output_type": "stream",
     "text": [
      "3/3 [==============================] - 0s 4ms/step\n",
      "3/3 [==============================] - 0s 2ms/step\n",
      "3/3 [==============================] - 0s 6ms/step\n",
      "3/3 [==============================] - 0s 4ms/step\n",
      "3/3 [==============================] - 0s 7ms/step\n"
     ]
    },
    {
     "name": "stderr",
     "output_type": "stream",
     "text": [
      "[I 2023-11-24 09:14:47,363] Trial 13 finished with value: 0.7382716049382716 and parameters: {'learning_rate': 0.0020183003382631183, 'num_hidden_layers': 4, 'num_hidden_units': 43, 'dropout_rate': 0.00017092422829273046, 'optimizer': 'sgd', 'activation': 'elu', 'batch_size': 8}. Best is trial 12 with value: 0.7827160493827161.\n"
     ]
    },
    {
     "name": "stdout",
     "output_type": "stream",
     "text": [
      "3/3 [==============================] - 0s 5ms/step\n",
      "3/3 [==============================] - 0s 3ms/step\n",
      "3/3 [==============================] - 0s 3ms/step\n",
      "3/3 [==============================] - 0s 3ms/step\n",
      "3/3 [==============================] - 0s 5ms/step\n"
     ]
    },
    {
     "name": "stderr",
     "output_type": "stream",
     "text": [
      "[I 2023-11-24 09:15:50,216] Trial 14 finished with value: 0.8790123456790123 and parameters: {'learning_rate': 0.0004249975261914722, 'num_hidden_layers': 4, 'num_hidden_units': 69, 'dropout_rate': 0.012325906567781042, 'optimizer': 'adam', 'activation': 'elu', 'batch_size': 8}. Best is trial 14 with value: 0.8790123456790123.\n"
     ]
    },
    {
     "name": "stdout",
     "output_type": "stream",
     "text": [
      "3/3 [==============================] - 0s 2ms/step\n",
      "3/3 [==============================] - 0s 7ms/step\n",
      "3/3 [==============================] - 0s 7ms/step\n",
      "3/3 [==============================] - 0s 6ms/step\n",
      "3/3 [==============================] - 0s 6ms/step\n"
     ]
    },
    {
     "name": "stderr",
     "output_type": "stream",
     "text": [
      "[I 2023-11-24 09:17:19,083] Trial 15 finished with value: 0.711111111111111 and parameters: {'learning_rate': 0.01828940599784662, 'num_hidden_layers': 4, 'num_hidden_units': 69, 'dropout_rate': 0.06192620350691738, 'optimizer': 'adam', 'activation': 'relu', 'batch_size': 8}. Best is trial 14 with value: 0.8790123456790123.\n"
     ]
    },
    {
     "name": "stdout",
     "output_type": "stream",
     "text": [
      "3/3 [==============================] - 1s 7ms/step\n",
      "3/3 [==============================] - 0s 7ms/step\n",
      "3/3 [==============================] - 0s 7ms/step\n",
      "3/3 [==============================] - 0s 5ms/step\n",
      "3/3 [==============================] - 0s 7ms/step\n"
     ]
    },
    {
     "name": "stderr",
     "output_type": "stream",
     "text": [
      "[I 2023-11-24 09:18:44,692] Trial 16 finished with value: 0.7209876543209877 and parameters: {'learning_rate': 0.017918060114487266, 'num_hidden_layers': 5, 'num_hidden_units': 53, 'dropout_rate': 0.04401686171546454, 'optimizer': 'adam', 'activation': 'elu', 'batch_size': 8}. Best is trial 14 with value: 0.8790123456790123.\n"
     ]
    },
    {
     "name": "stdout",
     "output_type": "stream",
     "text": [
      "3/3 [==============================] - 1s 8ms/step\n",
      "3/3 [==============================] - 0s 7ms/step\n",
      "3/3 [==============================] - 0s 8ms/step\n",
      "3/3 [==============================] - 0s 4ms/step\n",
      "3/3 [==============================] - 0s 5ms/step\n"
     ]
    },
    {
     "name": "stderr",
     "output_type": "stream",
     "text": [
      "[I 2023-11-24 09:19:26,237] Trial 17 finished with value: 0.674074074074074 and parameters: {'learning_rate': 0.030706365204863622, 'num_hidden_layers': 4, 'num_hidden_units': 21, 'dropout_rate': 0.07222893186412349, 'optimizer': 'adam', 'activation': 'elu', 'batch_size': 32}. Best is trial 14 with value: 0.8790123456790123.\n"
     ]
    },
    {
     "name": "stdout",
     "output_type": "stream",
     "text": [
      "3/3 [==============================] - 0s 2ms/step\n",
      "3/3 [==============================] - 0s 3ms/step\n",
      "3/3 [==============================] - 0s 6ms/step\n",
      "3/3 [==============================] - 0s 3ms/step\n",
      "3/3 [==============================] - 0s 3ms/step\n"
     ]
    },
    {
     "name": "stderr",
     "output_type": "stream",
     "text": [
      "[I 2023-11-24 09:20:31,673] Trial 18 finished with value: 0.7185185185185186 and parameters: {'learning_rate': 0.010156694472091204, 'num_hidden_layers': 5, 'num_hidden_units': 72, 'dropout_rate': 0.2312434304647153, 'optimizer': 'adam', 'activation': 'elu', 'batch_size': 8}. Best is trial 14 with value: 0.8790123456790123.\n"
     ]
    },
    {
     "name": "stdout",
     "output_type": "stream",
     "text": [
      "3/3 [==============================] - 0s 2ms/step\n",
      "3/3 [==============================] - 0s 7ms/step\n",
      "3/3 [==============================] - 0s 4ms/step\n",
      "3/3 [==============================] - 0s 6ms/step\n",
      "3/3 [==============================] - 0s 3ms/step\n"
     ]
    },
    {
     "name": "stderr",
     "output_type": "stream",
     "text": [
      "[I 2023-11-24 09:21:29,300] Trial 19 finished with value: 0.6691358024691357 and parameters: {'learning_rate': 0.013020511507441141, 'num_hidden_layers': 4, 'num_hidden_units': 121, 'dropout_rate': 0.011269967109908442, 'optimizer': 'adam', 'activation': 'tanh', 'batch_size': 8}. Best is trial 14 with value: 0.8790123456790123.\n"
     ]
    },
    {
     "name": "stdout",
     "output_type": "stream",
     "text": [
      "3/3 [==============================] - 0s 3ms/step\n",
      "3/3 [==============================] - 0s 4ms/step\n",
      "3/3 [==============================] - 0s 2ms/step\n",
      "3/3 [==============================] - 0s 5ms/step\n",
      "3/3 [==============================] - 0s 4ms/step\n"
     ]
    },
    {
     "name": "stderr",
     "output_type": "stream",
     "text": [
      "[I 2023-11-24 09:22:11,593] Trial 20 finished with value: 0.745679012345679 and parameters: {'learning_rate': 0.00022444554909730602, 'num_hidden_layers': 3, 'num_hidden_units': 61, 'dropout_rate': 0.09756633503201781, 'optimizer': 'adam', 'activation': 'relu', 'batch_size': 8}. Best is trial 14 with value: 0.8790123456790123.\n"
     ]
    },
    {
     "name": "stdout",
     "output_type": "stream",
     "text": [
      "3/3 [==============================] - 0s 4ms/step\n",
      "3/3 [==============================] - 0s 6ms/step\n",
      "3/3 [==============================] - 0s 2ms/step\n",
      "3/3 [==============================] - 0s 3ms/step\n",
      "3/3 [==============================] - 0s 4ms/step\n"
     ]
    },
    {
     "name": "stderr",
     "output_type": "stream",
     "text": [
      "[I 2023-11-24 09:22:56,426] Trial 21 finished with value: 0.7481481481481482 and parameters: {'learning_rate': 0.0016549834872745667, 'num_hidden_layers': 3, 'num_hidden_units': 94, 'dropout_rate': 0.0075194103497744375, 'optimizer': 'sgd', 'activation': 'elu', 'batch_size': 8}. Best is trial 14 with value: 0.8790123456790123.\n"
     ]
    },
    {
     "name": "stdout",
     "output_type": "stream",
     "text": [
      "3/3 [==============================] - 0s 5ms/step\n",
      "3/3 [==============================] - 0s 5ms/step\n",
      "3/3 [==============================] - 0s 5ms/step\n",
      "3/3 [==============================] - 0s 4ms/step\n",
      "3/3 [==============================] - 0s 6ms/step\n"
     ]
    },
    {
     "name": "stderr",
     "output_type": "stream",
     "text": [
      "[I 2023-11-24 09:23:31,828] Trial 22 finished with value: 0.8271604938271604 and parameters: {'learning_rate': 0.01116545734431014, 'num_hidden_layers': 3, 'num_hidden_units': 110, 'dropout_rate': 0.033210890444575536, 'optimizer': 'sgd', 'activation': 'elu', 'batch_size': 8}. Best is trial 14 with value: 0.8790123456790123.\n"
     ]
    },
    {
     "name": "stdout",
     "output_type": "stream",
     "text": [
      "3/3 [==============================] - 0s 4ms/step\n",
      "3/3 [==============================] - 0s 3ms/step\n",
      "3/3 [==============================] - 0s 4ms/step\n",
      "3/3 [==============================] - 0s 4ms/step\n",
      "3/3 [==============================] - 0s 3ms/step\n"
     ]
    },
    {
     "name": "stderr",
     "output_type": "stream",
     "text": [
      "[I 2023-11-24 09:24:18,699] Trial 23 finished with value: 0.7925925925925925 and parameters: {'learning_rate': 0.011264839781916367, 'num_hidden_layers': 4, 'num_hidden_units': 79, 'dropout_rate': 0.036407838394811876, 'optimizer': 'sgd', 'activation': 'elu', 'batch_size': 8}. Best is trial 14 with value: 0.8790123456790123.\n"
     ]
    },
    {
     "name": "stdout",
     "output_type": "stream",
     "text": [
      "3/3 [==============================] - 0s 4ms/step\n",
      "3/3 [==============================] - 0s 6ms/step\n",
      "3/3 [==============================] - 0s 3ms/step\n",
      "3/3 [==============================] - 0s 4ms/step\n",
      "3/3 [==============================] - 0s 2ms/step\n"
     ]
    },
    {
     "name": "stderr",
     "output_type": "stream",
     "text": [
      "[I 2023-11-24 09:24:41,897] Trial 24 finished with value: 0.7703703703703704 and parameters: {'learning_rate': 0.011638198397094375, 'num_hidden_layers': 2, 'num_hidden_units': 125, 'dropout_rate': 0.09670261921538809, 'optimizer': 'sgd', 'activation': 'elu', 'batch_size': 32}. Best is trial 14 with value: 0.8790123456790123.\n"
     ]
    },
    {
     "name": "stdout",
     "output_type": "stream",
     "text": [
      "3/3 [==============================] - 0s 5ms/step\n",
      "3/3 [==============================] - 0s 4ms/step\n",
      "3/3 [==============================] - 0s 4ms/step\n",
      "3/3 [==============================] - 0s 2ms/step\n",
      "3/3 [==============================] - 0s 3ms/step\n"
     ]
    },
    {
     "name": "stderr",
     "output_type": "stream",
     "text": [
      "[I 2023-11-24 09:25:08,849] Trial 25 finished with value: 0.654320987654321 and parameters: {'learning_rate': 0.025829492795700536, 'num_hidden_layers': 1, 'num_hidden_units': 152, 'dropout_rate': 0.034682167218725246, 'optimizer': 'sgd', 'activation': 'elu', 'batch_size': 8}. Best is trial 14 with value: 0.8790123456790123.\n"
     ]
    },
    {
     "name": "stdout",
     "output_type": "stream",
     "text": [
      "3/3 [==============================] - 0s 5ms/step\n",
      "3/3 [==============================] - 0s 5ms/step\n",
      "3/3 [==============================] - 0s 4ms/step\n",
      "3/3 [==============================] - 0s 4ms/step\n",
      "3/3 [==============================] - 0s 4ms/step\n"
     ]
    },
    {
     "name": "stderr",
     "output_type": "stream",
     "text": [
      "[I 2023-11-24 09:26:00,772] Trial 26 finished with value: 0.8666666666666666 and parameters: {'learning_rate': 0.022000496040378036, 'num_hidden_layers': 4, 'num_hidden_units': 105, 'dropout_rate': 0.052614233510509416, 'optimizer': 'sgd', 'activation': 'elu', 'batch_size': 8}. Best is trial 14 with value: 0.8790123456790123.\n"
     ]
    },
    {
     "name": "stdout",
     "output_type": "stream",
     "text": [
      "3/3 [==============================] - 0s 6ms/step\n",
      "3/3 [==============================] - 0s 6ms/step\n",
      "3/3 [==============================] - 0s 5ms/step\n",
      "3/3 [==============================] - 0s 2ms/step\n",
      "3/3 [==============================] - 0s 2ms/step\n"
     ]
    },
    {
     "name": "stderr",
     "output_type": "stream",
     "text": [
      "[I 2023-11-24 09:26:59,291] Trial 27 finished with value: 0.7086419753086419 and parameters: {'learning_rate': 0.02163056516071865, 'num_hidden_layers': 5, 'num_hidden_units': 111, 'dropout_rate': 0.09876891867593737, 'optimizer': 'adam', 'activation': 'elu', 'batch_size': 8}. Best is trial 14 with value: 0.8790123456790123.\n"
     ]
    },
    {
     "name": "stdout",
     "output_type": "stream",
     "text": [
      "3/3 [==============================] - 0s 7ms/step\n",
      "3/3 [==============================] - 0s 3ms/step\n",
      "3/3 [==============================] - 0s 5ms/step\n",
      "3/3 [==============================] - 0s 3ms/step\n",
      "3/3 [==============================] - 0s 3ms/step\n"
     ]
    },
    {
     "name": "stderr",
     "output_type": "stream",
     "text": [
      "[I 2023-11-24 09:27:54,663] Trial 28 finished with value: 0.8814814814814813 and parameters: {'learning_rate': 0.033663307228516265, 'num_hidden_layers': 4, 'num_hidden_units': 150, 'dropout_rate': 0.16703124525418117, 'optimizer': 'sgd', 'activation': 'tanh', 'batch_size': 8}. Best is trial 28 with value: 0.8814814814814813.\n"
     ]
    },
    {
     "name": "stdout",
     "output_type": "stream",
     "text": [
      "3/3 [==============================] - 0s 4ms/step\n",
      "3/3 [==============================] - 0s 2ms/step\n",
      "3/3 [==============================] - 0s 4ms/step\n",
      "3/3 [==============================] - 0s 4ms/step\n",
      "3/3 [==============================] - 0s 3ms/step\n"
     ]
    },
    {
     "name": "stderr",
     "output_type": "stream",
     "text": [
      "[I 2023-11-24 09:28:15,096] Trial 29 finished with value: 0.6691358024691358 and parameters: {'learning_rate': 0.03382372012219883, 'num_hidden_layers': 4, 'num_hidden_units': 38, 'dropout_rate': 0.1836940938706994, 'optimizer': 'adam', 'activation': 'tanh', 'batch_size': 32}. Best is trial 28 with value: 0.8814814814814813.\n"
     ]
    },
    {
     "name": "stdout",
     "output_type": "stream",
     "text": [
      "3/3 [==============================] - 0s 5ms/step\n",
      "3/3 [==============================] - 0s 4ms/step\n",
      "3/3 [==============================] - 0s 3ms/step\n",
      "3/3 [==============================] - 0s 5ms/step\n",
      "3/3 [==============================] - 0s 6ms/step\n"
     ]
    },
    {
     "name": "stderr",
     "output_type": "stream",
     "text": [
      "[I 2023-11-24 09:29:02,977] Trial 30 finished with value: 0.8271604938271604 and parameters: {'learning_rate': 0.0390643698617287, 'num_hidden_layers': 4, 'num_hidden_units': 200, 'dropout_rate': 0.09100882778790476, 'optimizer': 'sgd', 'activation': 'tanh', 'batch_size': 8}. Best is trial 28 with value: 0.8814814814814813.\n"
     ]
    },
    {
     "name": "stdout",
     "output_type": "stream",
     "text": [
      "3/3 [==============================] - 0s 3ms/step\n",
      "3/3 [==============================] - 0s 4ms/step\n",
      "3/3 [==============================] - 0s 3ms/step\n",
      "3/3 [==============================] - 0s 2ms/step\n",
      "3/3 [==============================] - 0s 2ms/step\n"
     ]
    },
    {
     "name": "stderr",
     "output_type": "stream",
     "text": [
      "[I 2023-11-24 09:29:55,412] Trial 31 finished with value: 0.9407407407407407 and parameters: {'learning_rate': 0.022224138687968503, 'num_hidden_layers': 3, 'num_hidden_units': 151, 'dropout_rate': 0.04152405577336982, 'optimizer': 'sgd', 'activation': 'tanh', 'batch_size': 8}. Best is trial 31 with value: 0.9407407407407407.\n"
     ]
    },
    {
     "name": "stdout",
     "output_type": "stream",
     "text": [
      "3/3 [==============================] - 0s 6ms/step\n",
      "3/3 [==============================] - 0s 3ms/step\n",
      "3/3 [==============================] - 0s 3ms/step\n",
      "3/3 [==============================] - 0s 3ms/step\n",
      "3/3 [==============================] - 0s 4ms/step\n"
     ]
    },
    {
     "name": "stderr",
     "output_type": "stream",
     "text": [
      "[I 2023-11-24 09:30:44,471] Trial 32 finished with value: 0.8839506172839506 and parameters: {'learning_rate': 0.027237754297221188, 'num_hidden_layers': 4, 'num_hidden_units': 159, 'dropout_rate': 0.06511554140199435, 'optimizer': 'sgd', 'activation': 'tanh', 'batch_size': 8}. Best is trial 31 with value: 0.9407407407407407.\n"
     ]
    },
    {
     "name": "stdout",
     "output_type": "stream",
     "text": [
      "3/3 [==============================] - 0s 5ms/step\n",
      "3/3 [==============================] - 0s 4ms/step\n",
      "3/3 [==============================] - 0s 3ms/step\n",
      "3/3 [==============================] - 0s 5ms/step\n",
      "3/3 [==============================] - 0s 5ms/step\n"
     ]
    },
    {
     "name": "stderr",
     "output_type": "stream",
     "text": [
      "[I 2023-11-24 09:31:34,444] Trial 33 finished with value: 0.8567901234567902 and parameters: {'learning_rate': 0.037229322345653834, 'num_hidden_layers': 3, 'num_hidden_units': 160, 'dropout_rate': 0.12172266756925385, 'optimizer': 'sgd', 'activation': 'tanh', 'batch_size': 8}. Best is trial 31 with value: 0.9407407407407407.\n"
     ]
    },
    {
     "name": "stdout",
     "output_type": "stream",
     "text": [
      "3/3 [==============================] - 0s 4ms/step\n",
      "3/3 [==============================] - 0s 5ms/step\n",
      "3/3 [==============================] - 0s 6ms/step\n",
      "3/3 [==============================] - 0s 4ms/step\n",
      "3/3 [==============================] - 0s 5ms/step\n"
     ]
    },
    {
     "name": "stderr",
     "output_type": "stream",
     "text": [
      "[I 2023-11-24 09:32:08,693] Trial 34 finished with value: 0.8444444444444444 and parameters: {'learning_rate': 0.027200099392562828, 'num_hidden_layers': 4, 'num_hidden_units': 139, 'dropout_rate': 0.17147884336278618, 'optimizer': 'sgd', 'activation': 'tanh', 'batch_size': 16}. Best is trial 31 with value: 0.9407407407407407.\n"
     ]
    },
    {
     "name": "stdout",
     "output_type": "stream",
     "text": [
      "3/3 [==============================] - 0s 3ms/step\n",
      "3/3 [==============================] - 0s 5ms/step\n",
      "3/3 [==============================] - 0s 3ms/step\n",
      "3/3 [==============================] - 0s 4ms/step\n",
      "3/3 [==============================] - 0s 4ms/step\n"
     ]
    },
    {
     "name": "stderr",
     "output_type": "stream",
     "text": [
      "[I 2023-11-24 09:32:56,707] Trial 35 finished with value: 0.562962962962963 and parameters: {'learning_rate': 0.027425038318682274, 'num_hidden_layers': 2, 'num_hidden_units': 193, 'dropout_rate': 0.07562914940495585, 'optimizer': 'adam', 'activation': 'tanh', 'batch_size': 8}. Best is trial 31 with value: 0.9407407407407407.\n"
     ]
    },
    {
     "name": "stdout",
     "output_type": "stream",
     "text": [
      "3/3 [==============================] - 0s 4ms/step\n",
      "3/3 [==============================] - 0s 4ms/step\n",
      "3/3 [==============================] - 0s 6ms/step\n",
      "3/3 [==============================] - 0s 4ms/step\n",
      "3/3 [==============================] - 0s 4ms/step\n"
     ]
    },
    {
     "name": "stderr",
     "output_type": "stream",
     "text": [
      "[I 2023-11-24 09:33:21,014] Trial 36 finished with value: 0.5432098765432098 and parameters: {'learning_rate': 0.05086389881490029, 'num_hidden_layers': 5, 'num_hidden_units': 159, 'dropout_rate': 0.15107449322394642, 'optimizer': 'rmsprop', 'activation': 'tanh', 'batch_size': 64}. Best is trial 31 with value: 0.9407407407407407.\n"
     ]
    },
    {
     "name": "stdout",
     "output_type": "stream",
     "text": [
      "3/3 [==============================] - 0s 4ms/step\n",
      "3/3 [==============================] - 0s 5ms/step\n",
      "3/3 [==============================] - 0s 4ms/step\n",
      "3/3 [==============================] - 0s 4ms/step\n",
      "3/3 [==============================] - 0s 2ms/step\n"
     ]
    },
    {
     "name": "stderr",
     "output_type": "stream",
     "text": [
      "[I 2023-11-24 09:34:11,591] Trial 37 finished with value: 0.8271604938271604 and parameters: {'learning_rate': 0.03404566738405054, 'num_hidden_layers': 4, 'num_hidden_units': 138, 'dropout_rate': 0.10943505813133719, 'optimizer': 'sgd', 'activation': 'tanh', 'batch_size': 8}. Best is trial 31 with value: 0.9407407407407407.\n"
     ]
    },
    {
     "name": "stdout",
     "output_type": "stream",
     "text": [
      "3/3 [==============================] - 0s 5ms/step\n",
      "3/3 [==============================] - 0s 3ms/step\n",
      "3/3 [==============================] - 0s 5ms/step\n",
      "3/3 [==============================] - 0s 4ms/step\n",
      "3/3 [==============================] - 0s 4ms/step\n"
     ]
    },
    {
     "name": "stderr",
     "output_type": "stream",
     "text": [
      "[I 2023-11-24 09:34:43,537] Trial 38 finished with value: 0.8617283950617283 and parameters: {'learning_rate': 0.02344266053240233, 'num_hidden_layers': 2, 'num_hidden_units': 229, 'dropout_rate': 0.13541812121486801, 'optimizer': 'sgd', 'activation': 'tanh', 'batch_size': 16}. Best is trial 31 with value: 0.9407407407407407.\n"
     ]
    },
    {
     "name": "stdout",
     "output_type": "stream",
     "text": [
      "3/3 [==============================] - 0s 4ms/step\n",
      "3/3 [==============================] - 0s 5ms/step\n",
      "3/3 [==============================] - 0s 8ms/step\n",
      "3/3 [==============================] - 0s 2ms/step\n",
      "3/3 [==============================] - 0s 15ms/step\n"
     ]
    },
    {
     "name": "stderr",
     "output_type": "stream",
     "text": [
      "[I 2023-11-24 09:35:05,805] Trial 39 finished with value: 0.6493827160493828 and parameters: {'learning_rate': 0.0413823431380735, 'num_hidden_layers': 3, 'num_hidden_units': 167, 'dropout_rate': 0.0788987463923104, 'optimizer': 'rmsprop', 'activation': 'tanh', 'batch_size': 64}. Best is trial 31 with value: 0.9407407407407407.\n"
     ]
    },
    {
     "name": "stdout",
     "output_type": "stream",
     "text": [
      "3/3 [==============================] - 0s 3ms/step\n",
      "3/3 [==============================] - 0s 4ms/step\n",
      "3/3 [==============================] - 0s 5ms/step\n",
      "3/3 [==============================] - 0s 2ms/step\n",
      "3/3 [==============================] - 0s 5ms/step\n"
     ]
    },
    {
     "name": "stderr",
     "output_type": "stream",
     "text": [
      "[I 2023-11-24 09:35:31,783] Trial 40 finished with value: 0.8271604938271606 and parameters: {'learning_rate': 0.03129061005934876, 'num_hidden_layers': 3, 'num_hidden_units': 185, 'dropout_rate': 0.11020366297351983, 'optimizer': 'sgd', 'activation': 'sigmoid', 'batch_size': 32}. Best is trial 31 with value: 0.9407407407407407.\n"
     ]
    },
    {
     "name": "stdout",
     "output_type": "stream",
     "text": [
      "3/3 [==============================] - 0s 4ms/step\n",
      "3/3 [==============================] - 0s 3ms/step\n",
      "3/3 [==============================] - 0s 4ms/step\n",
      "3/3 [==============================] - 0s 3ms/step\n",
      "3/3 [==============================] - 0s 4ms/step\n"
     ]
    },
    {
     "name": "stderr",
     "output_type": "stream",
     "text": [
      "[I 2023-11-24 09:36:23,240] Trial 41 finished with value: 0.9283950617283951 and parameters: {'learning_rate': 0.021236961558640195, 'num_hidden_layers': 4, 'num_hidden_units': 128, 'dropout_rate': 0.05081024091465855, 'optimizer': 'sgd', 'activation': 'tanh', 'batch_size': 8}. Best is trial 31 with value: 0.9407407407407407.\n"
     ]
    },
    {
     "name": "stdout",
     "output_type": "stream",
     "text": [
      "3/3 [==============================] - 0s 22ms/step\n",
      "3/3 [==============================] - 0s 3ms/step\n",
      "3/3 [==============================] - 0s 6ms/step\n",
      "3/3 [==============================] - 0s 3ms/step\n",
      "3/3 [==============================] - 0s 4ms/step\n"
     ]
    },
    {
     "name": "stderr",
     "output_type": "stream",
     "text": [
      "[I 2023-11-24 09:37:14,423] Trial 42 finished with value: 0.8913580246913579 and parameters: {'learning_rate': 0.01836421932780005, 'num_hidden_layers': 4, 'num_hidden_units': 147, 'dropout_rate': 0.02778188796952776, 'optimizer': 'sgd', 'activation': 'tanh', 'batch_size': 8}. Best is trial 31 with value: 0.9407407407407407.\n"
     ]
    },
    {
     "name": "stdout",
     "output_type": "stream",
     "text": [
      "3/3 [==============================] - 0s 5ms/step\n",
      "3/3 [==============================] - 0s 4ms/step\n",
      "3/3 [==============================] - 0s 4ms/step\n",
      "3/3 [==============================] - 0s 3ms/step\n",
      "3/3 [==============================] - 0s 5ms/step\n"
     ]
    },
    {
     "name": "stderr",
     "output_type": "stream",
     "text": [
      "[I 2023-11-24 09:38:20,410] Trial 43 finished with value: 0.9283950617283951 and parameters: {'learning_rate': 0.016955563316875095, 'num_hidden_layers': 5, 'num_hidden_units': 148, 'dropout_rate': 0.057374080526497825, 'optimizer': 'sgd', 'activation': 'tanh', 'batch_size': 8}. Best is trial 31 with value: 0.9407407407407407.\n"
     ]
    },
    {
     "name": "stdout",
     "output_type": "stream",
     "text": [
      "3/3 [==============================] - 0s 4ms/step\n",
      "3/3 [==============================] - 0s 3ms/step\n",
      "3/3 [==============================] - 0s 4ms/step\n",
      "3/3 [==============================] - 0s 3ms/step\n",
      "3/3 [==============================] - 0s 2ms/step\n"
     ]
    },
    {
     "name": "stderr",
     "output_type": "stream",
     "text": [
      "[I 2023-11-24 09:39:14,538] Trial 44 finished with value: 0.8716049382716049 and parameters: {'learning_rate': 0.01695738151601995, 'num_hidden_layers': 5, 'num_hidden_units': 127, 'dropout_rate': 0.0552768910892003, 'optimizer': 'sgd', 'activation': 'tanh', 'batch_size': 8}. Best is trial 31 with value: 0.9407407407407407.\n"
     ]
    },
    {
     "name": "stdout",
     "output_type": "stream",
     "text": [
      "3/3 [==============================] - 0s 3ms/step\n",
      "3/3 [==============================] - 0s 3ms/step\n",
      "3/3 [==============================] - 0s 4ms/step\n",
      "3/3 [==============================] - 0s 4ms/step\n",
      "3/3 [==============================] - 0s 3ms/step\n"
     ]
    },
    {
     "name": "stderr",
     "output_type": "stream",
     "text": [
      "[I 2023-11-24 09:40:18,621] Trial 45 finished with value: 0.9234567901234568 and parameters: {'learning_rate': 0.021466450039036654, 'num_hidden_layers': 5, 'num_hidden_units': 171, 'dropout_rate': 0.0345049314262067, 'optimizer': 'sgd', 'activation': 'tanh', 'batch_size': 8}. Best is trial 31 with value: 0.9407407407407407.\n"
     ]
    },
    {
     "name": "stdout",
     "output_type": "stream",
     "text": [
      "3/3 [==============================] - 0s 3ms/step\n",
      "3/3 [==============================] - 0s 3ms/step\n",
      "3/3 [==============================] - 0s 4ms/step\n",
      "3/3 [==============================] - 0s 3ms/step\n",
      "3/3 [==============================] - 0s 2ms/step\n"
     ]
    },
    {
     "name": "stderr",
     "output_type": "stream",
     "text": [
      "[I 2023-11-24 09:40:46,982] Trial 46 finished with value: 0.9382716049382716 and parameters: {'learning_rate': 0.007613201422808314, 'num_hidden_layers': 5, 'num_hidden_units': 171, 'dropout_rate': 0.04642149073483452, 'optimizer': 'sgd', 'activation': 'tanh', 'batch_size': 16}. Best is trial 31 with value: 0.9407407407407407.\n"
     ]
    },
    {
     "name": "stdout",
     "output_type": "stream",
     "text": [
      "3/3 [==============================] - 0s 5ms/step\n",
      "3/3 [==============================] - 0s 3ms/step\n",
      "3/3 [==============================] - 0s 8ms/step\n",
      "3/3 [==============================] - 0s 6ms/step\n",
      "3/3 [==============================] - 0s 3ms/step\n"
     ]
    },
    {
     "name": "stderr",
     "output_type": "stream",
     "text": [
      "[I 2023-11-24 09:41:29,739] Trial 47 finished with value: 0.8049382716049382 and parameters: {'learning_rate': 0.007208526647086936, 'num_hidden_layers': 5, 'num_hidden_units': 171, 'dropout_rate': 0.045789650701975375, 'optimizer': 'sgd', 'activation': 'sigmoid', 'batch_size': 16}. Best is trial 31 with value: 0.9407407407407407.\n"
     ]
    },
    {
     "name": "stdout",
     "output_type": "stream",
     "text": [
      "3/3 [==============================] - 0s 5ms/step\n",
      "3/3 [==============================] - 0s 8ms/step\n",
      "3/3 [==============================] - 0s 6ms/step\n",
      "3/3 [==============================] - 0s 8ms/step\n",
      "3/3 [==============================] - 0s 4ms/step\n"
     ]
    },
    {
     "name": "stderr",
     "output_type": "stream",
     "text": [
      "[I 2023-11-24 09:42:11,075] Trial 48 finished with value: 0.9037037037037038 and parameters: {'learning_rate': 0.006711108632087778, 'num_hidden_layers': 5, 'num_hidden_units': 226, 'dropout_rate': 0.023260947157461687, 'optimizer': 'sgd', 'activation': 'tanh', 'batch_size': 16}. Best is trial 31 with value: 0.9407407407407407.\n"
     ]
    },
    {
     "name": "stdout",
     "output_type": "stream",
     "text": [
      "3/3 [==============================] - 0s 5ms/step\n",
      "3/3 [==============================] - 0s 3ms/step\n",
      "3/3 [==============================] - 0s 5ms/step\n",
      "3/3 [==============================] - 0s 5ms/step\n",
      "3/3 [==============================] - 0s 5ms/step\n"
     ]
    },
    {
     "name": "stderr",
     "output_type": "stream",
     "text": [
      "[I 2023-11-24 09:43:06,571] Trial 49 finished with value: 0.6987654320987654 and parameters: {'learning_rate': 0.014900219100672645, 'num_hidden_layers': 5, 'num_hidden_units': 210, 'dropout_rate': 0.08205121457197925, 'optimizer': 'rmsprop', 'activation': 'tanh', 'batch_size': 16}. Best is trial 31 with value: 0.9407407407407407.\n"
     ]
    },
    {
     "name": "stdout",
     "output_type": "stream",
     "text": [
      "3/3 [==============================] - 0s 4ms/step\n",
      "3/3 [==============================] - 0s 5ms/step\n",
      "3/3 [==============================] - 0s 2ms/step\n",
      "3/3 [==============================] - 0s 5ms/step\n",
      "3/3 [==============================] - 0s 4ms/step\n"
     ]
    },
    {
     "name": "stderr",
     "output_type": "stream",
     "text": [
      "[I 2023-11-24 09:43:40,508] Trial 50 finished with value: 0.7209876543209877 and parameters: {'learning_rate': 0.00837676087177375, 'num_hidden_layers': 5, 'num_hidden_units': 182, 'dropout_rate': 0.12635747210073384, 'optimizer': 'sgd', 'activation': 'relu', 'batch_size': 16}. Best is trial 31 with value: 0.9407407407407407.\n"
     ]
    },
    {
     "name": "stdout",
     "output_type": "stream",
     "text": [
      "3/3 [==============================] - 0s 5ms/step\n",
      "3/3 [==============================] - 0s 7ms/step\n",
      "3/3 [==============================] - 0s 5ms/step\n",
      "3/3 [==============================] - 0s 6ms/step\n",
      "3/3 [==============================] - 0s 4ms/step\n"
     ]
    },
    {
     "name": "stderr",
     "output_type": "stream",
     "text": [
      "[I 2023-11-24 09:44:20,841] Trial 51 finished with value: 0.9308641975308642 and parameters: {'learning_rate': 0.006641376984768731, 'num_hidden_layers': 5, 'num_hidden_units': 220, 'dropout_rate': 0.023055554205263402, 'optimizer': 'sgd', 'activation': 'tanh', 'batch_size': 16}. Best is trial 31 with value: 0.9407407407407407.\n"
     ]
    },
    {
     "name": "stdout",
     "output_type": "stream",
     "text": [
      "3/3 [==============================] - 0s 4ms/step\n",
      "3/3 [==============================] - 0s 7ms/step\n",
      "3/3 [==============================] - 0s 4ms/step\n",
      "3/3 [==============================] - 0s 5ms/step\n",
      "3/3 [==============================] - 0s 6ms/step\n"
     ]
    },
    {
     "name": "stderr",
     "output_type": "stream",
     "text": [
      "[I 2023-11-24 09:44:58,835] Trial 52 finished with value: 0.9209876543209876 and parameters: {'learning_rate': 0.014803744288776116, 'num_hidden_layers': 5, 'num_hidden_units': 134, 'dropout_rate': 0.052138142497329905, 'optimizer': 'sgd', 'activation': 'tanh', 'batch_size': 16}. Best is trial 31 with value: 0.9407407407407407.\n"
     ]
    },
    {
     "name": "stdout",
     "output_type": "stream",
     "text": [
      "3/3 [==============================] - 0s 4ms/step\n",
      "3/3 [==============================] - 0s 5ms/step\n",
      "3/3 [==============================] - 0s 5ms/step\n",
      "3/3 [==============================] - 0s 5ms/step\n",
      "3/3 [==============================] - 0s 7ms/step\n"
     ]
    },
    {
     "name": "stderr",
     "output_type": "stream",
     "text": [
      "[I 2023-11-24 09:45:39,351] Trial 53 finished with value: 0.9382716049382716 and parameters: {'learning_rate': 0.02137481462680972, 'num_hidden_layers': 5, 'num_hidden_units': 210, 'dropout_rate': 0.021315179241559068, 'optimizer': 'sgd', 'activation': 'tanh', 'batch_size': 16}. Best is trial 31 with value: 0.9407407407407407.\n"
     ]
    },
    {
     "name": "stdout",
     "output_type": "stream",
     "text": [
      "3/3 [==============================] - 0s 4ms/step\n",
      "3/3 [==============================] - 0s 4ms/step\n",
      "3/3 [==============================] - 0s 5ms/step\n",
      "3/3 [==============================] - 0s 4ms/step\n",
      "3/3 [==============================] - 0s 5ms/step\n"
     ]
    },
    {
     "name": "stderr",
     "output_type": "stream",
     "text": [
      "[I 2023-11-24 09:46:31,831] Trial 54 finished with value: 0.9432098765432098 and parameters: {'learning_rate': 0.004775262669258769, 'num_hidden_layers': 5, 'num_hidden_units': 223, 'dropout_rate': 0.017998662152540326, 'optimizer': 'sgd', 'activation': 'tanh', 'batch_size': 16}. Best is trial 54 with value: 0.9432098765432098.\n"
     ]
    },
    {
     "name": "stdout",
     "output_type": "stream",
     "text": [
      "3/3 [==============================] - 0s 6ms/step\n",
      "3/3 [==============================] - 0s 2ms/step\n",
      "3/3 [==============================] - 0s 5ms/step\n",
      "3/3 [==============================] - 0s 5ms/step\n",
      "3/3 [==============================] - 0s 4ms/step\n"
     ]
    },
    {
     "name": "stderr",
     "output_type": "stream",
     "text": [
      "[I 2023-11-24 09:47:10,168] Trial 55 finished with value: 0.9234567901234568 and parameters: {'learning_rate': 0.004438715455221051, 'num_hidden_layers': 5, 'num_hidden_units': 246, 'dropout_rate': 0.0020468327742809433, 'optimizer': 'sgd', 'activation': 'tanh', 'batch_size': 16}. Best is trial 54 with value: 0.9432098765432098.\n"
     ]
    },
    {
     "name": "stdout",
     "output_type": "stream",
     "text": [
      "3/3 [==============================] - 0s 6ms/step\n",
      "3/3 [==============================] - 0s 5ms/step\n",
      "3/3 [==============================] - 0s 6ms/step\n",
      "3/3 [==============================] - 0s 4ms/step\n",
      "3/3 [==============================] - 0s 2ms/step\n"
     ]
    },
    {
     "name": "stderr",
     "output_type": "stream",
     "text": [
      "[I 2023-11-24 09:47:57,374] Trial 56 finished with value: 0.888888888888889 and parameters: {'learning_rate': 0.007979486567335693, 'num_hidden_layers': 5, 'num_hidden_units': 214, 'dropout_rate': 0.017969859488312256, 'optimizer': 'sgd', 'activation': 'tanh', 'batch_size': 16}. Best is trial 54 with value: 0.9432098765432098.\n"
     ]
    },
    {
     "name": "stdout",
     "output_type": "stream",
     "text": [
      "3/3 [==============================] - 0s 5ms/step\n",
      "3/3 [==============================] - 0s 3ms/step\n",
      "3/3 [==============================] - 0s 3ms/step\n",
      "3/3 [==============================] - 0s 3ms/step\n",
      "3/3 [==============================] - 0s 3ms/step\n"
     ]
    },
    {
     "name": "stderr",
     "output_type": "stream",
     "text": [
      "[I 2023-11-24 09:48:38,164] Trial 57 finished with value: 0.9160493827160494 and parameters: {'learning_rate': 0.013290201419516999, 'num_hidden_layers': 5, 'num_hidden_units': 230, 'dropout_rate': 0.022339062076453767, 'optimizer': 'sgd', 'activation': 'sigmoid', 'batch_size': 16}. Best is trial 54 with value: 0.9432098765432098.\n"
     ]
    },
    {
     "name": "stdout",
     "output_type": "stream",
     "text": [
      "3/3 [==============================] - 0s 3ms/step\n",
      "3/3 [==============================] - 0s 2ms/step\n",
      "3/3 [==============================] - 0s 4ms/step\n",
      "3/3 [==============================] - 0s 2ms/step\n",
      "3/3 [==============================] - 0s 3ms/step\n"
     ]
    },
    {
     "name": "stderr",
     "output_type": "stream",
     "text": [
      "[I 2023-11-24 09:49:00,164] Trial 58 finished with value: 0.7432098765432098 and parameters: {'learning_rate': 0.0063891457409186725, 'num_hidden_layers': 5, 'num_hidden_units': 255, 'dropout_rate': 0.0789721828235189, 'optimizer': 'sgd', 'activation': 'relu', 'batch_size': 16}. Best is trial 54 with value: 0.9432098765432098.\n"
     ]
    },
    {
     "name": "stdout",
     "output_type": "stream",
     "text": [
      "3/3 [==============================] - 0s 3ms/step\n",
      "3/3 [==============================] - 0s 3ms/step\n",
      "3/3 [==============================] - 0s 4ms/step\n",
      "3/3 [==============================] - 0s 3ms/step\n",
      "3/3 [==============================] - 0s 4ms/step\n"
     ]
    },
    {
     "name": "stderr",
     "output_type": "stream",
     "text": [
      "[I 2023-11-24 09:49:27,198] Trial 59 finished with value: 0.8172839506172839 and parameters: {'learning_rate': 0.0034507826954619505, 'num_hidden_layers': 5, 'num_hidden_units': 220, 'dropout_rate': 0.022609799187924388, 'optimizer': 'rmsprop', 'activation': 'tanh', 'batch_size': 16}. Best is trial 54 with value: 0.9432098765432098.\n"
     ]
    },
    {
     "name": "stdout",
     "output_type": "stream",
     "text": [
      "3/3 [==============================] - 0s 3ms/step\n",
      "3/3 [==============================] - 0s 3ms/step\n",
      "3/3 [==============================] - 0s 4ms/step\n",
      "3/3 [==============================] - 0s 3ms/step\n",
      "3/3 [==============================] - 0s 5ms/step\n"
     ]
    },
    {
     "name": "stderr",
     "output_type": "stream",
     "text": [
      "[I 2023-11-24 09:50:06,009] Trial 60 finished with value: 0.691358024691358 and parameters: {'learning_rate': 9.016132645352226e-05, 'num_hidden_layers': 5, 'num_hidden_units': 195, 'dropout_rate': 0.06234364175611301, 'optimizer': 'sgd', 'activation': 'tanh', 'batch_size': 16}. Best is trial 54 with value: 0.9432098765432098.\n"
     ]
    },
    {
     "name": "stdout",
     "output_type": "stream",
     "text": [
      "3/3 [==============================] - 0s 6ms/step\n",
      "3/3 [==============================] - 0s 5ms/step\n",
      "3/3 [==============================] - 0s 5ms/step\n",
      "3/3 [==============================] - 0s 6ms/step\n",
      "3/3 [==============================] - 0s 4ms/step\n"
     ]
    },
    {
     "name": "stderr",
     "output_type": "stream",
     "text": [
      "[I 2023-11-24 09:50:51,529] Trial 61 finished with value: 0.9506172839506173 and parameters: {'learning_rate': 0.009430953801060262, 'num_hidden_layers': 5, 'num_hidden_units': 243, 'dropout_rate': 0.048749251134159816, 'optimizer': 'sgd', 'activation': 'tanh', 'batch_size': 16}. Best is trial 61 with value: 0.9506172839506173.\n"
     ]
    },
    {
     "name": "stdout",
     "output_type": "stream",
     "text": [
      "3/3 [==============================] - 0s 4ms/step\n",
      "3/3 [==============================] - 0s 5ms/step\n",
      "3/3 [==============================] - 0s 3ms/step\n",
      "3/3 [==============================] - 0s 4ms/step\n",
      "3/3 [==============================] - 0s 3ms/step\n"
     ]
    },
    {
     "name": "stderr",
     "output_type": "stream",
     "text": [
      "[I 2023-11-24 09:51:19,984] Trial 62 finished with value: 0.9012345679012345 and parameters: {'learning_rate': 0.009862570238659166, 'num_hidden_layers': 5, 'num_hidden_units': 243, 'dropout_rate': 0.04912277747883094, 'optimizer': 'sgd', 'activation': 'tanh', 'batch_size': 16}. Best is trial 61 with value: 0.9506172839506173.\n"
     ]
    },
    {
     "name": "stdout",
     "output_type": "stream",
     "text": [
      "3/3 [==============================] - 0s 3ms/step\n",
      "3/3 [==============================] - 0s 3ms/step\n",
      "3/3 [==============================] - 0s 3ms/step\n",
      "3/3 [==============================] - 0s 4ms/step\n",
      "3/3 [==============================] - 0s 5ms/step\n"
     ]
    },
    {
     "name": "stderr",
     "output_type": "stream",
     "text": [
      "[I 2023-11-24 09:51:41,784] Trial 63 finished with value: 0.8962962962962961 and parameters: {'learning_rate': 0.004248291434621387, 'num_hidden_layers': 5, 'num_hidden_units': 240, 'dropout_rate': 0.039794250369498935, 'optimizer': 'sgd', 'activation': 'tanh', 'batch_size': 16}. Best is trial 61 with value: 0.9506172839506173.\n"
     ]
    },
    {
     "name": "stdout",
     "output_type": "stream",
     "text": [
      "3/3 [==============================] - 0s 4ms/step\n",
      "3/3 [==============================] - 0s 3ms/step\n",
      "3/3 [==============================] - 0s 4ms/step\n",
      "3/3 [==============================] - 0s 2ms/step\n",
      "3/3 [==============================] - 0s 4ms/step\n"
     ]
    },
    {
     "name": "stderr",
     "output_type": "stream",
     "text": [
      "[I 2023-11-24 09:52:03,116] Trial 64 finished with value: 0.8765432098765432 and parameters: {'learning_rate': 0.011970381530645264, 'num_hidden_layers': 5, 'num_hidden_units': 206, 'dropout_rate': 0.0018114985299522157, 'optimizer': 'sgd', 'activation': 'tanh', 'batch_size': 16}. Best is trial 61 with value: 0.9506172839506173.\n"
     ]
    },
    {
     "name": "stdout",
     "output_type": "stream",
     "text": [
      "3/3 [==============================] - 0s 3ms/step\n",
      "3/3 [==============================] - 0s 5ms/step\n",
      "3/3 [==============================] - 0s 2ms/step\n",
      "3/3 [==============================] - 0s 3ms/step\n",
      "3/3 [==============================] - 0s 3ms/step\n"
     ]
    },
    {
     "name": "stderr",
     "output_type": "stream",
     "text": [
      "[I 2023-11-24 09:52:30,758] Trial 65 finished with value: 0.8913580246913579 and parameters: {'learning_rate': 0.009284049809220056, 'num_hidden_layers': 5, 'num_hidden_units': 236, 'dropout_rate': 0.01902525097374135, 'optimizer': 'sgd', 'activation': 'tanh', 'batch_size': 16}. Best is trial 61 with value: 0.9506172839506173.\n"
     ]
    },
    {
     "name": "stdout",
     "output_type": "stream",
     "text": [
      "3/3 [==============================] - 0s 3ms/step\n",
      "3/3 [==============================] - 0s 5ms/step\n",
      "3/3 [==============================] - 0s 3ms/step\n",
      "3/3 [==============================] - 0s 3ms/step\n",
      "3/3 [==============================] - 0s 5ms/step\n"
     ]
    },
    {
     "name": "stderr",
     "output_type": "stream",
     "text": [
      "[I 2023-11-24 09:52:44,866] Trial 66 finished with value: 0.7012345679012346 and parameters: {'learning_rate': 0.020122759239742702, 'num_hidden_layers': 5, 'num_hidden_units': 218, 'dropout_rate': 0.039071842451795, 'optimizer': 'sgd', 'activation': 'tanh', 'batch_size': 64}. Best is trial 61 with value: 0.9506172839506173.\n"
     ]
    },
    {
     "name": "stdout",
     "output_type": "stream",
     "text": [
      "3/3 [==============================] - 0s 3ms/step\n",
      "3/3 [==============================] - 0s 3ms/step\n",
      "3/3 [==============================] - 0s 3ms/step\n",
      "3/3 [==============================] - 0s 3ms/step\n",
      "3/3 [==============================] - 0s 3ms/step\n"
     ]
    },
    {
     "name": "stderr",
     "output_type": "stream",
     "text": [
      "[I 2023-11-24 09:53:08,989] Trial 67 finished with value: 0.7876543209876543 and parameters: {'learning_rate': 0.014868711349820322, 'num_hidden_layers': 4, 'num_hidden_units': 255, 'dropout_rate': 0.06812430185543551, 'optimizer': 'sgd', 'activation': 'relu', 'batch_size': 16}. Best is trial 61 with value: 0.9506172839506173.\n"
     ]
    },
    {
     "name": "stdout",
     "output_type": "stream",
     "text": [
      "3/3 [==============================] - 0s 2ms/step\n",
      "3/3 [==============================] - 0s 3ms/step\n",
      "3/3 [==============================] - 0s 2ms/step\n",
      "3/3 [==============================] - 0s 2ms/step\n",
      "3/3 [==============================] - 0s 4ms/step\n"
     ]
    },
    {
     "name": "stderr",
     "output_type": "stream",
     "text": [
      "[I 2023-11-24 09:53:38,547] Trial 68 finished with value: 0.8567901234567901 and parameters: {'learning_rate': 0.003710053437586144, 'num_hidden_layers': 3, 'num_hidden_units': 190, 'dropout_rate': 0.013632170566357023, 'optimizer': 'sgd', 'activation': 'tanh', 'batch_size': 16}. Best is trial 61 with value: 0.9506172839506173.\n"
     ]
    },
    {
     "name": "stdout",
     "output_type": "stream",
     "text": [
      "3/3 [==============================] - 0s 5ms/step\n",
      "3/3 [==============================] - 0s 4ms/step\n",
      "3/3 [==============================] - 0s 3ms/step\n",
      "3/3 [==============================] - 0s 3ms/step\n",
      "3/3 [==============================] - 0s 3ms/step\n"
     ]
    },
    {
     "name": "stderr",
     "output_type": "stream",
     "text": [
      "[I 2023-11-24 09:53:58,837] Trial 69 finished with value: 0.8345679012345679 and parameters: {'learning_rate': 0.012934057774644535, 'num_hidden_layers': 5, 'num_hidden_units': 204, 'dropout_rate': 0.08864640108831243, 'optimizer': 'sgd', 'activation': 'tanh', 'batch_size': 32}. Best is trial 61 with value: 0.9506172839506173.\n"
     ]
    },
    {
     "name": "stdout",
     "output_type": "stream",
     "text": [
      "3/3 [==============================] - 0s 2ms/step\n",
      "3/3 [==============================] - 0s 2ms/step\n",
      "3/3 [==============================] - 0s 2ms/step\n",
      "3/3 [==============================] - 0s 4ms/step\n",
      "3/3 [==============================] - 0s 2ms/step\n"
     ]
    },
    {
     "name": "stderr",
     "output_type": "stream",
     "text": [
      "[I 2023-11-24 09:54:16,902] Trial 70 finished with value: 0.8666666666666666 and parameters: {'learning_rate': 0.022924815075037318, 'num_hidden_layers': 4, 'num_hidden_units': 120, 'dropout_rate': 0.00029704144714778197, 'optimizer': 'sgd', 'activation': 'tanh', 'batch_size': 16}. Best is trial 61 with value: 0.9506172839506173.\n"
     ]
    },
    {
     "name": "stdout",
     "output_type": "stream",
     "text": [
      "3/3 [==============================] - 0s 3ms/step\n",
      "3/3 [==============================] - 0s 2ms/step\n",
      "3/3 [==============================] - 0s 2ms/step\n",
      "3/3 [==============================] - 0s 2ms/step\n",
      "3/3 [==============================] - 0s 2ms/step\n"
     ]
    },
    {
     "name": "stderr",
     "output_type": "stream",
     "text": [
      "[I 2023-11-24 09:54:33,902] Trial 71 finished with value: 0.8987654320987654 and parameters: {'learning_rate': 0.01740688211855318, 'num_hidden_layers': 5, 'num_hidden_units': 144, 'dropout_rate': 0.05941928012270127, 'optimizer': 'sgd', 'activation': 'tanh', 'batch_size': 16}. Best is trial 61 with value: 0.9506172839506173.\n"
     ]
    },
    {
     "name": "stdout",
     "output_type": "stream",
     "text": [
      "3/3 [==============================] - 0s 3ms/step\n",
      "3/3 [==============================] - 0s 3ms/step\n",
      "3/3 [==============================] - 0s 3ms/step\n",
      "3/3 [==============================] - 0s 3ms/step\n",
      "3/3 [==============================] - 0s 4ms/step\n"
     ]
    },
    {
     "name": "stderr",
     "output_type": "stream",
     "text": [
      "[I 2023-11-24 09:54:51,827] Trial 72 finished with value: 0.8345679012345679 and parameters: {'learning_rate': 0.019289119020010233, 'num_hidden_layers': 5, 'num_hidden_units': 221, 'dropout_rate': 0.03935958595115899, 'optimizer': 'sgd', 'activation': 'tanh', 'batch_size': 16}. Best is trial 61 with value: 0.9506172839506173.\n"
     ]
    },
    {
     "name": "stdout",
     "output_type": "stream",
     "text": [
      "3/3 [==============================] - 0s 2ms/step\n",
      "3/3 [==============================] - 0s 2ms/step\n",
      "3/3 [==============================] - 0s 2ms/step\n",
      "3/3 [==============================] - 0s 4ms/step\n",
      "3/3 [==============================] - 0s 2ms/step\n"
     ]
    },
    {
     "name": "stderr",
     "output_type": "stream",
     "text": [
      "[I 2023-11-24 09:55:05,135] Trial 73 finished with value: 0.7777777777777779 and parameters: {'learning_rate': 0.016222243628291434, 'num_hidden_layers': 5, 'num_hidden_units': 132, 'dropout_rate': 0.0666615884280002, 'optimizer': 'sgd', 'activation': 'tanh', 'batch_size': 64}. Best is trial 61 with value: 0.9506172839506173.\n"
     ]
    },
    {
     "name": "stdout",
     "output_type": "stream",
     "text": [
      "3/3 [==============================] - 0s 3ms/step\n",
      "3/3 [==============================] - 0s 4ms/step\n",
      "3/3 [==============================] - 0s 3ms/step\n",
      "3/3 [==============================] - 0s 2ms/step\n",
      "3/3 [==============================] - 0s 4ms/step\n"
     ]
    },
    {
     "name": "stderr",
     "output_type": "stream",
     "text": [
      "[I 2023-11-24 09:55:26,060] Trial 74 finished with value: 0.8543209876543209 and parameters: {'learning_rate': 0.009889345504917293, 'num_hidden_layers': 5, 'num_hidden_units': 235, 'dropout_rate': 0.04920173929105194, 'optimizer': 'sgd', 'activation': 'tanh', 'batch_size': 16}. Best is trial 61 with value: 0.9506172839506173.\n"
     ]
    },
    {
     "name": "stdout",
     "output_type": "stream",
     "text": [
      "3/3 [==============================] - 0s 2ms/step\n",
      "3/3 [==============================] - 0s 2ms/step\n",
      "3/3 [==============================] - 0s 2ms/step\n",
      "3/3 [==============================] - 0s 2ms/step\n",
      "3/3 [==============================] - 0s 3ms/step\n"
     ]
    },
    {
     "name": "stderr",
     "output_type": "stream",
     "text": [
      "[I 2023-11-24 09:55:49,809] Trial 75 finished with value: 0.762962962962963 and parameters: {'learning_rate': 0.005147699482399582, 'num_hidden_layers': 5, 'num_hidden_units': 115, 'dropout_rate': 0.031084352348672805, 'optimizer': 'sgd', 'activation': 'sigmoid', 'batch_size': 8}. Best is trial 61 with value: 0.9506172839506173.\n"
     ]
    },
    {
     "name": "stdout",
     "output_type": "stream",
     "text": [
      "3/3 [==============================] - 0s 3ms/step\n",
      "3/3 [==============================] - 0s 2ms/step\n",
      "3/3 [==============================] - 0s 2ms/step\n",
      "3/3 [==============================] - 0s 3ms/step\n",
      "3/3 [==============================] - 0s 3ms/step\n"
     ]
    },
    {
     "name": "stderr",
     "output_type": "stream",
     "text": [
      "[I 2023-11-24 09:56:01,491] Trial 76 finished with value: 0.6888888888888889 and parameters: {'learning_rate': 0.02378990091721476, 'num_hidden_layers': 3, 'num_hidden_units': 154, 'dropout_rate': 0.07422707530273542, 'optimizer': 'rmsprop', 'activation': 'tanh', 'batch_size': 32}. Best is trial 61 with value: 0.9506172839506173.\n"
     ]
    },
    {
     "name": "stdout",
     "output_type": "stream",
     "text": [
      "3/3 [==============================] - 0s 3ms/step\n",
      "3/3 [==============================] - 0s 3ms/step\n",
      "3/3 [==============================] - 0s 2ms/step\n",
      "3/3 [==============================] - 0s 3ms/step\n",
      "3/3 [==============================] - 0s 3ms/step\n"
     ]
    },
    {
     "name": "stderr",
     "output_type": "stream",
     "text": [
      "[I 2023-11-24 09:56:31,311] Trial 77 finished with value: 0.8716049382716049 and parameters: {'learning_rate': 0.019025467092151284, 'num_hidden_layers': 5, 'num_hidden_units': 164, 'dropout_rate': 0.1015960523680336, 'optimizer': 'sgd', 'activation': 'tanh', 'batch_size': 8}. Best is trial 61 with value: 0.9506172839506173.\n"
     ]
    },
    {
     "name": "stdout",
     "output_type": "stream",
     "text": [
      "3/3 [==============================] - 0s 3ms/step\n",
      "3/3 [==============================] - 0s 3ms/step\n",
      "3/3 [==============================] - 0s 3ms/step\n",
      "3/3 [==============================] - 0s 3ms/step\n",
      "3/3 [==============================] - 0s 2ms/step\n"
     ]
    },
    {
     "name": "stderr",
     "output_type": "stream",
     "text": [
      "[I 2023-11-24 09:56:52,369] Trial 78 finished with value: 0.8913580246913579 and parameters: {'learning_rate': 0.02466687653836863, 'num_hidden_layers': 4, 'num_hidden_units': 248, 'dropout_rate': 0.017778980418938106, 'optimizer': 'sgd', 'activation': 'tanh', 'batch_size': 16}. Best is trial 61 with value: 0.9506172839506173.\n"
     ]
    },
    {
     "name": "stdout",
     "output_type": "stream",
     "text": [
      "3/3 [==============================] - 0s 4ms/step\n",
      "3/3 [==============================] - 0s 2ms/step\n",
      "3/3 [==============================] - 0s 2ms/step\n",
      "3/3 [==============================] - 0s 3ms/step\n",
      "3/3 [==============================] - 0s 2ms/step\n"
     ]
    },
    {
     "name": "stderr",
     "output_type": "stream",
     "text": [
      "[I 2023-11-24 09:57:20,181] Trial 79 finished with value: 0.8962962962962964 and parameters: {'learning_rate': 0.011888713774850146, 'num_hidden_layers': 5, 'num_hidden_units': 92, 'dropout_rate': 0.08761279687283563, 'optimizer': 'sgd', 'activation': 'tanh', 'batch_size': 8}. Best is trial 61 with value: 0.9506172839506173.\n"
     ]
    },
    {
     "name": "stdout",
     "output_type": "stream",
     "text": [
      "3/3 [==============================] - 0s 2ms/step\n",
      "3/3 [==============================] - 0s 2ms/step\n",
      "3/3 [==============================] - 0s 2ms/step\n",
      "3/3 [==============================] - 0s 2ms/step\n",
      "3/3 [==============================] - 0s 2ms/step\n"
     ]
    },
    {
     "name": "stderr",
     "output_type": "stream",
     "text": [
      "[I 2023-11-24 09:57:38,121] Trial 80 finished with value: 0.7382716049382716 and parameters: {'learning_rate': 0.015372079902700318, 'num_hidden_layers': 4, 'num_hidden_units': 143, 'dropout_rate': 0.05414985617806942, 'optimizer': 'adam', 'activation': 'tanh', 'batch_size': 16}. Best is trial 61 with value: 0.9506172839506173.\n"
     ]
    },
    {
     "name": "stdout",
     "output_type": "stream",
     "text": [
      "3/3 [==============================] - 0s 2ms/step\n",
      "3/3 [==============================] - 0s 2ms/step\n",
      "3/3 [==============================] - 0s 2ms/step\n",
      "3/3 [==============================] - 0s 2ms/step\n",
      "3/3 [==============================] - 0s 2ms/step\n"
     ]
    },
    {
     "name": "stderr",
     "output_type": "stream",
     "text": [
      "[I 2023-11-24 09:58:06,415] Trial 81 finished with value: 0.9358024691358023 and parameters: {'learning_rate': 0.021395638987000982, 'num_hidden_layers': 5, 'num_hidden_units': 175, 'dropout_rate': 0.02888142906864345, 'optimizer': 'sgd', 'activation': 'tanh', 'batch_size': 8}. Best is trial 61 with value: 0.9506172839506173.\n"
     ]
    },
    {
     "name": "stdout",
     "output_type": "stream",
     "text": [
      "3/3 [==============================] - 0s 3ms/step\n",
      "3/3 [==============================] - 0s 4ms/step\n",
      "3/3 [==============================] - 0s 3ms/step\n",
      "3/3 [==============================] - 0s 2ms/step\n",
      "3/3 [==============================] - 0s 2ms/step\n"
     ]
    },
    {
     "name": "stderr",
     "output_type": "stream",
     "text": [
      "[I 2023-11-24 09:58:32,570] Trial 82 finished with value: 0.9259259259259259 and parameters: {'learning_rate': 0.021757967692879687, 'num_hidden_layers': 5, 'num_hidden_units': 173, 'dropout_rate': 0.029132322897352854, 'optimizer': 'sgd', 'activation': 'tanh', 'batch_size': 8}. Best is trial 61 with value: 0.9506172839506173.\n"
     ]
    },
    {
     "name": "stdout",
     "output_type": "stream",
     "text": [
      "3/3 [==============================] - 0s 3ms/step\n",
      "3/3 [==============================] - 0s 3ms/step\n",
      "3/3 [==============================] - 0s 2ms/step\n",
      "3/3 [==============================] - 0s 3ms/step\n",
      "3/3 [==============================] - 0s 2ms/step\n"
     ]
    },
    {
     "name": "stderr",
     "output_type": "stream",
     "text": [
      "[I 2023-11-24 09:58:59,577] Trial 83 finished with value: 0.9506172839506173 and parameters: {'learning_rate': 0.0020634360609905877, 'num_hidden_layers': 5, 'num_hidden_units': 185, 'dropout_rate': 0.013720590654310234, 'optimizer': 'sgd', 'activation': 'tanh', 'batch_size': 8}. Best is trial 61 with value: 0.9506172839506173.\n"
     ]
    },
    {
     "name": "stdout",
     "output_type": "stream",
     "text": [
      "3/3 [==============================] - 0s 3ms/step\n",
      "3/3 [==============================] - 0s 4ms/step\n",
      "3/3 [==============================] - 0s 2ms/step\n",
      "3/3 [==============================] - 0s 3ms/step\n",
      "3/3 [==============================] - 0s 2ms/step\n"
     ]
    },
    {
     "name": "stderr",
     "output_type": "stream",
     "text": [
      "[I 2023-11-24 09:59:24,345] Trial 84 finished with value: 0.9111111111111111 and parameters: {'learning_rate': 0.006856005034437709, 'num_hidden_layers': 5, 'num_hidden_units': 180, 'dropout_rate': 0.0068856219384775055, 'optimizer': 'sgd', 'activation': 'tanh', 'batch_size': 8}. Best is trial 61 with value: 0.9506172839506173.\n"
     ]
    },
    {
     "name": "stdout",
     "output_type": "stream",
     "text": [
      "3/3 [==============================] - 0s 2ms/step\n",
      "3/3 [==============================] - 0s 2ms/step\n",
      "3/3 [==============================] - 0s 1ms/step\n",
      "3/3 [==============================] - 0s 2ms/step\n",
      "3/3 [==============================] - 0s 3ms/step\n"
     ]
    },
    {
     "name": "stderr",
     "output_type": "stream",
     "text": [
      "[I 2023-11-24 09:59:39,024] Trial 85 finished with value: 0.6296296296296297 and parameters: {'learning_rate': 0.0027340286435763475, 'num_hidden_layers': 1, 'num_hidden_units': 201, 'dropout_rate': 0.013901993112549946, 'optimizer': 'sgd', 'activation': 'tanh', 'batch_size': 8}. Best is trial 61 with value: 0.9506172839506173.\n"
     ]
    },
    {
     "name": "stdout",
     "output_type": "stream",
     "text": [
      "3/3 [==============================] - 0s 3ms/step\n",
      "3/3 [==============================] - 0s 3ms/step\n",
      "3/3 [==============================] - 0s 2ms/step\n",
      "3/3 [==============================] - 0s 3ms/step\n",
      "3/3 [==============================] - 0s 3ms/step\n"
     ]
    },
    {
     "name": "stderr",
     "output_type": "stream",
     "text": [
      "[I 2023-11-24 10:00:13,535] Trial 86 finished with value: 0.9308641975308642 and parameters: {'learning_rate': 0.000759570050772743, 'num_hidden_layers': 5, 'num_hidden_units': 211, 'dropout_rate': 0.04153868334367246, 'optimizer': 'sgd', 'activation': 'tanh', 'batch_size': 8}. Best is trial 61 with value: 0.9506172839506173.\n"
     ]
    },
    {
     "name": "stdout",
     "output_type": "stream",
     "text": [
      "3/3 [==============================] - 0s 3ms/step\n",
      "3/3 [==============================] - 0s 2ms/step\n",
      "3/3 [==============================] - 0s 2ms/step\n",
      "3/3 [==============================] - 0s 3ms/step\n",
      "3/3 [==============================] - 0s 3ms/step\n"
     ]
    },
    {
     "name": "stderr",
     "output_type": "stream",
     "text": [
      "[I 2023-11-24 10:00:20,506] Trial 87 finished with value: 0.5012345679012346 and parameters: {'learning_rate': 0.0002590775308665, 'num_hidden_layers': 2, 'num_hidden_units': 211, 'dropout_rate': 0.029897971645971754, 'optimizer': 'sgd', 'activation': 'relu', 'batch_size': 64}. Best is trial 61 with value: 0.9506172839506173.\n"
     ]
    },
    {
     "name": "stdout",
     "output_type": "stream",
     "text": [
      "3/3 [==============================] - 0s 2ms/step\n",
      "3/3 [==============================] - 0s 2ms/step\n",
      "3/3 [==============================] - 0s 4ms/step\n",
      "3/3 [==============================] - 0s 3ms/step\n",
      "3/3 [==============================] - 0s 2ms/step\n"
     ]
    },
    {
     "name": "stderr",
     "output_type": "stream",
     "text": [
      "[I 2023-11-24 10:00:46,544] Trial 88 finished with value: 0.9185185185185185 and parameters: {'learning_rate': 0.005730540388588702, 'num_hidden_layers': 5, 'num_hidden_units': 189, 'dropout_rate': 0.043366018123628086, 'optimizer': 'sgd', 'activation': 'tanh', 'batch_size': 8}. Best is trial 61 with value: 0.9506172839506173.\n"
     ]
    },
    {
     "name": "stdout",
     "output_type": "stream",
     "text": [
      "3/3 [==============================] - 0s 3ms/step\n",
      "3/3 [==============================] - 0s 3ms/step\n",
      "3/3 [==============================] - 0s 3ms/step\n",
      "3/3 [==============================] - 0s 3ms/step\n",
      "3/3 [==============================] - 0s 2ms/step\n"
     ]
    },
    {
     "name": "stderr",
     "output_type": "stream",
     "text": [
      "[I 2023-11-24 10:01:05,591] Trial 89 finished with value: 0.8271604938271604 and parameters: {'learning_rate': 0.001969539926075462, 'num_hidden_layers': 5, 'num_hidden_units': 196, 'dropout_rate': 0.010911409630871387, 'optimizer': 'sgd', 'activation': 'sigmoid', 'batch_size': 16}. Best is trial 61 with value: 0.9506172839506173.\n"
     ]
    },
    {
     "name": "stdout",
     "output_type": "stream",
     "text": [
      "3/3 [==============================] - 0s 3ms/step\n",
      "3/3 [==============================] - 0s 2ms/step\n",
      "3/3 [==============================] - 0s 2ms/step\n",
      "3/3 [==============================] - 0s 3ms/step\n",
      "3/3 [==============================] - 0s 3ms/step\n"
     ]
    },
    {
     "name": "stderr",
     "output_type": "stream",
     "text": [
      "[I 2023-11-24 10:01:45,485] Trial 90 finished with value: 0.6888888888888889 and parameters: {'learning_rate': 0.00995460020202639, 'num_hidden_layers': 5, 'num_hidden_units': 225, 'dropout_rate': 0.030608398148577003, 'optimizer': 'rmsprop', 'activation': 'tanh', 'batch_size': 8}. Best is trial 61 with value: 0.9506172839506173.\n"
     ]
    },
    {
     "name": "stdout",
     "output_type": "stream",
     "text": [
      "3/3 [==============================] - 0s 3ms/step\n",
      "3/3 [==============================] - 0s 3ms/step\n",
      "3/3 [==============================] - 0s 2ms/step\n",
      "3/3 [==============================] - 0s 2ms/step\n",
      "3/3 [==============================] - 0s 3ms/step\n"
     ]
    },
    {
     "name": "stderr",
     "output_type": "stream",
     "text": [
      "[I 2023-11-24 10:02:13,817] Trial 91 finished with value: 0.9308641975308642 and parameters: {'learning_rate': 0.008272862974861732, 'num_hidden_layers': 5, 'num_hidden_units': 186, 'dropout_rate': 0.047323622169519776, 'optimizer': 'sgd', 'activation': 'tanh', 'batch_size': 8}. Best is trial 61 with value: 0.9506172839506173.\n"
     ]
    },
    {
     "name": "stdout",
     "output_type": "stream",
     "text": [
      "3/3 [==============================] - 0s 2ms/step\n",
      "3/3 [==============================] - 0s 2ms/step\n",
      "3/3 [==============================] - 0s 3ms/step\n",
      "3/3 [==============================] - 0s 3ms/step\n",
      "3/3 [==============================] - 0s 4ms/step\n"
     ]
    },
    {
     "name": "stderr",
     "output_type": "stream",
     "text": [
      "[I 2023-11-24 10:02:39,238] Trial 92 finished with value: 0.9333333333333332 and parameters: {'learning_rate': 0.008578765956583164, 'num_hidden_layers': 5, 'num_hidden_units': 184, 'dropout_rate': 0.06687046293794159, 'optimizer': 'sgd', 'activation': 'tanh', 'batch_size': 8}. Best is trial 61 with value: 0.9506172839506173.\n"
     ]
    },
    {
     "name": "stdout",
     "output_type": "stream",
     "text": [
      "3/3 [==============================] - 0s 3ms/step\n",
      "3/3 [==============================] - 0s 3ms/step\n",
      "3/3 [==============================] - 0s 4ms/step\n",
      "3/3 [==============================] - 0s 3ms/step\n",
      "3/3 [==============================] - 0s 3ms/step\n"
     ]
    },
    {
     "name": "stderr",
     "output_type": "stream",
     "text": [
      "[I 2023-11-24 10:03:08,135] Trial 93 finished with value: 0.9209876543209876 and parameters: {'learning_rate': 0.002786757161825623, 'num_hidden_layers': 5, 'num_hidden_units': 214, 'dropout_rate': 0.06729689761589971, 'optimizer': 'sgd', 'activation': 'tanh', 'batch_size': 8}. Best is trial 61 with value: 0.9506172839506173.\n"
     ]
    },
    {
     "name": "stdout",
     "output_type": "stream",
     "text": [
      "3/3 [==============================] - 0s 3ms/step\n",
      "3/3 [==============================] - 0s 2ms/step\n",
      "3/3 [==============================] - 0s 3ms/step\n",
      "3/3 [==============================] - 0s 2ms/step\n",
      "3/3 [==============================] - 0s 2ms/step\n"
     ]
    },
    {
     "name": "stderr",
     "output_type": "stream",
     "text": [
      "[I 2023-11-24 10:03:31,009] Trial 94 finished with value: 0.9308641975308642 and parameters: {'learning_rate': 0.005700222040672631, 'num_hidden_layers': 5, 'num_hidden_units': 165, 'dropout_rate': 0.024204046646676303, 'optimizer': 'sgd', 'activation': 'tanh', 'batch_size': 8}. Best is trial 61 with value: 0.9506172839506173.\n"
     ]
    },
    {
     "name": "stdout",
     "output_type": "stream",
     "text": [
      "3/3 [==============================] - 0s 3ms/step\n",
      "3/3 [==============================] - 0s 3ms/step\n",
      "3/3 [==============================] - 0s 3ms/step\n",
      "3/3 [==============================] - 0s 2ms/step\n",
      "3/3 [==============================] - 0s 2ms/step\n"
     ]
    },
    {
     "name": "stderr",
     "output_type": "stream",
     "text": [
      "[I 2023-11-24 10:03:57,915] Trial 95 finished with value: 0.9209876543209876 and parameters: {'learning_rate': 0.012870303003108478, 'num_hidden_layers': 5, 'num_hidden_units': 176, 'dropout_rate': 0.038944692157084126, 'optimizer': 'sgd', 'activation': 'tanh', 'batch_size': 8}. Best is trial 61 with value: 0.9506172839506173.\n"
     ]
    },
    {
     "name": "stdout",
     "output_type": "stream",
     "text": [
      "3/3 [==============================] - 0s 2ms/step\n",
      "3/3 [==============================] - 0s 3ms/step\n",
      "3/3 [==============================] - 0s 2ms/step\n",
      "3/3 [==============================] - 0s 3ms/step\n",
      "3/3 [==============================] - 0s 3ms/step\n"
     ]
    },
    {
     "name": "stderr",
     "output_type": "stream",
     "text": [
      "[I 2023-11-24 10:04:19,412] Trial 96 finished with value: 0.8345679012345679 and parameters: {'learning_rate': 0.0016760647874941022, 'num_hidden_layers': 5, 'num_hidden_units': 199, 'dropout_rate': 0.0805495139104365, 'optimizer': 'sgd', 'activation': 'tanh', 'batch_size': 32}. Best is trial 61 with value: 0.9506172839506173.\n"
     ]
    },
    {
     "name": "stdout",
     "output_type": "stream",
     "text": [
      "3/3 [==============================] - 0s 2ms/step\n",
      "3/3 [==============================] - 0s 3ms/step\n",
      "3/3 [==============================] - 0s 2ms/step\n",
      "3/3 [==============================] - 0s 3ms/step\n",
      "3/3 [==============================] - 0s 2ms/step\n"
     ]
    },
    {
     "name": "stderr",
     "output_type": "stream",
     "text": [
      "[I 2023-11-24 10:04:37,837] Trial 97 finished with value: 0.6814814814814815 and parameters: {'learning_rate': 0.00807409002766763, 'num_hidden_layers': 5, 'num_hidden_units': 157, 'dropout_rate': 0.012423859379102162, 'optimizer': 'adam', 'activation': 'tanh', 'batch_size': 16}. Best is trial 61 with value: 0.9506172839506173.\n"
     ]
    },
    {
     "name": "stdout",
     "output_type": "stream",
     "text": [
      "3/3 [==============================] - 0s 3ms/step\n",
      "3/3 [==============================] - 0s 2ms/step\n",
      "3/3 [==============================] - 0s 2ms/step\n",
      "3/3 [==============================] - 0s 3ms/step\n",
      "3/3 [==============================] - 0s 3ms/step\n"
     ]
    },
    {
     "name": "stderr",
     "output_type": "stream",
     "text": [
      "[I 2023-11-24 10:05:06,268] Trial 98 finished with value: 0.9432098765432098 and parameters: {'learning_rate': 0.011275628533048712, 'num_hidden_layers': 3, 'num_hidden_units': 234, 'dropout_rate': 0.06304088171618379, 'optimizer': 'sgd', 'activation': 'tanh', 'batch_size': 8}. Best is trial 61 with value: 0.9506172839506173.\n"
     ]
    },
    {
     "name": "stdout",
     "output_type": "stream",
     "text": [
      "3/3 [==============================] - 0s 3ms/step\n",
      "3/3 [==============================] - 0s 3ms/step\n",
      "3/3 [==============================] - 0s 2ms/step\n",
      "3/3 [==============================] - 0s 4ms/step\n",
      "3/3 [==============================] - 0s 2ms/step\n"
     ]
    },
    {
     "name": "stderr",
     "output_type": "stream",
     "text": [
      "[I 2023-11-24 10:05:26,612] Trial 99 finished with value: 0.8814814814814815 and parameters: {'learning_rate': 0.011082573710273085, 'num_hidden_layers': 3, 'num_hidden_units': 232, 'dropout_rate': 0.06151471896045187, 'optimizer': 'sgd', 'activation': 'tanh', 'batch_size': 16}. Best is trial 61 with value: 0.9506172839506173.\n"
     ]
    },
    {
     "name": "stdout",
     "output_type": "stream",
     "text": [
      "Mejor conjunto de hiperparámetros: {'learning_rate': 0.009430953801060262, 'num_hidden_layers': 5, 'num_hidden_units': 243, 'dropout_rate': 0.048749251134159816, 'optimizer': 'sgd', 'activation': 'tanh', 'batch_size': 16}\n"
     ]
    }
   ],
   "source": [
    "import optuna\n",
    "import numpy as np\n",
    "from sklearn.model_selection import StratifiedKFold\n",
    "from sklearn.metrics import accuracy_score\n",
    "\n",
    "def objective(trial):\n",
    "    # Definir espacio de búsqueda de hiperparámetros\n",
    "    learning_rate = trial.suggest_float(\"learning_rate\", 1e-5, 1e-1)\n",
    "    num_hidden_layers = trial.suggest_int(\"num_hidden_layers\", 1, 5)\n",
    "    num_hidden_units = trial.suggest_int(\"num_hidden_units\", 16, 256)\n",
    "    dropout_rate = trial.suggest_float(\"dropout_rate\", 0.0, 0.5)\n",
    "    optimizer = trial.suggest_categorical(\"optimizer\", [\"adam\", \"sgd\", \"rmsprop\"])\n",
    "    activation = trial.suggest_categorical(\"activation\", [\"relu\", \"tanh\", \"sigmoid\", \"elu\"])\n",
    "    batch_size = trial.suggest_categorical(\"batch_size\", [8, 16, 32, 64])\n",
    "\n",
    "    # Construir el modelo de red neuronal con los hiperparámetros\n",
    "    model = keras.Sequential()\n",
    "    for _ in range(num_hidden_layers):\n",
    "        model.add(keras.layers.Dense(num_hidden_units, activation=activation))\n",
    "        model.add(keras.layers.BatchNormalization())\n",
    "        model.add(keras.layers.Dropout(dropout_rate))\n",
    "        \n",
    "    model.add(keras.layers.Dense(1, activation=\"sigmoid\"))\n",
    "\n",
    "    # Compilar el modelo\n",
    "    if optimizer == \"adam\":\n",
    "        optimizer_obj = keras.optimizers.Adam(learning_rate=learning_rate)\n",
    "    elif optimizer == \"sgd\":\n",
    "        optimizer_obj = keras.optimizers.SGD(learning_rate=learning_rate)\n",
    "    elif optimizer == \"rmsprop\":\n",
    "        optimizer_obj = keras.optimizers.RMSprop(learning_rate=learning_rate)\n",
    "    else:\n",
    "        raise ValueError(\"Optimizador no soportado\")\n",
    "\n",
    "    model.compile(optimizer=optimizer_obj,\n",
    "                  loss=\"binary_crossentropy\",\n",
    "                  metrics=[\"accuracy\"])\n",
    "\n",
    "    # Validación cruzada\n",
    "    kf = StratifiedKFold(n_splits=5, shuffle=True, random_state=42)\n",
    "    accuracies = []\n",
    "\n",
    "    for train_index, val_index in kf.split(X_train, y_train):\n",
    "        X_fold_train, X_fold_val = X_train[train_index], X_train[val_index]\n",
    "        y_fold_train, y_fold_val = y_train.iloc[train_index], y_train.iloc[val_index]  # Usa iloc para acceder por índice\n",
    "\n",
    "        early_stopping = keras.callbacks.EarlyStopping(\n",
    "            patience=20,\n",
    "            min_delta=0.001,\n",
    "            restore_best_weights=True,\n",
    "        )\n",
    "\n",
    "        model.fit(X_fold_train, y_fold_train, epochs=500, batch_size=batch_size, verbose=0, validation_data=(X_fold_val, y_fold_val), callbacks=[early_stopping])\n",
    "\n",
    "        y_pred = (model.predict(X_fold_val) > 0.5).astype(int)\n",
    "        accuracy_fold = accuracy_score(y_fold_val, y_pred)\n",
    "        accuracies.append(accuracy_fold)\n",
    "\n",
    "    # Calcular la precisión promedio sobre todas las iteraciones de la validación cruzada\n",
    "    average_accuracy = np.mean(accuracies)\n",
    "\n",
    "    return average_accuracy\n",
    "\n",
    "# Crear un estudio Optuna con semilla\n",
    "study = optuna.create_study(direction=\"maximize\")\n",
    "study.optimize(objective, n_trials=100)\n",
    "\n",
    "# Obtener el mejor conjunto de hiperparámetros\n",
    "best_params = study.best_params\n",
    "print(\"Mejor conjunto de hiperparámetros:\", best_params)\n"
   ]
  },
  {
   "cell_type": "code",
   "execution_count": 13,
   "metadata": {},
   "outputs": [
    {
     "data": {
      "text/plain": [
       "{'learning_rate': 0.009430953801060262,\n",
       " 'num_hidden_layers': 5,\n",
       " 'num_hidden_units': 243,\n",
       " 'dropout_rate': 0.048749251134159816,\n",
       " 'optimizer': 'sgd',\n",
       " 'activation': 'tanh',\n",
       " 'batch_size': 16}"
      ]
     },
     "execution_count": 13,
     "metadata": {},
     "output_type": "execute_result"
    }
   ],
   "source": [
    "best_params"
   ]
  },
  {
   "cell_type": "code",
   "execution_count": 21,
   "metadata": {},
   "outputs": [
    {
     "name": "stdout",
     "output_type": "stream",
     "text": [
      "7/7 [==============================] - 0s 3ms/step\n",
      "Informe de clasificación:\n",
      "               precision    recall  f1-score   support\n",
      "\n",
      "           0       0.80      0.90      0.85       101\n",
      "           1       0.89      0.77      0.83       102\n",
      "\n",
      "    accuracy                           0.84       203\n",
      "   macro avg       0.84      0.84      0.84       203\n",
      "weighted avg       0.84      0.84      0.84       203\n",
      "\n"
     ]
    }
   ],
   "source": [
    "from sklearn.metrics import classification_report\n",
    "\n",
    "# Crear el modelo con los mejores hiperparámetros\n",
    "best_model = keras.Sequential()\n",
    "for _ in range(best_params[\"num_hidden_layers\"]):\n",
    "    best_model.add(keras.layers.Dense(best_params[\"num_hidden_units\"], activation=best_params[\"activation\"]))\n",
    "    best_model.add(keras.layers.BatchNormalization())\n",
    "    best_model.add(keras.layers.Dropout(best_params[\"dropout_rate\"]))\n",
    "\n",
    "best_model.add(keras.layers.Dense(1, activation=\"sigmoid\"))\n",
    "\n",
    "# Compilar el modelo con los mejores hiperparámetros\n",
    "if best_params[\"optimizer\"] == \"adam\":\n",
    "    optimizer_obj = keras.optimizers.Adam(learning_rate=best_params[\"learning_rate\"])\n",
    "elif best_params[\"optimizer\"] == \"sgd\":\n",
    "    optimizer_obj = keras.optimizers.SGD(learning_rate=best_params[\"learning_rate\"])\n",
    "elif best_params[\"optimizer\"] == \"rmsprop\":\n",
    "    optimizer_obj = keras.optimizers.RMSprop(learning_rate=best_params[\"learning_rate\"])\n",
    "else:\n",
    "    raise ValueError(\"Optimizador no soportado\")\n",
    "\n",
    "best_model.compile(optimizer=optimizer_obj,\n",
    "                   loss=\"binary_crossentropy\",\n",
    "                   metrics=[\"accuracy\"])\n",
    "\n",
    "# Entrenar el mejor modelo con todos los datos de entrenamiento\n",
    "best_model.fit(X_train, y_train, epochs=500, batch_size=best_params[\"batch_size\"], verbose=0)\n",
    "\n",
    "# Hacer predicciones con el mejor modelo en el conjunto de prueba\n",
    "y_pred = (best_model.predict(X_test) > 0.5).astype(int)\n",
    "\n",
    "# Generar un informe de clasificación\n",
    "report = classification_report(y_test, y_pred)\n",
    "print(\"Informe de clasificación:\\n\", report)"
   ]
  },
  {
   "cell_type": "code",
   "execution_count": 34,
   "metadata": {},
   "outputs": [],
   "source": [
    "df_val = pd.read_csv('C:/Users/tomas/OneDrive - Universidad de Chile/Semestre 2023-2 Archivos/Laboratorio de Programación Científica/Laboratorios/Github/casoCDD/Cruce/data_para_validar.csv')"
   ]
  },
  {
   "cell_type": "code",
   "execution_count": 35,
   "metadata": {},
   "outputs": [],
   "source": [
    "X_new = df_val.drop(['username', 'Unnamed: 0'], axis=1)"
   ]
  },
  {
   "cell_type": "code",
   "execution_count": 36,
   "metadata": {},
   "outputs": [],
   "source": [
    "# Ajusta el scaler a tus datos de entrenamiento y luego transforma los datos\n",
    "X_val = scaler.fit_transform(X_new)"
   ]
  },
  {
   "cell_type": "code",
   "execution_count": 37,
   "metadata": {},
   "outputs": [
    {
     "name": "stdout",
     "output_type": "stream",
     "text": [
      "5/5 [==============================] - 0s 2ms/step\n"
     ]
    }
   ],
   "source": [
    "# Realizar predicciones con el modelo cargado\n",
    "y_pred = (best_model.predict(X_val) > 0.5).astype(int)\n",
    "\n",
    "# Agregar las predicciones como una nueva columna al conjunto de datos original\n",
    "resultados = pd.DataFrame({'username': df_val['username'], 'Prediccion': y_pred.flatten()})\n",
    "\n",
    "# Guardar los resultados en un archivo CSV\n",
    "resultados.to_csv('resultados_predichos.csv', index=False)"
   ]
  },
  {
   "cell_type": "code",
   "execution_count": null,
   "metadata": {},
   "outputs": [],
   "source": []
  }
 ],
 "metadata": {
  "kernelspec": {
   "display_name": "Lab_6",
   "language": "python",
   "name": "python3"
  },
  "language_info": {
   "codemirror_mode": {
    "name": "ipython",
    "version": 3
   },
   "file_extension": ".py",
   "mimetype": "text/x-python",
   "name": "python",
   "nbconvert_exporter": "python",
   "pygments_lexer": "ipython3",
   "version": "3.11.5"
  }
 },
 "nbformat": 4,
 "nbformat_minor": 2
}
