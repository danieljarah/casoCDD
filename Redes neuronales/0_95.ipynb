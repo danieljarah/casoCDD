{
 "cells": [
  {
   "cell_type": "code",
   "execution_count": 12,
   "metadata": {},
   "outputs": [],
   "source": [
    "import pandas as pd"
   ]
  },
  {
   "cell_type": "code",
   "execution_count": 13,
   "metadata": {},
   "outputs": [],
   "source": [
    "df_entrenamiento = pd.read_csv('C:/Users/tomas/OneDrive - Universidad de Chile/Semestre 2023-2 Archivos/Laboratorio de Programación Científica/Laboratorios/Github/casoCDD/Cruce/data_para_entrenar.csv')\n",
    "df_entrenamiento = pd.read_csv('C:/Users/tomas/OneDrive - Universidad de Chile/Semestre 2023-2 Archivos/Laboratorio de Programación Científica/Laboratorios/Github/casoCDD/Oversampling/df_entrenamiento_sobre.csv')\n",
    "df_validacion = pd.read_csv('C:/Users/tomas/OneDrive - Universidad de Chile/Semestre 2023-2 Archivos/Laboratorio de Programación Científica/Laboratorios/Github/casoCDD/data_para_validar.csv')"
   ]
  },
  {
   "cell_type": "code",
   "execution_count": 14,
   "metadata": {},
   "outputs": [
    {
     "data": {
      "text/html": [
       "<div>\n",
       "<style scoped>\n",
       "    .dataframe tbody tr th:only-of-type {\n",
       "        vertical-align: middle;\n",
       "    }\n",
       "\n",
       "    .dataframe tbody tr th {\n",
       "        vertical-align: top;\n",
       "    }\n",
       "\n",
       "    .dataframe thead th {\n",
       "        text-align: right;\n",
       "    }\n",
       "</style>\n",
       "<table border=\"1\" class=\"dataframe\">\n",
       "  <thead>\n",
       "    <tr style=\"text-align: right;\">\n",
       "      <th></th>\n",
       "      <th>Unnamed: 0.1</th>\n",
       "      <th>Unnamed: 0</th>\n",
       "      <th>grade</th>\n",
       "      <th>seq_4_avg</th>\n",
       "      <th>quiz_avg</th>\n",
       "      <th>seq_0_avg</th>\n",
       "      <th>seq_1_avg</th>\n",
       "      <th>seq_2_avg</th>\n",
       "      <th>seq_3_avg</th>\n",
       "      <th>duracion_sesion_avg</th>\n",
       "      <th>...</th>\n",
       "      <th>pause_video_mean</th>\n",
       "      <th>pause_video_std</th>\n",
       "      <th>speed_change_video_mean</th>\n",
       "      <th>speed_change_video_std</th>\n",
       "      <th>num_eventos_seq_0</th>\n",
       "      <th>num_eventos_seq_1</th>\n",
       "      <th>num_eventos_seq_2</th>\n",
       "      <th>num_eventos_seq_3</th>\n",
       "      <th>num_eventos_seq_4</th>\n",
       "      <th>label</th>\n",
       "    </tr>\n",
       "  </thead>\n",
       "  <tbody>\n",
       "    <tr>\n",
       "      <th>0</th>\n",
       "      <td>0</td>\n",
       "      <td>0</td>\n",
       "      <td>1.000000</td>\n",
       "      <td>1.0</td>\n",
       "      <td>0.965517</td>\n",
       "      <td>1.000000</td>\n",
       "      <td>1.000000</td>\n",
       "      <td>1.000000</td>\n",
       "      <td>1.00000</td>\n",
       "      <td>4.944454</td>\n",
       "      <td>...</td>\n",
       "      <td>8.700000</td>\n",
       "      <td>7.409453</td>\n",
       "      <td>0.300000</td>\n",
       "      <td>0.674949</td>\n",
       "      <td>76.000000</td>\n",
       "      <td>384.000000</td>\n",
       "      <td>128.000000</td>\n",
       "      <td>16.000000</td>\n",
       "      <td>20.000000</td>\n",
       "      <td>1</td>\n",
       "    </tr>\n",
       "    <tr>\n",
       "      <th>1</th>\n",
       "      <td>1</td>\n",
       "      <td>1032</td>\n",
       "      <td>0.990000</td>\n",
       "      <td>1.0</td>\n",
       "      <td>0.956897</td>\n",
       "      <td>1.000000</td>\n",
       "      <td>0.977273</td>\n",
       "      <td>1.000000</td>\n",
       "      <td>1.00000</td>\n",
       "      <td>2.410485</td>\n",
       "      <td>...</td>\n",
       "      <td>4.428571</td>\n",
       "      <td>5.957727</td>\n",
       "      <td>0.142857</td>\n",
       "      <td>0.363137</td>\n",
       "      <td>70.000000</td>\n",
       "      <td>168.000000</td>\n",
       "      <td>90.000000</td>\n",
       "      <td>16.000000</td>\n",
       "      <td>6.000000</td>\n",
       "      <td>1</td>\n",
       "    </tr>\n",
       "    <tr>\n",
       "      <th>2</th>\n",
       "      <td>2</td>\n",
       "      <td>1734</td>\n",
       "      <td>1.000000</td>\n",
       "      <td>1.0</td>\n",
       "      <td>0.965517</td>\n",
       "      <td>1.000000</td>\n",
       "      <td>1.000000</td>\n",
       "      <td>1.000000</td>\n",
       "      <td>1.00000</td>\n",
       "      <td>3.794893</td>\n",
       "      <td>...</td>\n",
       "      <td>7.571429</td>\n",
       "      <td>10.399863</td>\n",
       "      <td>0.142857</td>\n",
       "      <td>0.478091</td>\n",
       "      <td>197.000000</td>\n",
       "      <td>346.000000</td>\n",
       "      <td>151.000000</td>\n",
       "      <td>47.000000</td>\n",
       "      <td>8.000000</td>\n",
       "      <td>1</td>\n",
       "    </tr>\n",
       "    <tr>\n",
       "      <th>3</th>\n",
       "      <td>3</td>\n",
       "      <td>2898</td>\n",
       "      <td>0.880000</td>\n",
       "      <td>1.0</td>\n",
       "      <td>0.850690</td>\n",
       "      <td>0.625000</td>\n",
       "      <td>0.909091</td>\n",
       "      <td>0.907778</td>\n",
       "      <td>1.00000</td>\n",
       "      <td>4.008391</td>\n",
       "      <td>...</td>\n",
       "      <td>13.600000</td>\n",
       "      <td>22.487457</td>\n",
       "      <td>0.600000</td>\n",
       "      <td>1.298351</td>\n",
       "      <td>177.000000</td>\n",
       "      <td>466.000000</td>\n",
       "      <td>201.000000</td>\n",
       "      <td>33.000000</td>\n",
       "      <td>9.000000</td>\n",
       "      <td>1</td>\n",
       "    </tr>\n",
       "    <tr>\n",
       "      <th>4</th>\n",
       "      <td>4</td>\n",
       "      <td>4203</td>\n",
       "      <td>1.000000</td>\n",
       "      <td>1.0</td>\n",
       "      <td>0.965517</td>\n",
       "      <td>1.000000</td>\n",
       "      <td>1.000000</td>\n",
       "      <td>1.000000</td>\n",
       "      <td>1.00000</td>\n",
       "      <td>9.352263</td>\n",
       "      <td>...</td>\n",
       "      <td>15.333333</td>\n",
       "      <td>25.263319</td>\n",
       "      <td>0.777778</td>\n",
       "      <td>1.060275</td>\n",
       "      <td>264.000000</td>\n",
       "      <td>810.000000</td>\n",
       "      <td>80.000000</td>\n",
       "      <td>19.000000</td>\n",
       "      <td>11.000000</td>\n",
       "      <td>0</td>\n",
       "    </tr>\n",
       "    <tr>\n",
       "      <th>...</th>\n",
       "      <td>...</td>\n",
       "      <td>...</td>\n",
       "      <td>...</td>\n",
       "      <td>...</td>\n",
       "      <td>...</td>\n",
       "      <td>...</td>\n",
       "      <td>...</td>\n",
       "      <td>...</td>\n",
       "      <td>...</td>\n",
       "      <td>...</td>\n",
       "      <td>...</td>\n",
       "      <td>...</td>\n",
       "      <td>...</td>\n",
       "      <td>...</td>\n",
       "      <td>...</td>\n",
       "      <td>...</td>\n",
       "      <td>...</td>\n",
       "      <td>...</td>\n",
       "      <td>...</td>\n",
       "      <td>...</td>\n",
       "      <td>...</td>\n",
       "    </tr>\n",
       "    <tr>\n",
       "      <th>603</th>\n",
       "      <td>603</td>\n",
       "      <td>282522</td>\n",
       "      <td>0.940363</td>\n",
       "      <td>1.0</td>\n",
       "      <td>0.868407</td>\n",
       "      <td>1.000000</td>\n",
       "      <td>0.804222</td>\n",
       "      <td>0.779122</td>\n",
       "      <td>1.00000</td>\n",
       "      <td>5.003087</td>\n",
       "      <td>...</td>\n",
       "      <td>6.908206</td>\n",
       "      <td>10.864660</td>\n",
       "      <td>0.122678</td>\n",
       "      <td>0.272942</td>\n",
       "      <td>67.602155</td>\n",
       "      <td>244.612931</td>\n",
       "      <td>156.119639</td>\n",
       "      <td>8.036288</td>\n",
       "      <td>3.012096</td>\n",
       "      <td>0</td>\n",
       "    </tr>\n",
       "    <tr>\n",
       "      <th>604</th>\n",
       "      <td>604</td>\n",
       "      <td>129478</td>\n",
       "      <td>0.842813</td>\n",
       "      <td>1.0</td>\n",
       "      <td>0.813376</td>\n",
       "      <td>0.866209</td>\n",
       "      <td>0.762787</td>\n",
       "      <td>0.704212</td>\n",
       "      <td>0.69011</td>\n",
       "      <td>5.248995</td>\n",
       "      <td>...</td>\n",
       "      <td>9.150560</td>\n",
       "      <td>9.437040</td>\n",
       "      <td>0.200196</td>\n",
       "      <td>0.477776</td>\n",
       "      <td>134.394506</td>\n",
       "      <td>451.265933</td>\n",
       "      <td>186.107700</td>\n",
       "      <td>13.000000</td>\n",
       "      <td>2.929670</td>\n",
       "      <td>0</td>\n",
       "    </tr>\n",
       "    <tr>\n",
       "      <th>605</th>\n",
       "      <td>605</td>\n",
       "      <td>310479</td>\n",
       "      <td>0.839504</td>\n",
       "      <td>1.0</td>\n",
       "      <td>0.809557</td>\n",
       "      <td>0.947313</td>\n",
       "      <td>0.703419</td>\n",
       "      <td>0.532586</td>\n",
       "      <td>1.00000</td>\n",
       "      <td>6.482947</td>\n",
       "      <td>...</td>\n",
       "      <td>5.525875</td>\n",
       "      <td>7.274908</td>\n",
       "      <td>0.106805</td>\n",
       "      <td>0.295753</td>\n",
       "      <td>94.586866</td>\n",
       "      <td>419.706268</td>\n",
       "      <td>135.533134</td>\n",
       "      <td>22.314030</td>\n",
       "      <td>11.318209</td>\n",
       "      <td>0</td>\n",
       "    </tr>\n",
       "    <tr>\n",
       "      <th>606</th>\n",
       "      <td>606</td>\n",
       "      <td>168867</td>\n",
       "      <td>0.881915</td>\n",
       "      <td>1.0</td>\n",
       "      <td>0.852923</td>\n",
       "      <td>0.717063</td>\n",
       "      <td>0.817364</td>\n",
       "      <td>0.902334</td>\n",
       "      <td>1.00000</td>\n",
       "      <td>5.551731</td>\n",
       "      <td>...</td>\n",
       "      <td>15.414130</td>\n",
       "      <td>18.579293</td>\n",
       "      <td>1.461072</td>\n",
       "      <td>2.026446</td>\n",
       "      <td>127.521237</td>\n",
       "      <td>556.190787</td>\n",
       "      <td>222.634988</td>\n",
       "      <td>29.964003</td>\n",
       "      <td>10.982002</td>\n",
       "      <td>0</td>\n",
       "    </tr>\n",
       "    <tr>\n",
       "      <th>607</th>\n",
       "      <td>607</td>\n",
       "      <td>154541</td>\n",
       "      <td>0.935885</td>\n",
       "      <td>1.0</td>\n",
       "      <td>0.903971</td>\n",
       "      <td>1.000000</td>\n",
       "      <td>0.854285</td>\n",
       "      <td>0.979781</td>\n",
       "      <td>1.00000</td>\n",
       "      <td>4.702868</td>\n",
       "      <td>...</td>\n",
       "      <td>11.687961</td>\n",
       "      <td>17.541553</td>\n",
       "      <td>0.710228</td>\n",
       "      <td>1.122771</td>\n",
       "      <td>150.003533</td>\n",
       "      <td>407.662693</td>\n",
       "      <td>253.674614</td>\n",
       "      <td>18.691391</td>\n",
       "      <td>6.345695</td>\n",
       "      <td>0</td>\n",
       "    </tr>\n",
       "  </tbody>\n",
       "</table>\n",
       "<p>608 rows × 43 columns</p>\n",
       "</div>"
      ],
      "text/plain": [
       "     Unnamed: 0.1  Unnamed: 0     grade  seq_4_avg  quiz_avg  seq_0_avg  \\\n",
       "0               0           0  1.000000        1.0  0.965517   1.000000   \n",
       "1               1        1032  0.990000        1.0  0.956897   1.000000   \n",
       "2               2        1734  1.000000        1.0  0.965517   1.000000   \n",
       "3               3        2898  0.880000        1.0  0.850690   0.625000   \n",
       "4               4        4203  1.000000        1.0  0.965517   1.000000   \n",
       "..            ...         ...       ...        ...       ...        ...   \n",
       "603           603      282522  0.940363        1.0  0.868407   1.000000   \n",
       "604           604      129478  0.842813        1.0  0.813376   0.866209   \n",
       "605           605      310479  0.839504        1.0  0.809557   0.947313   \n",
       "606           606      168867  0.881915        1.0  0.852923   0.717063   \n",
       "607           607      154541  0.935885        1.0  0.903971   1.000000   \n",
       "\n",
       "     seq_1_avg  seq_2_avg  seq_3_avg  duracion_sesion_avg  ...  \\\n",
       "0     1.000000   1.000000    1.00000             4.944454  ...   \n",
       "1     0.977273   1.000000    1.00000             2.410485  ...   \n",
       "2     1.000000   1.000000    1.00000             3.794893  ...   \n",
       "3     0.909091   0.907778    1.00000             4.008391  ...   \n",
       "4     1.000000   1.000000    1.00000             9.352263  ...   \n",
       "..         ...        ...        ...                  ...  ...   \n",
       "603   0.804222   0.779122    1.00000             5.003087  ...   \n",
       "604   0.762787   0.704212    0.69011             5.248995  ...   \n",
       "605   0.703419   0.532586    1.00000             6.482947  ...   \n",
       "606   0.817364   0.902334    1.00000             5.551731  ...   \n",
       "607   0.854285   0.979781    1.00000             4.702868  ...   \n",
       "\n",
       "     pause_video_mean  pause_video_std  speed_change_video_mean  \\\n",
       "0            8.700000         7.409453                 0.300000   \n",
       "1            4.428571         5.957727                 0.142857   \n",
       "2            7.571429        10.399863                 0.142857   \n",
       "3           13.600000        22.487457                 0.600000   \n",
       "4           15.333333        25.263319                 0.777778   \n",
       "..                ...              ...                      ...   \n",
       "603          6.908206        10.864660                 0.122678   \n",
       "604          9.150560         9.437040                 0.200196   \n",
       "605          5.525875         7.274908                 0.106805   \n",
       "606         15.414130        18.579293                 1.461072   \n",
       "607         11.687961        17.541553                 0.710228   \n",
       "\n",
       "     speed_change_video_std  num_eventos_seq_0  num_eventos_seq_1  \\\n",
       "0                  0.674949          76.000000         384.000000   \n",
       "1                  0.363137          70.000000         168.000000   \n",
       "2                  0.478091         197.000000         346.000000   \n",
       "3                  1.298351         177.000000         466.000000   \n",
       "4                  1.060275         264.000000         810.000000   \n",
       "..                      ...                ...                ...   \n",
       "603                0.272942          67.602155         244.612931   \n",
       "604                0.477776         134.394506         451.265933   \n",
       "605                0.295753          94.586866         419.706268   \n",
       "606                2.026446         127.521237         556.190787   \n",
       "607                1.122771         150.003533         407.662693   \n",
       "\n",
       "     num_eventos_seq_2  num_eventos_seq_3  num_eventos_seq_4  label  \n",
       "0           128.000000          16.000000          20.000000      1  \n",
       "1            90.000000          16.000000           6.000000      1  \n",
       "2           151.000000          47.000000           8.000000      1  \n",
       "3           201.000000          33.000000           9.000000      1  \n",
       "4            80.000000          19.000000          11.000000      0  \n",
       "..                 ...                ...                ...    ...  \n",
       "603         156.119639           8.036288           3.012096      0  \n",
       "604         186.107700          13.000000           2.929670      0  \n",
       "605         135.533134          22.314030          11.318209      0  \n",
       "606         222.634988          29.964003          10.982002      0  \n",
       "607         253.674614          18.691391           6.345695      0  \n",
       "\n",
       "[608 rows x 43 columns]"
      ]
     },
     "execution_count": 14,
     "metadata": {},
     "output_type": "execute_result"
    }
   ],
   "source": [
    "df_entrenamiento"
   ]
  },
  {
   "cell_type": "code",
   "execution_count": 15,
   "metadata": {},
   "outputs": [
    {
     "data": {
      "text/plain": [
       "Index(['Unnamed: 0.1', 'Unnamed: 0', 'grade', 'seq_4_avg', 'quiz_avg',\n",
       "       'seq_0_avg', 'seq_1_avg', 'seq_2_avg', 'seq_3_avg',\n",
       "       'duracion_sesion_avg', 'duracion_sesion_std', 'duracion_EOL',\n",
       "       'num_sesiones_agosto', 'num_sesiones_septiembre',\n",
       "       'num_sesiones_noviembre', 'page_close_mean', 'page_close_std',\n",
       "       'problem_graded_mean', 'problem_graded_std', 'problem_check_mean',\n",
       "       'problem_check_std', 'problem_show_mean', 'problem_show_std',\n",
       "       'seg_prev_mean', 'seg_prev_std', 'seg_next_mean', 'seg_next_std',\n",
       "       'seg_goto_mean', 'seg_goto_std', 'load_video_mean', 'load_video_std',\n",
       "       'play_video_mean', 'play_video_std', 'pause_video_mean',\n",
       "       'pause_video_std', 'speed_change_video_mean', 'speed_change_video_std',\n",
       "       'num_eventos_seq_0', 'num_eventos_seq_1', 'num_eventos_seq_2',\n",
       "       'num_eventos_seq_3', 'num_eventos_seq_4', 'label'],\n",
       "      dtype='object')"
      ]
     },
     "execution_count": 15,
     "metadata": {},
     "output_type": "execute_result"
    }
   ],
   "source": [
    "df_entrenamiento.columns"
   ]
  },
  {
   "cell_type": "code",
   "execution_count": 16,
   "metadata": {},
   "outputs": [],
   "source": [
    "df_entrenamiento.drop(['Unnamed: 0', 'Unnamed: 0.1'], axis = 1, inplace=True)\n"
   ]
  },
  {
   "cell_type": "code",
   "execution_count": 17,
   "metadata": {},
   "outputs": [
    {
     "data": {
      "text/html": [
       "<div>\n",
       "<style scoped>\n",
       "    .dataframe tbody tr th:only-of-type {\n",
       "        vertical-align: middle;\n",
       "    }\n",
       "\n",
       "    .dataframe tbody tr th {\n",
       "        vertical-align: top;\n",
       "    }\n",
       "\n",
       "    .dataframe thead th {\n",
       "        text-align: right;\n",
       "    }\n",
       "</style>\n",
       "<table border=\"1\" class=\"dataframe\">\n",
       "  <thead>\n",
       "    <tr style=\"text-align: right;\">\n",
       "      <th></th>\n",
       "      <th>grade</th>\n",
       "      <th>seq_4_avg</th>\n",
       "      <th>quiz_avg</th>\n",
       "      <th>seq_0_avg</th>\n",
       "      <th>seq_1_avg</th>\n",
       "      <th>seq_2_avg</th>\n",
       "      <th>seq_3_avg</th>\n",
       "      <th>duracion_sesion_avg</th>\n",
       "      <th>duracion_sesion_std</th>\n",
       "      <th>duracion_EOL</th>\n",
       "      <th>...</th>\n",
       "      <th>pause_video_mean</th>\n",
       "      <th>pause_video_std</th>\n",
       "      <th>speed_change_video_mean</th>\n",
       "      <th>speed_change_video_std</th>\n",
       "      <th>num_eventos_seq_0</th>\n",
       "      <th>num_eventos_seq_1</th>\n",
       "      <th>num_eventos_seq_2</th>\n",
       "      <th>num_eventos_seq_3</th>\n",
       "      <th>num_eventos_seq_4</th>\n",
       "      <th>label</th>\n",
       "    </tr>\n",
       "  </thead>\n",
       "  <tbody>\n",
       "    <tr>\n",
       "      <th>0</th>\n",
       "      <td>1.000000</td>\n",
       "      <td>1.0</td>\n",
       "      <td>0.965517</td>\n",
       "      <td>1.000000</td>\n",
       "      <td>1.000000</td>\n",
       "      <td>1.000000</td>\n",
       "      <td>1.00000</td>\n",
       "      <td>4.944454</td>\n",
       "      <td>5.131721</td>\n",
       "      <td>64.000000</td>\n",
       "      <td>...</td>\n",
       "      <td>8.700000</td>\n",
       "      <td>7.409453</td>\n",
       "      <td>0.300000</td>\n",
       "      <td>0.674949</td>\n",
       "      <td>76.000000</td>\n",
       "      <td>384.000000</td>\n",
       "      <td>128.000000</td>\n",
       "      <td>16.000000</td>\n",
       "      <td>20.000000</td>\n",
       "      <td>1</td>\n",
       "    </tr>\n",
       "    <tr>\n",
       "      <th>1</th>\n",
       "      <td>0.990000</td>\n",
       "      <td>1.0</td>\n",
       "      <td>0.956897</td>\n",
       "      <td>1.000000</td>\n",
       "      <td>0.977273</td>\n",
       "      <td>1.000000</td>\n",
       "      <td>1.00000</td>\n",
       "      <td>2.410485</td>\n",
       "      <td>2.627586</td>\n",
       "      <td>60.000000</td>\n",
       "      <td>...</td>\n",
       "      <td>4.428571</td>\n",
       "      <td>5.957727</td>\n",
       "      <td>0.142857</td>\n",
       "      <td>0.363137</td>\n",
       "      <td>70.000000</td>\n",
       "      <td>168.000000</td>\n",
       "      <td>90.000000</td>\n",
       "      <td>16.000000</td>\n",
       "      <td>6.000000</td>\n",
       "      <td>1</td>\n",
       "    </tr>\n",
       "    <tr>\n",
       "      <th>2</th>\n",
       "      <td>1.000000</td>\n",
       "      <td>1.0</td>\n",
       "      <td>0.965517</td>\n",
       "      <td>1.000000</td>\n",
       "      <td>1.000000</td>\n",
       "      <td>1.000000</td>\n",
       "      <td>1.00000</td>\n",
       "      <td>3.794893</td>\n",
       "      <td>5.967056</td>\n",
       "      <td>59.000000</td>\n",
       "      <td>...</td>\n",
       "      <td>7.571429</td>\n",
       "      <td>10.399863</td>\n",
       "      <td>0.142857</td>\n",
       "      <td>0.478091</td>\n",
       "      <td>197.000000</td>\n",
       "      <td>346.000000</td>\n",
       "      <td>151.000000</td>\n",
       "      <td>47.000000</td>\n",
       "      <td>8.000000</td>\n",
       "      <td>1</td>\n",
       "    </tr>\n",
       "    <tr>\n",
       "      <th>3</th>\n",
       "      <td>0.880000</td>\n",
       "      <td>1.0</td>\n",
       "      <td>0.850690</td>\n",
       "      <td>0.625000</td>\n",
       "      <td>0.909091</td>\n",
       "      <td>0.907778</td>\n",
       "      <td>1.00000</td>\n",
       "      <td>4.008391</td>\n",
       "      <td>5.076566</td>\n",
       "      <td>58.000000</td>\n",
       "      <td>...</td>\n",
       "      <td>13.600000</td>\n",
       "      <td>22.487457</td>\n",
       "      <td>0.600000</td>\n",
       "      <td>1.298351</td>\n",
       "      <td>177.000000</td>\n",
       "      <td>466.000000</td>\n",
       "      <td>201.000000</td>\n",
       "      <td>33.000000</td>\n",
       "      <td>9.000000</td>\n",
       "      <td>1</td>\n",
       "    </tr>\n",
       "    <tr>\n",
       "      <th>4</th>\n",
       "      <td>1.000000</td>\n",
       "      <td>1.0</td>\n",
       "      <td>0.965517</td>\n",
       "      <td>1.000000</td>\n",
       "      <td>1.000000</td>\n",
       "      <td>1.000000</td>\n",
       "      <td>1.00000</td>\n",
       "      <td>9.352263</td>\n",
       "      <td>8.270573</td>\n",
       "      <td>58.000000</td>\n",
       "      <td>...</td>\n",
       "      <td>15.333333</td>\n",
       "      <td>25.263319</td>\n",
       "      <td>0.777778</td>\n",
       "      <td>1.060275</td>\n",
       "      <td>264.000000</td>\n",
       "      <td>810.000000</td>\n",
       "      <td>80.000000</td>\n",
       "      <td>19.000000</td>\n",
       "      <td>11.000000</td>\n",
       "      <td>0</td>\n",
       "    </tr>\n",
       "    <tr>\n",
       "      <th>...</th>\n",
       "      <td>...</td>\n",
       "      <td>...</td>\n",
       "      <td>...</td>\n",
       "      <td>...</td>\n",
       "      <td>...</td>\n",
       "      <td>...</td>\n",
       "      <td>...</td>\n",
       "      <td>...</td>\n",
       "      <td>...</td>\n",
       "      <td>...</td>\n",
       "      <td>...</td>\n",
       "      <td>...</td>\n",
       "      <td>...</td>\n",
       "      <td>...</td>\n",
       "      <td>...</td>\n",
       "      <td>...</td>\n",
       "      <td>...</td>\n",
       "      <td>...</td>\n",
       "      <td>...</td>\n",
       "      <td>...</td>\n",
       "      <td>...</td>\n",
       "    </tr>\n",
       "    <tr>\n",
       "      <th>603</th>\n",
       "      <td>0.940363</td>\n",
       "      <td>1.0</td>\n",
       "      <td>0.868407</td>\n",
       "      <td>1.000000</td>\n",
       "      <td>0.804222</td>\n",
       "      <td>0.779122</td>\n",
       "      <td>1.00000</td>\n",
       "      <td>5.003087</td>\n",
       "      <td>7.729962</td>\n",
       "      <td>52.000000</td>\n",
       "      <td>...</td>\n",
       "      <td>6.908206</td>\n",
       "      <td>10.864660</td>\n",
       "      <td>0.122678</td>\n",
       "      <td>0.272942</td>\n",
       "      <td>67.602155</td>\n",
       "      <td>244.612931</td>\n",
       "      <td>156.119639</td>\n",
       "      <td>8.036288</td>\n",
       "      <td>3.012096</td>\n",
       "      <td>0</td>\n",
       "    </tr>\n",
       "    <tr>\n",
       "      <th>604</th>\n",
       "      <td>0.842813</td>\n",
       "      <td>1.0</td>\n",
       "      <td>0.813376</td>\n",
       "      <td>0.866209</td>\n",
       "      <td>0.762787</td>\n",
       "      <td>0.704212</td>\n",
       "      <td>0.69011</td>\n",
       "      <td>5.248995</td>\n",
       "      <td>6.035853</td>\n",
       "      <td>56.394506</td>\n",
       "      <td>...</td>\n",
       "      <td>9.150560</td>\n",
       "      <td>9.437040</td>\n",
       "      <td>0.200196</td>\n",
       "      <td>0.477776</td>\n",
       "      <td>134.394506</td>\n",
       "      <td>451.265933</td>\n",
       "      <td>186.107700</td>\n",
       "      <td>13.000000</td>\n",
       "      <td>2.929670</td>\n",
       "      <td>0</td>\n",
       "    </tr>\n",
       "    <tr>\n",
       "      <th>605</th>\n",
       "      <td>0.839504</td>\n",
       "      <td>1.0</td>\n",
       "      <td>0.809557</td>\n",
       "      <td>0.947313</td>\n",
       "      <td>0.703419</td>\n",
       "      <td>0.532586</td>\n",
       "      <td>1.00000</td>\n",
       "      <td>6.482947</td>\n",
       "      <td>6.920673</td>\n",
       "      <td>53.842985</td>\n",
       "      <td>...</td>\n",
       "      <td>5.525875</td>\n",
       "      <td>7.274908</td>\n",
       "      <td>0.106805</td>\n",
       "      <td>0.295753</td>\n",
       "      <td>94.586866</td>\n",
       "      <td>419.706268</td>\n",
       "      <td>135.533134</td>\n",
       "      <td>22.314030</td>\n",
       "      <td>11.318209</td>\n",
       "      <td>0</td>\n",
       "    </tr>\n",
       "    <tr>\n",
       "      <th>606</th>\n",
       "      <td>0.881915</td>\n",
       "      <td>1.0</td>\n",
       "      <td>0.852923</td>\n",
       "      <td>0.717063</td>\n",
       "      <td>0.817364</td>\n",
       "      <td>0.902334</td>\n",
       "      <td>1.00000</td>\n",
       "      <td>5.551731</td>\n",
       "      <td>6.395383</td>\n",
       "      <td>55.263499</td>\n",
       "      <td>...</td>\n",
       "      <td>15.414130</td>\n",
       "      <td>18.579293</td>\n",
       "      <td>1.461072</td>\n",
       "      <td>2.026446</td>\n",
       "      <td>127.521237</td>\n",
       "      <td>556.190787</td>\n",
       "      <td>222.634988</td>\n",
       "      <td>29.964003</td>\n",
       "      <td>10.982002</td>\n",
       "      <td>0</td>\n",
       "    </tr>\n",
       "    <tr>\n",
       "      <th>607</th>\n",
       "      <td>0.935885</td>\n",
       "      <td>1.0</td>\n",
       "      <td>0.903971</td>\n",
       "      <td>1.000000</td>\n",
       "      <td>0.854285</td>\n",
       "      <td>0.979781</td>\n",
       "      <td>1.00000</td>\n",
       "      <td>4.702868</td>\n",
       "      <td>4.789794</td>\n",
       "      <td>59.000000</td>\n",
       "      <td>...</td>\n",
       "      <td>11.687961</td>\n",
       "      <td>17.541553</td>\n",
       "      <td>0.710228</td>\n",
       "      <td>1.122771</td>\n",
       "      <td>150.003533</td>\n",
       "      <td>407.662693</td>\n",
       "      <td>253.674614</td>\n",
       "      <td>18.691391</td>\n",
       "      <td>6.345695</td>\n",
       "      <td>0</td>\n",
       "    </tr>\n",
       "  </tbody>\n",
       "</table>\n",
       "<p>608 rows × 41 columns</p>\n",
       "</div>"
      ],
      "text/plain": [
       "        grade  seq_4_avg  quiz_avg  seq_0_avg  seq_1_avg  seq_2_avg  \\\n",
       "0    1.000000        1.0  0.965517   1.000000   1.000000   1.000000   \n",
       "1    0.990000        1.0  0.956897   1.000000   0.977273   1.000000   \n",
       "2    1.000000        1.0  0.965517   1.000000   1.000000   1.000000   \n",
       "3    0.880000        1.0  0.850690   0.625000   0.909091   0.907778   \n",
       "4    1.000000        1.0  0.965517   1.000000   1.000000   1.000000   \n",
       "..        ...        ...       ...        ...        ...        ...   \n",
       "603  0.940363        1.0  0.868407   1.000000   0.804222   0.779122   \n",
       "604  0.842813        1.0  0.813376   0.866209   0.762787   0.704212   \n",
       "605  0.839504        1.0  0.809557   0.947313   0.703419   0.532586   \n",
       "606  0.881915        1.0  0.852923   0.717063   0.817364   0.902334   \n",
       "607  0.935885        1.0  0.903971   1.000000   0.854285   0.979781   \n",
       "\n",
       "     seq_3_avg  duracion_sesion_avg  duracion_sesion_std  duracion_EOL  ...  \\\n",
       "0      1.00000             4.944454             5.131721     64.000000  ...   \n",
       "1      1.00000             2.410485             2.627586     60.000000  ...   \n",
       "2      1.00000             3.794893             5.967056     59.000000  ...   \n",
       "3      1.00000             4.008391             5.076566     58.000000  ...   \n",
       "4      1.00000             9.352263             8.270573     58.000000  ...   \n",
       "..         ...                  ...                  ...           ...  ...   \n",
       "603    1.00000             5.003087             7.729962     52.000000  ...   \n",
       "604    0.69011             5.248995             6.035853     56.394506  ...   \n",
       "605    1.00000             6.482947             6.920673     53.842985  ...   \n",
       "606    1.00000             5.551731             6.395383     55.263499  ...   \n",
       "607    1.00000             4.702868             4.789794     59.000000  ...   \n",
       "\n",
       "     pause_video_mean  pause_video_std  speed_change_video_mean  \\\n",
       "0            8.700000         7.409453                 0.300000   \n",
       "1            4.428571         5.957727                 0.142857   \n",
       "2            7.571429        10.399863                 0.142857   \n",
       "3           13.600000        22.487457                 0.600000   \n",
       "4           15.333333        25.263319                 0.777778   \n",
       "..                ...              ...                      ...   \n",
       "603          6.908206        10.864660                 0.122678   \n",
       "604          9.150560         9.437040                 0.200196   \n",
       "605          5.525875         7.274908                 0.106805   \n",
       "606         15.414130        18.579293                 1.461072   \n",
       "607         11.687961        17.541553                 0.710228   \n",
       "\n",
       "     speed_change_video_std  num_eventos_seq_0  num_eventos_seq_1  \\\n",
       "0                  0.674949          76.000000         384.000000   \n",
       "1                  0.363137          70.000000         168.000000   \n",
       "2                  0.478091         197.000000         346.000000   \n",
       "3                  1.298351         177.000000         466.000000   \n",
       "4                  1.060275         264.000000         810.000000   \n",
       "..                      ...                ...                ...   \n",
       "603                0.272942          67.602155         244.612931   \n",
       "604                0.477776         134.394506         451.265933   \n",
       "605                0.295753          94.586866         419.706268   \n",
       "606                2.026446         127.521237         556.190787   \n",
       "607                1.122771         150.003533         407.662693   \n",
       "\n",
       "     num_eventos_seq_2  num_eventos_seq_3  num_eventos_seq_4  label  \n",
       "0           128.000000          16.000000          20.000000      1  \n",
       "1            90.000000          16.000000           6.000000      1  \n",
       "2           151.000000          47.000000           8.000000      1  \n",
       "3           201.000000          33.000000           9.000000      1  \n",
       "4            80.000000          19.000000          11.000000      0  \n",
       "..                 ...                ...                ...    ...  \n",
       "603         156.119639           8.036288           3.012096      0  \n",
       "604         186.107700          13.000000           2.929670      0  \n",
       "605         135.533134          22.314030          11.318209      0  \n",
       "606         222.634988          29.964003          10.982002      0  \n",
       "607         253.674614          18.691391           6.345695      0  \n",
       "\n",
       "[608 rows x 41 columns]"
      ]
     },
     "execution_count": 17,
     "metadata": {},
     "output_type": "execute_result"
    }
   ],
   "source": [
    "df_entrenamiento"
   ]
  },
  {
   "cell_type": "code",
   "execution_count": 18,
   "metadata": {},
   "outputs": [],
   "source": [
    "import tensorflow as tf\n",
    "from tensorflow import keras\n",
    "from sklearn.model_selection import train_test_split\n",
    "import numpy as np\n",
    "\n",
    "# Establecer la semilla en TensorFlow para la reproducibilidad\n",
    "tf.random.set_seed(314159)\n",
    "\n",
    "# Establecer la semilla para el generador de números aleatorios de numpy (si se usa)\n",
    "np.random.seed(314159)\n"
   ]
  },
  {
   "cell_type": "code",
   "execution_count": 19,
   "metadata": {},
   "outputs": [],
   "source": [
    "X = df_entrenamiento.drop(columns=['label'])  # Características\n",
    "y = df_entrenamiento['label']  # Etiquetas\n",
    "\n",
    "X_train, X_test, y_train, y_test = train_test_split(X, y, test_size=0.1, random_state=314159, stratify=y)\n"
   ]
  },
  {
   "cell_type": "code",
   "execution_count": 20,
   "metadata": {},
   "outputs": [],
   "source": [
    "from sklearn.preprocessing import MinMaxScaler\n",
    "\n",
    "# Crea un objeto StandardScaler\n",
    "scaler = MinMaxScaler()\n",
    "\n",
    "# Ajusta el scaler a tus datos de entrenamiento y luego transforma los datos\n",
    "X_train = scaler.fit_transform(X_train)\n",
    "\n",
    "# Transforma también los datos de prueba usando el mismo scaler\n",
    "X_test = scaler.transform(X_test)\n"
   ]
  },
  {
   "cell_type": "code",
   "execution_count": 21,
   "metadata": {},
   "outputs": [
    {
     "name": "stderr",
     "output_type": "stream",
     "text": [
      "[I 2023-11-13 17:22:20,856] A new study created in memory with name: no-name-8cc88fb7-be3b-41c6-b342-167b4cb7a5bb\n"
     ]
    },
    {
     "name": "stdout",
     "output_type": "stream",
     "text": [
      "2/2 [==============================] - 0s 3ms/step\n"
     ]
    },
    {
     "name": "stderr",
     "output_type": "stream",
     "text": [
      "[I 2023-11-13 17:22:45,217] Trial 0 finished with value: 0.6885245901639344 and parameters: {'learning_rate': 0.08779428613860663, 'num_hidden_layers': 3, 'num_hidden_units': 65}. Best is trial 0 with value: 0.6885245901639344.\n"
     ]
    },
    {
     "name": "stdout",
     "output_type": "stream",
     "text": [
      "2/2 [==============================] - 0s 3ms/step\n"
     ]
    },
    {
     "name": "stderr",
     "output_type": "stream",
     "text": [
      "[I 2023-11-13 17:23:21,533] Trial 1 finished with value: 0.7868852459016393 and parameters: {'learning_rate': 0.09253856552527698, 'num_hidden_layers': 5, 'num_hidden_units': 52}. Best is trial 1 with value: 0.7868852459016393.\n"
     ]
    },
    {
     "name": "stdout",
     "output_type": "stream",
     "text": [
      "2/2 [==============================] - 0s 3ms/step\n"
     ]
    },
    {
     "name": "stderr",
     "output_type": "stream",
     "text": [
      "[I 2023-11-13 17:23:45,178] Trial 2 finished with value: 0.7704918032786885 and parameters: {'learning_rate': 0.0035560547038150604, 'num_hidden_layers': 4, 'num_hidden_units': 69}. Best is trial 1 with value: 0.7868852459016393.\n"
     ]
    },
    {
     "name": "stdout",
     "output_type": "stream",
     "text": [
      "2/2 [==============================] - 0s 4ms/step\n"
     ]
    },
    {
     "name": "stderr",
     "output_type": "stream",
     "text": [
      "[I 2023-11-13 17:24:23,648] Trial 3 finished with value: 0.6885245901639344 and parameters: {'learning_rate': 0.0918562060232322, 'num_hidden_layers': 4, 'num_hidden_units': 198}. Best is trial 1 with value: 0.7868852459016393.\n"
     ]
    },
    {
     "name": "stdout",
     "output_type": "stream",
     "text": [
      "2/2 [==============================] - 0s 2ms/step\n"
     ]
    },
    {
     "name": "stderr",
     "output_type": "stream",
     "text": [
      "[I 2023-11-13 17:24:42,065] Trial 4 finished with value: 0.6885245901639344 and parameters: {'learning_rate': 0.041017921901717366, 'num_hidden_layers': 3, 'num_hidden_units': 30}. Best is trial 1 with value: 0.7868852459016393.\n"
     ]
    },
    {
     "name": "stdout",
     "output_type": "stream",
     "text": [
      "2/2 [==============================] - 0s 4ms/step\n"
     ]
    },
    {
     "name": "stderr",
     "output_type": "stream",
     "text": [
      "[I 2023-11-13 17:24:53,681] Trial 5 finished with value: 0.639344262295082 and parameters: {'learning_rate': 0.05433555129557205, 'num_hidden_layers': 3, 'num_hidden_units': 85}. Best is trial 1 with value: 0.7868852459016393.\n"
     ]
    },
    {
     "name": "stdout",
     "output_type": "stream",
     "text": [
      "2/2 [==============================] - 0s 4ms/step\n"
     ]
    },
    {
     "name": "stderr",
     "output_type": "stream",
     "text": [
      "[I 2023-11-13 17:25:05,686] Trial 6 finished with value: 0.8032786885245902 and parameters: {'learning_rate': 0.0059700251069482214, 'num_hidden_layers': 3, 'num_hidden_units': 68}. Best is trial 6 with value: 0.8032786885245902.\n"
     ]
    },
    {
     "name": "stdout",
     "output_type": "stream",
     "text": [
      "2/2 [==============================] - 0s 4ms/step\n"
     ]
    },
    {
     "name": "stderr",
     "output_type": "stream",
     "text": [
      "[I 2023-11-13 17:25:26,503] Trial 7 finished with value: 0.5737704918032787 and parameters: {'learning_rate': 0.061027816377709355, 'num_hidden_layers': 5, 'num_hidden_units': 152}. Best is trial 6 with value: 0.8032786885245902.\n"
     ]
    },
    {
     "name": "stdout",
     "output_type": "stream",
     "text": [
      "2/2 [==============================] - 0s 4ms/step\n"
     ]
    },
    {
     "name": "stderr",
     "output_type": "stream",
     "text": [
      "[I 2023-11-13 17:25:40,185] Trial 8 finished with value: 0.7049180327868853 and parameters: {'learning_rate': 0.053684110508388026, 'num_hidden_layers': 4, 'num_hidden_units': 70}. Best is trial 6 with value: 0.8032786885245902.\n"
     ]
    },
    {
     "name": "stdout",
     "output_type": "stream",
     "text": [
      "2/2 [==============================] - 0s 5ms/step\n"
     ]
    },
    {
     "name": "stderr",
     "output_type": "stream",
     "text": [
      "[I 2023-11-13 17:25:55,161] Trial 9 finished with value: 0.7704918032786885 and parameters: {'learning_rate': 0.03937547175286334, 'num_hidden_layers': 3, 'num_hidden_units': 72}. Best is trial 6 with value: 0.8032786885245902.\n"
     ]
    },
    {
     "name": "stdout",
     "output_type": "stream",
     "text": [
      "2/2 [==============================] - 0s 2ms/step\n"
     ]
    },
    {
     "name": "stderr",
     "output_type": "stream",
     "text": [
      "[I 2023-11-13 17:26:05,592] Trial 10 finished with value: 0.639344262295082 and parameters: {'learning_rate': 0.0033288678552638937, 'num_hidden_layers': 1, 'num_hidden_units': 136}. Best is trial 6 with value: 0.8032786885245902.\n"
     ]
    },
    {
     "name": "stdout",
     "output_type": "stream",
     "text": [
      "2/2 [==============================] - 0s 3ms/step\n"
     ]
    },
    {
     "name": "stderr",
     "output_type": "stream",
     "text": [
      "[I 2023-11-13 17:26:11,134] Trial 11 finished with value: 0.45901639344262296 and parameters: {'learning_rate': 0.020492596776041008, 'num_hidden_layers': 1, 'num_hidden_units': 19}. Best is trial 6 with value: 0.8032786885245902.\n"
     ]
    },
    {
     "name": "stdout",
     "output_type": "stream",
     "text": [
      "2/2 [==============================] - 0s 2ms/step\n"
     ]
    },
    {
     "name": "stderr",
     "output_type": "stream",
     "text": [
      "[I 2023-11-13 17:26:20,542] Trial 12 finished with value: 0.7213114754098361 and parameters: {'learning_rate': 0.06947752254460217, 'num_hidden_layers': 2, 'num_hidden_units': 122}. Best is trial 6 with value: 0.8032786885245902.\n"
     ]
    },
    {
     "name": "stdout",
     "output_type": "stream",
     "text": [
      "2/2 [==============================] - 0s 4ms/step\n"
     ]
    },
    {
     "name": "stderr",
     "output_type": "stream",
     "text": [
      "[I 2023-11-13 17:26:50,049] Trial 13 finished with value: 0.6229508196721312 and parameters: {'learning_rate': 0.0991506545646044, 'num_hidden_layers': 5, 'num_hidden_units': 243}. Best is trial 6 with value: 0.8032786885245902.\n"
     ]
    },
    {
     "name": "stdout",
     "output_type": "stream",
     "text": [
      "2/2 [==============================] - 0s 2ms/step\n"
     ]
    },
    {
     "name": "stderr",
     "output_type": "stream",
     "text": [
      "[I 2023-11-13 17:27:09,186] Trial 14 finished with value: 0.7213114754098361 and parameters: {'learning_rate': 0.06960445791718883, 'num_hidden_layers': 2, 'num_hidden_units': 105}. Best is trial 6 with value: 0.8032786885245902.\n"
     ]
    },
    {
     "name": "stdout",
     "output_type": "stream",
     "text": [
      "2/2 [==============================] - 0s 2ms/step\n"
     ]
    },
    {
     "name": "stderr",
     "output_type": "stream",
     "text": [
      "[I 2023-11-13 17:27:32,394] Trial 15 finished with value: 0.7049180327868853 and parameters: {'learning_rate': 0.023866591444640116, 'num_hidden_layers': 2, 'num_hidden_units': 41}. Best is trial 6 with value: 0.8032786885245902.\n"
     ]
    },
    {
     "name": "stdout",
     "output_type": "stream",
     "text": [
      "2/2 [==============================] - 0s 3ms/step\n"
     ]
    },
    {
     "name": "stderr",
     "output_type": "stream",
     "text": [
      "[I 2023-11-13 17:27:49,355] Trial 16 finished with value: 0.6721311475409836 and parameters: {'learning_rate': 0.08016932972690195, 'num_hidden_layers': 5, 'num_hidden_units': 172}. Best is trial 6 with value: 0.8032786885245902.\n"
     ]
    },
    {
     "name": "stdout",
     "output_type": "stream",
     "text": [
      "2/2 [==============================] - 0s 2ms/step\n"
     ]
    },
    {
     "name": "stderr",
     "output_type": "stream",
     "text": [
      "[I 2023-11-13 17:28:02,932] Trial 17 finished with value: 0.6065573770491803 and parameters: {'learning_rate': 0.07858501994599876, 'num_hidden_layers': 4, 'num_hidden_units': 106}. Best is trial 6 with value: 0.8032786885245902.\n"
     ]
    },
    {
     "name": "stdout",
     "output_type": "stream",
     "text": [
      "2/2 [==============================] - 0s 2ms/step\n"
     ]
    },
    {
     "name": "stderr",
     "output_type": "stream",
     "text": [
      "[I 2023-11-13 17:28:27,240] Trial 18 finished with value: 0.7213114754098361 and parameters: {'learning_rate': 0.04090896808324717, 'num_hidden_layers': 2, 'num_hidden_units': 49}. Best is trial 6 with value: 0.8032786885245902.\n"
     ]
    },
    {
     "name": "stdout",
     "output_type": "stream",
     "text": [
      "2/2 [==============================] - 0s 4ms/step\n"
     ]
    },
    {
     "name": "stderr",
     "output_type": "stream",
     "text": [
      "[I 2023-11-13 17:28:50,522] Trial 19 finished with value: 0.6885245901639344 and parameters: {'learning_rate': 0.09751608451768586, 'num_hidden_layers': 4, 'num_hidden_units': 103}. Best is trial 6 with value: 0.8032786885245902.\n"
     ]
    },
    {
     "name": "stdout",
     "output_type": "stream",
     "text": [
      "2/2 [==============================] - 0s 2ms/step\n"
     ]
    },
    {
     "name": "stderr",
     "output_type": "stream",
     "text": [
      "[I 2023-11-13 17:29:21,198] Trial 20 finished with value: 0.6557377049180327 and parameters: {'learning_rate': 0.06560305827093765, 'num_hidden_layers': 5, 'num_hidden_units': 46}. Best is trial 6 with value: 0.8032786885245902.\n"
     ]
    },
    {
     "name": "stdout",
     "output_type": "stream",
     "text": [
      "2/2 [==============================] - 0s 4ms/step\n"
     ]
    },
    {
     "name": "stderr",
     "output_type": "stream",
     "text": [
      "[I 2023-11-13 17:29:46,957] Trial 21 finished with value: 0.8032786885245902 and parameters: {'learning_rate': 0.000644897183220557, 'num_hidden_layers': 4, 'num_hidden_units': 85}. Best is trial 6 with value: 0.8032786885245902.\n"
     ]
    },
    {
     "name": "stdout",
     "output_type": "stream",
     "text": [
      "2/2 [==============================] - 0s 5ms/step\n"
     ]
    },
    {
     "name": "stderr",
     "output_type": "stream",
     "text": [
      "[I 2023-11-13 17:30:04,641] Trial 22 finished with value: 0.7377049180327869 and parameters: {'learning_rate': 0.0004315436603148144, 'num_hidden_layers': 4, 'num_hidden_units': 91}. Best is trial 6 with value: 0.8032786885245902.\n"
     ]
    },
    {
     "name": "stdout",
     "output_type": "stream",
     "text": [
      "2/2 [==============================] - 0s 2ms/step\n"
     ]
    },
    {
     "name": "stderr",
     "output_type": "stream",
     "text": [
      "[I 2023-11-13 17:30:21,864] Trial 23 finished with value: 0.7213114754098361 and parameters: {'learning_rate': 0.011754833786298862, 'num_hidden_layers': 5, 'num_hidden_units': 54}. Best is trial 6 with value: 0.8032786885245902.\n"
     ]
    },
    {
     "name": "stdout",
     "output_type": "stream",
     "text": [
      "2/2 [==============================] - 0s 5ms/step\n"
     ]
    },
    {
     "name": "stderr",
     "output_type": "stream",
     "text": [
      "[I 2023-11-13 17:30:35,266] Trial 24 finished with value: 0.6721311475409836 and parameters: {'learning_rate': 0.014626732032058479, 'num_hidden_layers': 4, 'num_hidden_units': 25}. Best is trial 6 with value: 0.8032786885245902.\n"
     ]
    },
    {
     "name": "stdout",
     "output_type": "stream",
     "text": [
      "2/2 [==============================] - 0s 2ms/step\n"
     ]
    },
    {
     "name": "stderr",
     "output_type": "stream",
     "text": [
      "[I 2023-11-13 17:30:53,982] Trial 25 finished with value: 0.7868852459016393 and parameters: {'learning_rate': 0.02953503277397873, 'num_hidden_layers': 3, 'num_hidden_units': 128}. Best is trial 6 with value: 0.8032786885245902.\n"
     ]
    },
    {
     "name": "stdout",
     "output_type": "stream",
     "text": [
      "2/2 [==============================] - 0s 4ms/step\n"
     ]
    },
    {
     "name": "stderr",
     "output_type": "stream",
     "text": [
      "[I 2023-11-13 17:31:12,337] Trial 26 finished with value: 0.7704918032786885 and parameters: {'learning_rate': 0.009463329925714052, 'num_hidden_layers': 5, 'num_hidden_units': 88}. Best is trial 6 with value: 0.8032786885245902.\n"
     ]
    },
    {
     "name": "stdout",
     "output_type": "stream",
     "text": [
      "2/2 [==============================] - 0s 3ms/step\n"
     ]
    },
    {
     "name": "stderr",
     "output_type": "stream",
     "text": [
      "[I 2023-11-13 17:31:43,494] Trial 27 finished with value: 0.7540983606557377 and parameters: {'learning_rate': 0.029454857986566996, 'num_hidden_layers': 3, 'num_hidden_units': 158}. Best is trial 6 with value: 0.8032786885245902.\n"
     ]
    },
    {
     "name": "stdout",
     "output_type": "stream",
     "text": [
      "2/2 [==============================] - 0s 4ms/step\n"
     ]
    },
    {
     "name": "stderr",
     "output_type": "stream",
     "text": [
      "[I 2023-11-13 17:32:06,307] Trial 28 finished with value: 0.819672131147541 and parameters: {'learning_rate': 0.016770612031585884, 'num_hidden_layers': 4, 'num_hidden_units': 114}. Best is trial 28 with value: 0.819672131147541.\n"
     ]
    },
    {
     "name": "stdout",
     "output_type": "stream",
     "text": [
      "2/2 [==============================] - 0s 3ms/step\n"
     ]
    },
    {
     "name": "stderr",
     "output_type": "stream",
     "text": [
      "[I 2023-11-13 17:32:22,747] Trial 29 finished with value: 0.819672131147541 and parameters: {'learning_rate': 0.008090570088882369, 'num_hidden_layers': 3, 'num_hidden_units': 116}. Best is trial 28 with value: 0.819672131147541.\n"
     ]
    },
    {
     "name": "stdout",
     "output_type": "stream",
     "text": [
      "2/2 [==============================] - 0s 3ms/step\n"
     ]
    },
    {
     "name": "stderr",
     "output_type": "stream",
     "text": [
      "[I 2023-11-13 17:32:36,893] Trial 30 finished with value: 0.7377049180327869 and parameters: {'learning_rate': 0.016165111946615372, 'num_hidden_layers': 3, 'num_hidden_units': 116}. Best is trial 28 with value: 0.819672131147541.\n"
     ]
    },
    {
     "name": "stdout",
     "output_type": "stream",
     "text": [
      "2/2 [==============================] - 0s 3ms/step\n"
     ]
    },
    {
     "name": "stderr",
     "output_type": "stream",
     "text": [
      "[I 2023-11-13 17:32:56,262] Trial 31 finished with value: 0.819672131147541 and parameters: {'learning_rate': 0.007843652168060156, 'num_hidden_layers': 3, 'num_hidden_units': 149}. Best is trial 28 with value: 0.819672131147541.\n"
     ]
    },
    {
     "name": "stdout",
     "output_type": "stream",
     "text": [
      "2/2 [==============================] - 0s 4ms/step\n"
     ]
    },
    {
     "name": "stderr",
     "output_type": "stream",
     "text": [
      "[I 2023-11-13 17:33:17,238] Trial 32 finished with value: 0.8032786885245902 and parameters: {'learning_rate': 0.008669522593927916, 'num_hidden_layers': 3, 'num_hidden_units': 175}. Best is trial 28 with value: 0.819672131147541.\n"
     ]
    },
    {
     "name": "stdout",
     "output_type": "stream",
     "text": [
      "2/2 [==============================] - 0s 7ms/step\n"
     ]
    },
    {
     "name": "stderr",
     "output_type": "stream",
     "text": [
      "[I 2023-11-13 17:33:36,291] Trial 33 finished with value: 0.7868852459016393 and parameters: {'learning_rate': 0.0077341326009438245, 'num_hidden_layers': 3, 'num_hidden_units': 150}. Best is trial 28 with value: 0.819672131147541.\n"
     ]
    },
    {
     "name": "stdout",
     "output_type": "stream",
     "text": [
      "2/2 [==============================] - 0s 3ms/step\n"
     ]
    },
    {
     "name": "stderr",
     "output_type": "stream",
     "text": [
      "[I 2023-11-13 17:33:53,683] Trial 34 finished with value: 0.7868852459016393 and parameters: {'learning_rate': 0.01564923595366638, 'num_hidden_layers': 2, 'num_hidden_units': 143}. Best is trial 28 with value: 0.819672131147541.\n"
     ]
    },
    {
     "name": "stdout",
     "output_type": "stream",
     "text": [
      "2/2 [==============================] - 0s 5ms/step\n"
     ]
    },
    {
     "name": "stderr",
     "output_type": "stream",
     "text": [
      "[I 2023-11-13 17:34:10,907] Trial 35 finished with value: 0.8524590163934426 and parameters: {'learning_rate': 0.006481782150021846, 'num_hidden_layers': 3, 'num_hidden_units': 197}. Best is trial 35 with value: 0.8524590163934426.\n"
     ]
    },
    {
     "name": "stdout",
     "output_type": "stream",
     "text": [
      "2/2 [==============================] - 0s 5ms/step\n"
     ]
    },
    {
     "name": "stderr",
     "output_type": "stream",
     "text": [
      "[I 2023-11-13 17:34:29,204] Trial 36 finished with value: 0.819672131147541 and parameters: {'learning_rate': 0.006242816269417922, 'num_hidden_layers': 4, 'num_hidden_units': 215}. Best is trial 35 with value: 0.8524590163934426.\n"
     ]
    },
    {
     "name": "stdout",
     "output_type": "stream",
     "text": [
      "2/2 [==============================] - 0s 3ms/step\n"
     ]
    },
    {
     "name": "stderr",
     "output_type": "stream",
     "text": [
      "[I 2023-11-13 17:34:43,294] Trial 37 finished with value: 0.6721311475409836 and parameters: {'learning_rate': 0.019546994560945365, 'num_hidden_layers': 2, 'num_hidden_units': 204}. Best is trial 35 with value: 0.8524590163934426.\n"
     ]
    },
    {
     "name": "stdout",
     "output_type": "stream",
     "text": [
      "2/2 [==============================] - 0s 3ms/step\n"
     ]
    },
    {
     "name": "stderr",
     "output_type": "stream",
     "text": [
      "[I 2023-11-13 17:35:01,894] Trial 38 finished with value: 0.8032786885245902 and parameters: {'learning_rate': 0.009008982523957725, 'num_hidden_layers': 3, 'num_hidden_units': 185}. Best is trial 35 with value: 0.8524590163934426.\n"
     ]
    },
    {
     "name": "stdout",
     "output_type": "stream",
     "text": [
      "2/2 [==============================] - 0s 4ms/step\n"
     ]
    },
    {
     "name": "stderr",
     "output_type": "stream",
     "text": [
      "[I 2023-11-13 17:35:56,462] Trial 39 finished with value: 0.8524590163934426 and parameters: {'learning_rate': 0.012886035371425403, 'num_hidden_layers': 3, 'num_hidden_units': 166}. Best is trial 35 with value: 0.8524590163934426.\n"
     ]
    },
    {
     "name": "stdout",
     "output_type": "stream",
     "text": [
      "2/2 [==============================] - 0s 3ms/step\n"
     ]
    },
    {
     "name": "stderr",
     "output_type": "stream",
     "text": [
      "[I 2023-11-13 17:36:27,896] Trial 40 finished with value: 0.9016393442622951 and parameters: {'learning_rate': 0.00017219400368884488, 'num_hidden_layers': 3, 'num_hidden_units': 231}. Best is trial 40 with value: 0.9016393442622951.\n"
     ]
    },
    {
     "name": "stdout",
     "output_type": "stream",
     "text": [
      "2/2 [==============================] - 0s 3ms/step\n"
     ]
    },
    {
     "name": "stderr",
     "output_type": "stream",
     "text": [
      "[I 2023-11-13 17:37:00,370] Trial 41 finished with value: 0.9180327868852459 and parameters: {'learning_rate': 0.0012232647574295695, 'num_hidden_layers': 3, 'num_hidden_units': 240}. Best is trial 41 with value: 0.9180327868852459.\n"
     ]
    },
    {
     "name": "stdout",
     "output_type": "stream",
     "text": [
      "2/2 [==============================] - 0s 5ms/step\n"
     ]
    },
    {
     "name": "stderr",
     "output_type": "stream",
     "text": [
      "[I 2023-11-13 17:37:17,381] Trial 42 finished with value: 0.8360655737704918 and parameters: {'learning_rate': 0.0027307609736872233, 'num_hidden_layers': 3, 'num_hidden_units': 256}. Best is trial 41 with value: 0.9180327868852459.\n"
     ]
    },
    {
     "name": "stdout",
     "output_type": "stream",
     "text": [
      "2/2 [==============================] - 0s 4ms/step\n"
     ]
    },
    {
     "name": "stderr",
     "output_type": "stream",
     "text": [
      "[I 2023-11-13 17:38:00,460] Trial 43 finished with value: 0.9180327868852459 and parameters: {'learning_rate': 0.0006253773892698085, 'num_hidden_layers': 3, 'num_hidden_units': 245}. Best is trial 41 with value: 0.9180327868852459.\n"
     ]
    },
    {
     "name": "stdout",
     "output_type": "stream",
     "text": [
      "2/2 [==============================] - 0s 3ms/step\n"
     ]
    },
    {
     "name": "stderr",
     "output_type": "stream",
     "text": [
      "[I 2023-11-13 17:39:00,646] Trial 44 finished with value: 0.7704918032786885 and parameters: {'learning_rate': 2.0369995632815404e-05, 'num_hidden_layers': 3, 'num_hidden_units': 227}. Best is trial 41 with value: 0.9180327868852459.\n"
     ]
    },
    {
     "name": "stdout",
     "output_type": "stream",
     "text": [
      "2/2 [==============================] - 0s 2ms/step\n"
     ]
    },
    {
     "name": "stderr",
     "output_type": "stream",
     "text": [
      "[I 2023-11-13 17:39:16,902] Trial 45 finished with value: 0.7868852459016393 and parameters: {'learning_rate': 0.012534815893625444, 'num_hidden_layers': 2, 'num_hidden_units': 236}. Best is trial 41 with value: 0.9180327868852459.\n"
     ]
    },
    {
     "name": "stdout",
     "output_type": "stream",
     "text": [
      "2/2 [==============================] - 0s 4ms/step\n"
     ]
    },
    {
     "name": "stderr",
     "output_type": "stream",
     "text": [
      "[I 2023-11-13 17:39:47,347] Trial 46 finished with value: 0.8360655737704918 and parameters: {'learning_rate': 0.0040108487117044705, 'num_hidden_layers': 3, 'num_hidden_units': 221}. Best is trial 41 with value: 0.9180327868852459.\n"
     ]
    },
    {
     "name": "stdout",
     "output_type": "stream",
     "text": [
      "2/2 [==============================] - 0s 5ms/step\n"
     ]
    },
    {
     "name": "stderr",
     "output_type": "stream",
     "text": [
      "[I 2023-11-13 17:40:00,617] Trial 47 finished with value: 0.8360655737704918 and parameters: {'learning_rate': 0.004270105531185893, 'num_hidden_layers': 3, 'num_hidden_units': 199}. Best is trial 41 with value: 0.9180327868852459.\n"
     ]
    },
    {
     "name": "stdout",
     "output_type": "stream",
     "text": [
      "2/2 [==============================] - 0s 3ms/step\n"
     ]
    },
    {
     "name": "stderr",
     "output_type": "stream",
     "text": [
      "[I 2023-11-13 17:40:30,234] Trial 48 finished with value: 0.8032786885245902 and parameters: {'learning_rate': 0.011843191868359014, 'num_hidden_layers': 3, 'num_hidden_units': 256}. Best is trial 41 with value: 0.9180327868852459.\n"
     ]
    },
    {
     "name": "stdout",
     "output_type": "stream",
     "text": [
      "2/2 [==============================] - 0s 4ms/step\n"
     ]
    },
    {
     "name": "stderr",
     "output_type": "stream",
     "text": [
      "[I 2023-11-13 17:41:06,360] Trial 49 finished with value: 0.9180327868852459 and parameters: {'learning_rate': 0.00014523674943121747, 'num_hidden_layers': 2, 'num_hidden_units': 210}. Best is trial 41 with value: 0.9180327868852459.\n"
     ]
    },
    {
     "name": "stdout",
     "output_type": "stream",
     "text": [
      "2/2 [==============================] - 0s 2ms/step\n"
     ]
    },
    {
     "name": "stderr",
     "output_type": "stream",
     "text": [
      "[I 2023-11-13 17:41:16,547] Trial 50 finished with value: 0.6721311475409836 and parameters: {'learning_rate': 0.004010985926772223, 'num_hidden_layers': 1, 'num_hidden_units': 242}. Best is trial 41 with value: 0.9180327868852459.\n"
     ]
    },
    {
     "name": "stdout",
     "output_type": "stream",
     "text": [
      "2/2 [==============================] - 0s 3ms/step\n"
     ]
    },
    {
     "name": "stderr",
     "output_type": "stream",
     "text": [
      "[I 2023-11-13 17:41:27,617] Trial 51 finished with value: 0.8032786885245902 and parameters: {'learning_rate': 0.0015681630290360212, 'num_hidden_layers': 2, 'num_hidden_units': 210}. Best is trial 41 with value: 0.9180327868852459.\n"
     ]
    },
    {
     "name": "stdout",
     "output_type": "stream",
     "text": [
      "2/2 [==============================] - 0s 2ms/step\n"
     ]
    },
    {
     "name": "stderr",
     "output_type": "stream",
     "text": [
      "[I 2023-11-13 17:42:05,366] Trial 52 finished with value: 0.9180327868852459 and parameters: {'learning_rate': 0.00015132213595657647, 'num_hidden_layers': 2, 'num_hidden_units': 188}. Best is trial 41 with value: 0.9180327868852459.\n"
     ]
    },
    {
     "name": "stdout",
     "output_type": "stream",
     "text": [
      "2/2 [==============================] - 0s 3ms/step\n"
     ]
    },
    {
     "name": "stderr",
     "output_type": "stream",
     "text": [
      "[I 2023-11-13 17:42:52,562] Trial 53 finished with value: 0.9508196721311475 and parameters: {'learning_rate': 0.00019523347621503117, 'num_hidden_layers': 1, 'num_hidden_units': 191}. Best is trial 53 with value: 0.9508196721311475.\n"
     ]
    },
    {
     "name": "stdout",
     "output_type": "stream",
     "text": [
      "2/2 [==============================] - 0s 3ms/step\n"
     ]
    },
    {
     "name": "stderr",
     "output_type": "stream",
     "text": [
      "[I 2023-11-13 17:43:43,784] Trial 54 finished with value: 0.8032786885245902 and parameters: {'learning_rate': 5.2645566227561835e-05, 'num_hidden_layers': 1, 'num_hidden_units': 232}. Best is trial 53 with value: 0.9508196721311475.\n"
     ]
    },
    {
     "name": "stdout",
     "output_type": "stream",
     "text": [
      "2/2 [==============================] - 0s 2ms/step\n"
     ]
    },
    {
     "name": "stderr",
     "output_type": "stream",
     "text": [
      "[I 2023-11-13 17:43:50,848] Trial 55 finished with value: 0.5901639344262295 and parameters: {'learning_rate': 0.004186724270041027, 'num_hidden_layers': 1, 'num_hidden_units': 190}. Best is trial 53 with value: 0.9508196721311475.\n"
     ]
    },
    {
     "name": "stdout",
     "output_type": "stream",
     "text": [
      "2/2 [==============================] - 0s 3ms/step\n"
     ]
    },
    {
     "name": "stderr",
     "output_type": "stream",
     "text": [
      "[I 2023-11-13 17:44:52,294] Trial 56 finished with value: 0.9016393442622951 and parameters: {'learning_rate': 4.493930520642399e-05, 'num_hidden_layers': 2, 'num_hidden_units': 246}. Best is trial 53 with value: 0.9508196721311475.\n"
     ]
    },
    {
     "name": "stdout",
     "output_type": "stream",
     "text": [
      "2/2 [==============================] - 0s 2ms/step\n"
     ]
    },
    {
     "name": "stderr",
     "output_type": "stream",
     "text": [
      "[I 2023-11-13 17:44:59,013] Trial 57 finished with value: 0.5573770491803278 and parameters: {'learning_rate': 0.01057845337871664, 'num_hidden_layers': 1, 'num_hidden_units': 220}. Best is trial 53 with value: 0.9508196721311475.\n"
     ]
    },
    {
     "name": "stdout",
     "output_type": "stream",
     "text": [
      "2/2 [==============================] - 0s 3ms/step\n"
     ]
    },
    {
     "name": "stderr",
     "output_type": "stream",
     "text": [
      "[I 2023-11-13 17:45:20,195] Trial 58 finished with value: 0.8360655737704918 and parameters: {'learning_rate': 0.005114375665620294, 'num_hidden_layers': 2, 'num_hidden_units': 226}. Best is trial 53 with value: 0.9508196721311475.\n"
     ]
    },
    {
     "name": "stdout",
     "output_type": "stream",
     "text": [
      "2/2 [==============================] - 0s 3ms/step\n"
     ]
    },
    {
     "name": "stderr",
     "output_type": "stream",
     "text": [
      "[I 2023-11-13 17:45:26,696] Trial 59 finished with value: 0.5245901639344263 and parameters: {'learning_rate': 0.01970966117785429, 'num_hidden_layers': 1, 'num_hidden_units': 208}. Best is trial 53 with value: 0.9508196721311475.\n"
     ]
    },
    {
     "name": "stdout",
     "output_type": "stream",
     "text": [
      "2/2 [==============================] - 0s 3ms/step\n"
     ]
    },
    {
     "name": "stderr",
     "output_type": "stream",
     "text": [
      "[I 2023-11-13 17:45:41,224] Trial 60 finished with value: 0.819672131147541 and parameters: {'learning_rate': 0.004372978779629955, 'num_hidden_layers': 2, 'num_hidden_units': 186}. Best is trial 53 with value: 0.9508196721311475.\n"
     ]
    },
    {
     "name": "stdout",
     "output_type": "stream",
     "text": [
      "2/2 [==============================] - 0s 4ms/step\n"
     ]
    },
    {
     "name": "stderr",
     "output_type": "stream",
     "text": [
      "[I 2023-11-13 17:46:17,099] Trial 61 finished with value: 0.8852459016393442 and parameters: {'learning_rate': 7.020869966074025e-05, 'num_hidden_layers': 2, 'num_hidden_units': 246}. Best is trial 53 with value: 0.9508196721311475.\n"
     ]
    },
    {
     "name": "stdout",
     "output_type": "stream",
     "text": [
      "2/2 [==============================] - 0s 3ms/step\n"
     ]
    },
    {
     "name": "stderr",
     "output_type": "stream",
     "text": [
      "[I 2023-11-13 17:46:29,388] Trial 62 finished with value: 0.7868852459016393 and parameters: {'learning_rate': 0.011052800821433686, 'num_hidden_layers': 2, 'num_hidden_units': 247}. Best is trial 53 with value: 0.9508196721311475.\n"
     ]
    },
    {
     "name": "stdout",
     "output_type": "stream",
     "text": [
      "2/2 [==============================] - 0s 4ms/step\n"
     ]
    },
    {
     "name": "stderr",
     "output_type": "stream",
     "text": [
      "[I 2023-11-13 17:46:43,090] Trial 63 finished with value: 0.8688524590163934 and parameters: {'learning_rate': 0.0025989288444827154, 'num_hidden_layers': 2, 'num_hidden_units': 237}. Best is trial 53 with value: 0.9508196721311475.\n"
     ]
    },
    {
     "name": "stdout",
     "output_type": "stream",
     "text": [
      "2/2 [==============================] - 0s 3ms/step\n"
     ]
    },
    {
     "name": "stderr",
     "output_type": "stream",
     "text": [
      "[I 2023-11-13 17:46:50,618] Trial 64 finished with value: 0.5901639344262295 and parameters: {'learning_rate': 0.0068116871873600306, 'num_hidden_layers': 1, 'num_hidden_units': 230}. Best is trial 53 with value: 0.9508196721311475.\n"
     ]
    },
    {
     "name": "stdout",
     "output_type": "stream",
     "text": [
      "2/2 [==============================] - 0s 3ms/step\n"
     ]
    },
    {
     "name": "stderr",
     "output_type": "stream",
     "text": [
      "[I 2023-11-13 17:47:32,490] Trial 65 finished with value: 0.9344262295081968 and parameters: {'learning_rate': 0.00029444426887396025, 'num_hidden_layers': 2, 'num_hidden_units': 219}. Best is trial 53 with value: 0.9508196721311475.\n"
     ]
    },
    {
     "name": "stdout",
     "output_type": "stream",
     "text": [
      "2/2 [==============================] - 0s 5ms/step\n"
     ]
    },
    {
     "name": "stderr",
     "output_type": "stream",
     "text": [
      "[I 2023-11-13 17:47:39,253] Trial 66 finished with value: 0.5901639344262295 and parameters: {'learning_rate': 0.005681968372331152, 'num_hidden_layers': 1, 'num_hidden_units': 215}. Best is trial 53 with value: 0.9508196721311475.\n"
     ]
    },
    {
     "name": "stdout",
     "output_type": "stream",
     "text": [
      "2/2 [==============================] - 0s 3ms/step\n"
     ]
    },
    {
     "name": "stderr",
     "output_type": "stream",
     "text": [
      "[I 2023-11-13 17:47:51,738] Trial 67 finished with value: 0.7540983606557377 and parameters: {'learning_rate': 0.010096514372787016, 'num_hidden_layers': 2, 'num_hidden_units': 177}. Best is trial 53 with value: 0.9508196721311475.\n"
     ]
    },
    {
     "name": "stdout",
     "output_type": "stream",
     "text": [
      "2/2 [==============================] - 0s 3ms/step\n"
     ]
    },
    {
     "name": "stderr",
     "output_type": "stream",
     "text": [
      "[I 2023-11-13 17:48:05,084] Trial 68 finished with value: 0.8360655737704918 and parameters: {'learning_rate': 0.013871554839832982, 'num_hidden_layers': 2, 'num_hidden_units': 197}. Best is trial 53 with value: 0.9508196721311475.\n"
     ]
    },
    {
     "name": "stdout",
     "output_type": "stream",
     "text": [
      "2/2 [==============================] - 0s 4ms/step\n"
     ]
    },
    {
     "name": "stderr",
     "output_type": "stream",
     "text": [
      "[I 2023-11-13 17:48:20,850] Trial 69 finished with value: 0.8688524590163934 and parameters: {'learning_rate': 0.002308480270961376, 'num_hidden_layers': 2, 'num_hidden_units': 222}. Best is trial 53 with value: 0.9508196721311475.\n"
     ]
    },
    {
     "name": "stdout",
     "output_type": "stream",
     "text": [
      "2/2 [==============================] - 0s 5ms/step\n"
     ]
    },
    {
     "name": "stderr",
     "output_type": "stream",
     "text": [
      "[I 2023-11-13 17:48:28,685] Trial 70 finished with value: 0.639344262295082 and parameters: {'learning_rate': 0.0074517985719737, 'num_hidden_layers': 1, 'num_hidden_units': 215}. Best is trial 53 with value: 0.9508196721311475.\n"
     ]
    },
    {
     "name": "stdout",
     "output_type": "stream",
     "text": [
      "2/2 [==============================] - 0s 2ms/step\n"
     ]
    },
    {
     "name": "stderr",
     "output_type": "stream",
     "text": [
      "[I 2023-11-13 17:48:53,303] Trial 71 finished with value: 0.9180327868852459 and parameters: {'learning_rate': 0.0001765285633668488, 'num_hidden_layers': 2, 'num_hidden_units': 250}. Best is trial 53 with value: 0.9508196721311475.\n"
     ]
    },
    {
     "name": "stdout",
     "output_type": "stream",
     "text": [
      "2/2 [==============================] - 0s 4ms/step\n"
     ]
    },
    {
     "name": "stderr",
     "output_type": "stream",
     "text": [
      "[I 2023-11-13 17:49:12,713] Trial 72 finished with value: 0.8360655737704918 and parameters: {'learning_rate': 0.0030995024154885403, 'num_hidden_layers': 2, 'num_hidden_units': 237}. Best is trial 53 with value: 0.9508196721311475.\n"
     ]
    },
    {
     "name": "stdout",
     "output_type": "stream",
     "text": [
      "2/2 [==============================] - 0s 4ms/step\n"
     ]
    },
    {
     "name": "stderr",
     "output_type": "stream",
     "text": [
      "[I 2023-11-13 17:49:27,542] Trial 73 finished with value: 0.8032786885245902 and parameters: {'learning_rate': 0.006312303507723166, 'num_hidden_layers': 2, 'num_hidden_units': 253}. Best is trial 53 with value: 0.9508196721311475.\n"
     ]
    },
    {
     "name": "stdout",
     "output_type": "stream",
     "text": [
      "2/2 [==============================] - 0s 2ms/step\n"
     ]
    },
    {
     "name": "stderr",
     "output_type": "stream",
     "text": [
      "[I 2023-11-13 17:49:48,436] Trial 74 finished with value: 0.8032786885245902 and parameters: {'learning_rate': 0.009625730528017386, 'num_hidden_layers': 3, 'num_hidden_units': 237}. Best is trial 53 with value: 0.9508196721311475.\n"
     ]
    },
    {
     "name": "stdout",
     "output_type": "stream",
     "text": [
      "2/2 [==============================] - 0s 2ms/step\n"
     ]
    },
    {
     "name": "stderr",
     "output_type": "stream",
     "text": [
      "[I 2023-11-13 17:50:06,445] Trial 75 finished with value: 0.8360655737704918 and parameters: {'learning_rate': 0.0021306423950447823, 'num_hidden_layers': 2, 'num_hidden_units': 204}. Best is trial 53 with value: 0.9508196721311475.\n"
     ]
    },
    {
     "name": "stdout",
     "output_type": "stream",
     "text": [
      "2/2 [==============================] - 0s 3ms/step\n"
     ]
    },
    {
     "name": "stderr",
     "output_type": "stream",
     "text": [
      "[I 2023-11-13 17:50:20,134] Trial 76 finished with value: 0.8032786885245902 and parameters: {'learning_rate': 0.014802920729670328, 'num_hidden_layers': 3, 'num_hidden_units': 249}. Best is trial 53 with value: 0.9508196721311475.\n"
     ]
    },
    {
     "name": "stdout",
     "output_type": "stream",
     "text": [
      "2/2 [==============================] - 0s 6ms/step\n"
     ]
    },
    {
     "name": "stderr",
     "output_type": "stream",
     "text": [
      "[I 2023-11-13 17:50:42,185] Trial 77 finished with value: 0.819672131147541 and parameters: {'learning_rate': 0.0058752933567242085, 'num_hidden_layers': 4, 'num_hidden_units': 232}. Best is trial 53 with value: 0.9508196721311475.\n"
     ]
    },
    {
     "name": "stdout",
     "output_type": "stream",
     "text": [
      "2/2 [==============================] - 0s 3ms/step\n"
     ]
    },
    {
     "name": "stderr",
     "output_type": "stream",
     "text": [
      "[I 2023-11-13 17:50:57,690] Trial 78 finished with value: 0.8032786885245902 and parameters: {'learning_rate': 0.009105297602134615, 'num_hidden_layers': 2, 'num_hidden_units': 242}. Best is trial 53 with value: 0.9508196721311475.\n"
     ]
    },
    {
     "name": "stdout",
     "output_type": "stream",
     "text": [
      "2/2 [==============================] - 0s 4ms/step\n"
     ]
    },
    {
     "name": "stderr",
     "output_type": "stream",
     "text": [
      "[I 2023-11-13 17:51:10,080] Trial 79 finished with value: 0.8360655737704918 and parameters: {'learning_rate': 0.0029870720573115595, 'num_hidden_layers': 3, 'num_hidden_units': 165}. Best is trial 53 with value: 0.9508196721311475.\n"
     ]
    },
    {
     "name": "stdout",
     "output_type": "stream",
     "text": [
      "2/2 [==============================] - 0s 4ms/step\n"
     ]
    },
    {
     "name": "stderr",
     "output_type": "stream",
     "text": [
      "[I 2023-11-13 17:52:04,039] Trial 80 finished with value: 0.8524590163934426 and parameters: {'learning_rate': 8.393055915354399e-05, 'num_hidden_layers': 4, 'num_hidden_units': 189}. Best is trial 53 with value: 0.9508196721311475.\n"
     ]
    },
    {
     "name": "stdout",
     "output_type": "stream",
     "text": [
      "2/2 [==============================] - 0s 3ms/step\n"
     ]
    },
    {
     "name": "stderr",
     "output_type": "stream",
     "text": [
      "[I 2023-11-13 17:52:32,705] Trial 81 finished with value: 0.9180327868852459 and parameters: {'learning_rate': 0.00017934589856822295, 'num_hidden_layers': 2, 'num_hidden_units': 250}. Best is trial 53 with value: 0.9508196721311475.\n"
     ]
    },
    {
     "name": "stdout",
     "output_type": "stream",
     "text": [
      "2/2 [==============================] - 0s 2ms/step\n"
     ]
    },
    {
     "name": "stderr",
     "output_type": "stream",
     "text": [
      "[I 2023-11-13 17:52:53,474] Trial 82 finished with value: 0.9180327868852459 and parameters: {'learning_rate': 0.002606984248184142, 'num_hidden_layers': 2, 'num_hidden_units': 224}. Best is trial 53 with value: 0.9508196721311475.\n"
     ]
    },
    {
     "name": "stdout",
     "output_type": "stream",
     "text": [
      "2/2 [==============================] - 0s 2ms/step\n"
     ]
    },
    {
     "name": "stderr",
     "output_type": "stream",
     "text": [
      "[I 2023-11-13 17:53:13,322] Trial 83 finished with value: 0.8032786885245902 and parameters: {'learning_rate': 0.007204642478941521, 'num_hidden_layers': 2, 'num_hidden_units': 224}. Best is trial 53 with value: 0.9508196721311475.\n"
     ]
    },
    {
     "name": "stdout",
     "output_type": "stream",
     "text": [
      "2/2 [==============================] - 0s 5ms/step\n"
     ]
    },
    {
     "name": "stderr",
     "output_type": "stream",
     "text": [
      "[I 2023-11-13 17:53:24,680] Trial 84 finished with value: 0.7868852459016393 and parameters: {'learning_rate': 0.004355703161783936, 'num_hidden_layers': 2, 'num_hidden_units': 215}. Best is trial 53 with value: 0.9508196721311475.\n"
     ]
    },
    {
     "name": "stdout",
     "output_type": "stream",
     "text": [
      "2/2 [==============================] - 0s 5ms/step\n"
     ]
    },
    {
     "name": "stderr",
     "output_type": "stream",
     "text": [
      "[I 2023-11-13 17:53:45,824] Trial 85 finished with value: 0.8688524590163934 and parameters: {'learning_rate': 0.0025878258991527798, 'num_hidden_layers': 2, 'num_hidden_units': 252}. Best is trial 53 with value: 0.9508196721311475.\n"
     ]
    },
    {
     "name": "stdout",
     "output_type": "stream",
     "text": [
      "2/2 [==============================] - 0s 3ms/step\n"
     ]
    },
    {
     "name": "stderr",
     "output_type": "stream",
     "text": [
      "[I 2023-11-13 17:53:57,008] Trial 86 finished with value: 0.7868852459016393 and parameters: {'learning_rate': 0.01221607163003958, 'num_hidden_layers': 2, 'num_hidden_units': 241}. Best is trial 53 with value: 0.9508196721311475.\n"
     ]
    },
    {
     "name": "stdout",
     "output_type": "stream",
     "text": [
      "2/2 [==============================] - 0s 4ms/step\n"
     ]
    },
    {
     "name": "stderr",
     "output_type": "stream",
     "text": [
      "[I 2023-11-13 17:54:03,523] Trial 87 finished with value: 0.5245901639344263 and parameters: {'learning_rate': 0.008225324290718197, 'num_hidden_layers': 1, 'num_hidden_units': 209}. Best is trial 53 with value: 0.9508196721311475.\n"
     ]
    },
    {
     "name": "stdout",
     "output_type": "stream",
     "text": [
      "2/2 [==============================] - 0s 3ms/step\n"
     ]
    },
    {
     "name": "stderr",
     "output_type": "stream",
     "text": [
      "[I 2023-11-13 17:54:14,790] Trial 88 finished with value: 0.7377049180327869 and parameters: {'learning_rate': 0.017697479170908366, 'num_hidden_layers': 2, 'num_hidden_units': 181}. Best is trial 53 with value: 0.9508196721311475.\n"
     ]
    },
    {
     "name": "stdout",
     "output_type": "stream",
     "text": [
      "2/2 [==============================] - 0s 3ms/step\n"
     ]
    },
    {
     "name": "stderr",
     "output_type": "stream",
     "text": [
      "[I 2023-11-13 17:54:37,299] Trial 89 finished with value: 0.8688524590163934 and parameters: {'learning_rate': 0.0019842032651216923, 'num_hidden_layers': 2, 'num_hidden_units': 193}. Best is trial 53 with value: 0.9508196721311475.\n"
     ]
    },
    {
     "name": "stdout",
     "output_type": "stream",
     "text": [
      "2/2 [==============================] - 0s 2ms/step\n"
     ]
    },
    {
     "name": "stderr",
     "output_type": "stream",
     "text": [
      "[I 2023-11-13 17:54:50,635] Trial 90 finished with value: 0.819672131147541 and parameters: {'learning_rate': 0.005482901568871663, 'num_hidden_layers': 2, 'num_hidden_units': 218}. Best is trial 53 with value: 0.9508196721311475.\n"
     ]
    },
    {
     "name": "stdout",
     "output_type": "stream",
     "text": [
      "2/2 [==============================] - 0s 4ms/step\n"
     ]
    },
    {
     "name": "stderr",
     "output_type": "stream",
     "text": [
      "[I 2023-11-13 17:55:20,551] Trial 91 finished with value: 0.9180327868852459 and parameters: {'learning_rate': 0.0003751630443571118, 'num_hidden_layers': 3, 'num_hidden_units': 230}. Best is trial 53 with value: 0.9508196721311475.\n"
     ]
    },
    {
     "name": "stdout",
     "output_type": "stream",
     "text": [
      "2/2 [==============================] - 0s 4ms/step\n"
     ]
    },
    {
     "name": "stderr",
     "output_type": "stream",
     "text": [
      "[I 2023-11-13 17:55:51,408] Trial 92 finished with value: 0.9016393442622951 and parameters: {'learning_rate': 0.0019577849804690095, 'num_hidden_layers': 3, 'num_hidden_units': 202}. Best is trial 53 with value: 0.9508196721311475.\n"
     ]
    },
    {
     "name": "stdout",
     "output_type": "stream",
     "text": [
      "2/2 [==============================] - 0s 3ms/step\n"
     ]
    },
    {
     "name": "stderr",
     "output_type": "stream",
     "text": [
      "[I 2023-11-13 17:56:14,888] Trial 93 finished with value: 0.8524590163934426 and parameters: {'learning_rate': 0.004844008807329274, 'num_hidden_layers': 3, 'num_hidden_units': 227}. Best is trial 53 with value: 0.9508196721311475.\n"
     ]
    },
    {
     "name": "stdout",
     "output_type": "stream",
     "text": [
      "2/2 [==============================] - 0s 4ms/step\n"
     ]
    },
    {
     "name": "stderr",
     "output_type": "stream",
     "text": [
      "[I 2023-11-13 17:56:33,140] Trial 94 finished with value: 0.7704918032786885 and parameters: {'learning_rate': 0.00985699973053656, 'num_hidden_layers': 2, 'num_hidden_units': 250}. Best is trial 53 with value: 0.9508196721311475.\n"
     ]
    },
    {
     "name": "stdout",
     "output_type": "stream",
     "text": [
      "2/2 [==============================] - 0s 3ms/step\n"
     ]
    },
    {
     "name": "stderr",
     "output_type": "stream",
     "text": [
      "[I 2023-11-13 17:57:05,792] Trial 95 finished with value: 0.9016393442622951 and parameters: {'learning_rate': 0.00025763999507856815, 'num_hidden_layers': 3, 'num_hidden_units': 241}. Best is trial 53 with value: 0.9508196721311475.\n"
     ]
    },
    {
     "name": "stdout",
     "output_type": "stream",
     "text": [
      "2/2 [==============================] - 0s 3ms/step\n"
     ]
    },
    {
     "name": "stderr",
     "output_type": "stream",
     "text": [
      "[I 2023-11-13 17:57:19,318] Trial 96 finished with value: 0.8032786885245902 and parameters: {'learning_rate': 0.0073793687859912555, 'num_hidden_layers': 2, 'num_hidden_units': 232}. Best is trial 53 with value: 0.9508196721311475.\n"
     ]
    },
    {
     "name": "stdout",
     "output_type": "stream",
     "text": [
      "2/2 [==============================] - 0s 5ms/step\n"
     ]
    },
    {
     "name": "stderr",
     "output_type": "stream",
     "text": [
      "[I 2023-11-13 17:57:28,019] Trial 97 finished with value: 0.6721311475409836 and parameters: {'learning_rate': 0.004877492369855522, 'num_hidden_layers': 1, 'num_hidden_units': 209}. Best is trial 53 with value: 0.9508196721311475.\n"
     ]
    },
    {
     "name": "stdout",
     "output_type": "stream",
     "text": [
      "2/2 [==============================] - 0s 3ms/step\n"
     ]
    },
    {
     "name": "stderr",
     "output_type": "stream",
     "text": [
      "[I 2023-11-13 17:57:44,160] Trial 98 finished with value: 0.8524590163934426 and parameters: {'learning_rate': 0.0021689639749419465, 'num_hidden_layers': 2, 'num_hidden_units': 256}. Best is trial 53 with value: 0.9508196721311475.\n"
     ]
    },
    {
     "name": "stdout",
     "output_type": "stream",
     "text": [
      "2/2 [==============================] - 0s 4ms/step\n"
     ]
    },
    {
     "name": "stderr",
     "output_type": "stream",
     "text": [
      "[I 2023-11-13 17:57:58,775] Trial 99 finished with value: 0.8032786885245902 and parameters: {'learning_rate': 0.01085204292028235, 'num_hidden_layers': 3, 'num_hidden_units': 236}. Best is trial 53 with value: 0.9508196721311475.\n"
     ]
    },
    {
     "name": "stdout",
     "output_type": "stream",
     "text": [
      "Mejor conjunto de hiperparámetros: {'learning_rate': 0.00019523347621503117, 'num_hidden_layers': 1, 'num_hidden_units': 191}\n"
     ]
    }
   ],
   "source": [
    "import optuna\n",
    "import tensorflow as tf\n",
    "from tensorflow import keras\n",
    "from sklearn.model_selection import train_test_split\n",
    "from sklearn.metrics import accuracy_score\n",
    "\n",
    "def objective(trial):\n",
    "    # Definir espacio de búsqueda de hiperparámetros\n",
    "    learning_rate = trial.suggest_float(\"learning_rate\", 1e-5, 1e-1)\n",
    "    num_hidden_layers = trial.suggest_int(\"num_hidden_layers\", 1, 5)\n",
    "    num_hidden_units = trial.suggest_int(\"num_hidden_units\", 16, 256)\n",
    "\n",
    "    # Construir el modelo de red neuronal con los hiperparámetros\n",
    "    model = keras.Sequential()\n",
    "    for _ in range(num_hidden_layers):\n",
    "        model.add(keras.layers.Dense(num_hidden_units, activation=\"relu\"))\n",
    "        model.add(keras.layers.BatchNormalization())\n",
    "        model.add(keras.layers.Dropout(0.3))\n",
    "        \n",
    "    model.add(keras.layers.Dense(1, activation=\"sigmoid\"))\n",
    "\n",
    "    # Compilar y entrenar el modelo\n",
    "    model.compile(optimizer=keras.optimizers.Adam(learning_rate=learning_rate),\n",
    "                  loss=\"binary_crossentropy\",\n",
    "                  metrics=[\"accuracy\"])\n",
    "    \n",
    "    #early_stopping = keras.callbacks.EarlyStopping(\n",
    "    #patience=50,\n",
    "    #min_delta=0.001,\n",
    "    #restore_best_weights=True,\n",
    "    #)\n",
    "    \n",
    "    model.fit(X_train, y_train, epochs=500, batch_size=16, verbose=0, validation_data=(X_test, y_test))\n",
    "\n",
    "    # Evaluar el modelo\n",
    "    y_pred = (model.predict(X_test) > 0.5).astype(int)\n",
    "    accuracy = accuracy_score(y_test, y_pred)\n",
    "\n",
    "    return accuracy\n",
    "\n",
    "\n",
    "# Crear un estudio Optuna\n",
    "study = optuna.create_study(direction=\"maximize\")\n",
    "study.optimize(objective, n_trials=100)\n",
    "\n",
    "# Obtener el mejor conjunto de hiperparámetros\n",
    "best_params = study.best_params\n",
    "print(\"Mejor conjunto de hiperparámetros:\", best_params)\n"
   ]
  },
  {
   "cell_type": "code",
   "execution_count": 22,
   "metadata": {},
   "outputs": [
    {
     "name": "stderr",
     "output_type": "stream",
     "text": [
      "[I 2023-11-13 17:59:40,697] A new study created in memory with name: no-name-3c7582b6-9069-4d44-b0a3-9186bad82fbc\n"
     ]
    },
    {
     "name": "stdout",
     "output_type": "stream",
     "text": [
      "2/2 [==============================] - 0s 4ms/step\n"
     ]
    },
    {
     "name": "stderr",
     "output_type": "stream",
     "text": [
      "[I 2023-11-13 18:00:47,216] Trial 0 finished with value: 0.7049180327868853 and parameters: {'learning_rate': 0.09434890141388211, 'num_hidden_layers': 3, 'num_hidden_units': 161}. Best is trial 0 with value: 0.7049180327868853.\n"
     ]
    },
    {
     "name": "stdout",
     "output_type": "stream",
     "text": [
      "2/2 [==============================] - 0s 3ms/step\n"
     ]
    },
    {
     "name": "stderr",
     "output_type": "stream",
     "text": [
      "[I 2023-11-13 18:01:39,602] Trial 1 finished with value: 0.7049180327868853 and parameters: {'learning_rate': 0.042353496952663126, 'num_hidden_layers': 1, 'num_hidden_units': 192}. Best is trial 0 with value: 0.7049180327868853.\n"
     ]
    },
    {
     "name": "stdout",
     "output_type": "stream",
     "text": [
      "2/2 [==============================] - 0s 6ms/step\n"
     ]
    },
    {
     "name": "stderr",
     "output_type": "stream",
     "text": [
      "[I 2023-11-13 18:03:02,628] Trial 2 finished with value: 0.5245901639344263 and parameters: {'learning_rate': 0.0794386547593918, 'num_hidden_layers': 5, 'num_hidden_units': 146}. Best is trial 0 with value: 0.7049180327868853.\n"
     ]
    },
    {
     "name": "stdout",
     "output_type": "stream",
     "text": [
      "2/2 [==============================] - 0s 3ms/step\n"
     ]
    },
    {
     "name": "stderr",
     "output_type": "stream",
     "text": [
      "[I 2023-11-13 18:03:55,909] Trial 3 finished with value: 0.6721311475409836 and parameters: {'learning_rate': 0.03389357944286681, 'num_hidden_layers': 2, 'num_hidden_units': 63}. Best is trial 0 with value: 0.7049180327868853.\n"
     ]
    },
    {
     "name": "stdout",
     "output_type": "stream",
     "text": [
      "2/2 [==============================] - 0s 5ms/step\n"
     ]
    },
    {
     "name": "stderr",
     "output_type": "stream",
     "text": [
      "[I 2023-11-13 18:04:58,176] Trial 4 finished with value: 0.7704918032786885 and parameters: {'learning_rate': 0.045659897555938946, 'num_hidden_layers': 3, 'num_hidden_units': 106}. Best is trial 4 with value: 0.7704918032786885.\n"
     ]
    },
    {
     "name": "stdout",
     "output_type": "stream",
     "text": [
      "2/2 [==============================] - 0s 4ms/step\n"
     ]
    },
    {
     "name": "stderr",
     "output_type": "stream",
     "text": [
      "[I 2023-11-13 18:05:52,921] Trial 5 finished with value: 0.6557377049180327 and parameters: {'learning_rate': 0.09646924665270058, 'num_hidden_layers': 3, 'num_hidden_units': 46}. Best is trial 4 with value: 0.7704918032786885.\n"
     ]
    },
    {
     "name": "stdout",
     "output_type": "stream",
     "text": [
      "2/2 [==============================] - 0s 4ms/step\n"
     ]
    },
    {
     "name": "stderr",
     "output_type": "stream",
     "text": [
      "[I 2023-11-13 18:06:56,156] Trial 6 finished with value: 0.7540983606557377 and parameters: {'learning_rate': 0.06468103976254716, 'num_hidden_layers': 3, 'num_hidden_units': 151}. Best is trial 4 with value: 0.7704918032786885.\n"
     ]
    },
    {
     "name": "stdout",
     "output_type": "stream",
     "text": [
      "2/2 [==============================] - 0s 3ms/step\n"
     ]
    },
    {
     "name": "stderr",
     "output_type": "stream",
     "text": [
      "[I 2023-11-13 18:07:52,289] Trial 7 finished with value: 0.7377049180327869 and parameters: {'learning_rate': 0.07954114621646408, 'num_hidden_layers': 2, 'num_hidden_units': 113}. Best is trial 4 with value: 0.7704918032786885.\n"
     ]
    },
    {
     "name": "stdout",
     "output_type": "stream",
     "text": [
      "2/2 [==============================] - 0s 3ms/step\n"
     ]
    },
    {
     "name": "stderr",
     "output_type": "stream",
     "text": [
      "[I 2023-11-13 18:08:54,683] Trial 8 finished with value: 0.7377049180327869 and parameters: {'learning_rate': 0.014884130978290906, 'num_hidden_layers': 2, 'num_hidden_units': 254}. Best is trial 4 with value: 0.7704918032786885.\n"
     ]
    },
    {
     "name": "stdout",
     "output_type": "stream",
     "text": [
      "2/2 [==============================] - 0s 3ms/step\n"
     ]
    },
    {
     "name": "stderr",
     "output_type": "stream",
     "text": [
      "[I 2023-11-13 18:10:00,945] Trial 9 finished with value: 0.5081967213114754 and parameters: {'learning_rate': 0.08452358953839306, 'num_hidden_layers': 3, 'num_hidden_units': 182}. Best is trial 4 with value: 0.7704918032786885.\n"
     ]
    },
    {
     "name": "stdout",
     "output_type": "stream",
     "text": [
      "2/2 [==============================] - 0s 5ms/step\n"
     ]
    },
    {
     "name": "stderr",
     "output_type": "stream",
     "text": [
      "[I 2023-11-13 18:11:16,285] Trial 10 finished with value: 0.7704918032786885 and parameters: {'learning_rate': 0.0006065448417878413, 'num_hidden_layers': 5, 'num_hidden_units': 82}. Best is trial 4 with value: 0.7704918032786885.\n"
     ]
    },
    {
     "name": "stdout",
     "output_type": "stream",
     "text": [
      "2/2 [==============================] - 0s 4ms/step\n"
     ]
    },
    {
     "name": "stderr",
     "output_type": "stream",
     "text": [
      "[I 2023-11-13 18:12:26,420] Trial 11 finished with value: 0.8360655737704918 and parameters: {'learning_rate': 0.001318376009479589, 'num_hidden_layers': 5, 'num_hidden_units': 87}. Best is trial 11 with value: 0.8360655737704918.\n"
     ]
    },
    {
     "name": "stdout",
     "output_type": "stream",
     "text": [
      "2/2 [==============================] - 0s 5ms/step\n"
     ]
    },
    {
     "name": "stderr",
     "output_type": "stream",
     "text": [
      "[I 2023-11-13 18:13:25,506] Trial 12 finished with value: 0.6557377049180327 and parameters: {'learning_rate': 0.028546559018181344, 'num_hidden_layers': 4, 'num_hidden_units': 17}. Best is trial 11 with value: 0.8360655737704918.\n"
     ]
    },
    {
     "name": "stdout",
     "output_type": "stream",
     "text": [
      "2/2 [==============================] - 0s 6ms/step\n"
     ]
    },
    {
     "name": "stderr",
     "output_type": "stream",
     "text": [
      "[I 2023-11-13 18:14:33,382] Trial 13 finished with value: 0.7377049180327869 and parameters: {'learning_rate': 0.056226756720350005, 'num_hidden_layers': 4, 'num_hidden_units': 107}. Best is trial 11 with value: 0.8360655737704918.\n"
     ]
    },
    {
     "name": "stdout",
     "output_type": "stream",
     "text": [
      "2/2 [==============================] - 0s 5ms/step\n"
     ]
    },
    {
     "name": "stderr",
     "output_type": "stream",
     "text": [
      "[I 2023-11-13 18:15:41,233] Trial 14 finished with value: 0.7213114754098361 and parameters: {'learning_rate': 0.018949884439627862, 'num_hidden_layers': 4, 'num_hidden_units': 101}. Best is trial 11 with value: 0.8360655737704918.\n"
     ]
    },
    {
     "name": "stdout",
     "output_type": "stream",
     "text": [
      "2/2 [==============================] - 0s 2ms/step\n"
     ]
    },
    {
     "name": "stderr",
     "output_type": "stream",
     "text": [
      "[I 2023-11-13 18:16:50,843] Trial 15 finished with value: 0.8360655737704918 and parameters: {'learning_rate': 0.0010241853164513204, 'num_hidden_layers': 5, 'num_hidden_units': 46}. Best is trial 11 with value: 0.8360655737704918.\n"
     ]
    },
    {
     "name": "stdout",
     "output_type": "stream",
     "text": [
      "2/2 [==============================] - 0s 4ms/step\n"
     ]
    },
    {
     "name": "stderr",
     "output_type": "stream",
     "text": [
      "[I 2023-11-13 18:17:51,944] Trial 16 finished with value: 0.7540983606557377 and parameters: {'learning_rate': 0.0007308194709263664, 'num_hidden_layers': 5, 'num_hidden_units': 18}. Best is trial 11 with value: 0.8360655737704918.\n"
     ]
    },
    {
     "name": "stdout",
     "output_type": "stream",
     "text": [
      "2/2 [==============================] - 0s 4ms/step\n"
     ]
    },
    {
     "name": "stderr",
     "output_type": "stream",
     "text": [
      "[I 2023-11-13 18:19:01,170] Trial 17 finished with value: 0.7213114754098361 and parameters: {'learning_rate': 0.008194355688186973, 'num_hidden_layers': 5, 'num_hidden_units': 51}. Best is trial 11 with value: 0.8360655737704918.\n"
     ]
    },
    {
     "name": "stdout",
     "output_type": "stream",
     "text": [
      "2/2 [==============================] - 0s 3ms/step\n"
     ]
    },
    {
     "name": "stderr",
     "output_type": "stream",
     "text": [
      "[I 2023-11-13 18:20:06,523] Trial 18 finished with value: 0.6721311475409836 and parameters: {'learning_rate': 0.018901244591102193, 'num_hidden_layers': 4, 'num_hidden_units': 75}. Best is trial 11 with value: 0.8360655737704918.\n"
     ]
    },
    {
     "name": "stdout",
     "output_type": "stream",
     "text": [
      "2/2 [==============================] - 0s 5ms/step\n"
     ]
    },
    {
     "name": "stderr",
     "output_type": "stream",
     "text": [
      "[I 2023-11-13 18:21:10,665] Trial 19 finished with value: 0.6885245901639344 and parameters: {'learning_rate': 0.028734474163481752, 'num_hidden_layers': 5, 'num_hidden_units': 36}. Best is trial 11 with value: 0.8360655737704918.\n"
     ]
    },
    {
     "name": "stdout",
     "output_type": "stream",
     "text": [
      "2/2 [==============================] - 0s 4ms/step\n"
     ]
    },
    {
     "name": "stderr",
     "output_type": "stream",
     "text": [
      "[I 2023-11-13 18:22:11,318] Trial 20 finished with value: 0.5245901639344263 and parameters: {'learning_rate': 0.010435886111563764, 'num_hidden_layers': 4, 'num_hidden_units': 80}. Best is trial 11 with value: 0.8360655737704918.\n"
     ]
    },
    {
     "name": "stdout",
     "output_type": "stream",
     "text": [
      "2/2 [==============================] - 0s 3ms/step\n"
     ]
    },
    {
     "name": "stderr",
     "output_type": "stream",
     "text": [
      "[I 2023-11-13 18:23:23,060] Trial 21 finished with value: 0.6229508196721312 and parameters: {'learning_rate': 0.04515096764894302, 'num_hidden_layers': 4, 'num_hidden_units': 125}. Best is trial 11 with value: 0.8360655737704918.\n"
     ]
    },
    {
     "name": "stdout",
     "output_type": "stream",
     "text": [
      "2/2 [==============================] - 0s 2ms/step\n"
     ]
    },
    {
     "name": "stderr",
     "output_type": "stream",
     "text": [
      "[I 2023-11-13 18:24:06,374] Trial 22 finished with value: 0.9180327868852459 and parameters: {'learning_rate': 0.0004121395495910409, 'num_hidden_layers': 1, 'num_hidden_units': 101}. Best is trial 22 with value: 0.9180327868852459.\n"
     ]
    },
    {
     "name": "stdout",
     "output_type": "stream",
     "text": [
      "2/2 [==============================] - 0s 2ms/step\n"
     ]
    },
    {
     "name": "stderr",
     "output_type": "stream",
     "text": [
      "[I 2023-11-13 18:24:50,523] Trial 23 finished with value: 0.7540983606557377 and parameters: {'learning_rate': 0.0018827318123611093, 'num_hidden_layers': 1, 'num_hidden_units': 89}. Best is trial 22 with value: 0.9180327868852459.\n"
     ]
    },
    {
     "name": "stdout",
     "output_type": "stream",
     "text": [
      "2/2 [==============================] - 0s 4ms/step\n"
     ]
    },
    {
     "name": "stderr",
     "output_type": "stream",
     "text": [
      "[I 2023-11-13 18:25:35,612] Trial 24 finished with value: 0.639344262295082 and parameters: {'learning_rate': 0.00837268978833216, 'num_hidden_layers': 1, 'num_hidden_units': 60}. Best is trial 22 with value: 0.9180327868852459.\n"
     ]
    },
    {
     "name": "stdout",
     "output_type": "stream",
     "text": [
      "2/2 [==============================] - 0s 3ms/step\n"
     ]
    },
    {
     "name": "stderr",
     "output_type": "stream",
     "text": [
      "[I 2023-11-13 18:26:47,997] Trial 25 finished with value: 0.6721311475409836 and parameters: {'learning_rate': 0.02076899508508944, 'num_hidden_layers': 5, 'num_hidden_units': 130}. Best is trial 22 with value: 0.9180327868852459.\n"
     ]
    },
    {
     "name": "stdout",
     "output_type": "stream",
     "text": [
      "2/2 [==============================] - 0s 4ms/step\n"
     ]
    },
    {
     "name": "stderr",
     "output_type": "stream",
     "text": [
      "[I 2023-11-13 18:27:35,458] Trial 26 finished with value: 0.6721311475409836 and parameters: {'learning_rate': 0.009403636039682564, 'num_hidden_layers': 2, 'num_hidden_units': 67}. Best is trial 22 with value: 0.9180327868852459.\n"
     ]
    },
    {
     "name": "stdout",
     "output_type": "stream",
     "text": [
      "2/2 [==============================] - 0s 3ms/step\n"
     ]
    },
    {
     "name": "stderr",
     "output_type": "stream",
     "text": [
      "[I 2023-11-13 18:28:40,895] Trial 27 finished with value: 0.7704918032786885 and parameters: {'learning_rate': 0.0009084413684301259, 'num_hidden_layers': 5, 'num_hidden_units': 34}. Best is trial 22 with value: 0.9180327868852459.\n"
     ]
    },
    {
     "name": "stdout",
     "output_type": "stream",
     "text": [
      "2/2 [==============================] - 0s 2ms/step\n"
     ]
    },
    {
     "name": "stderr",
     "output_type": "stream",
     "text": [
      "[I 2023-11-13 18:29:27,288] Trial 28 finished with value: 0.6229508196721312 and parameters: {'learning_rate': 0.015782888996568243, 'num_hidden_layers': 1, 'num_hidden_units': 213}. Best is trial 22 with value: 0.9180327868852459.\n"
     ]
    },
    {
     "name": "stdout",
     "output_type": "stream",
     "text": [
      "2/2 [==============================] - 0s 3ms/step\n"
     ]
    },
    {
     "name": "stderr",
     "output_type": "stream",
     "text": [
      "[I 2023-11-13 18:30:28,588] Trial 29 finished with value: 0.7540983606557377 and parameters: {'learning_rate': 0.024080465085202462, 'num_hidden_layers': 4, 'num_hidden_units': 90}. Best is trial 22 with value: 0.9180327868852459.\n"
     ]
    },
    {
     "name": "stdout",
     "output_type": "stream",
     "text": [
      "2/2 [==============================] - 0s 5ms/step\n"
     ]
    },
    {
     "name": "stderr",
     "output_type": "stream",
     "text": [
      "[I 2023-11-13 18:31:17,380] Trial 30 finished with value: 0.7540983606557377 and parameters: {'learning_rate': 0.011481123744921015, 'num_hidden_layers': 2, 'num_hidden_units': 118}. Best is trial 22 with value: 0.9180327868852459.\n"
     ]
    },
    {
     "name": "stdout",
     "output_type": "stream",
     "text": [
      "2/2 [==============================] - 0s 5ms/step\n"
     ]
    },
    {
     "name": "stderr",
     "output_type": "stream",
     "text": [
      "[I 2023-11-13 18:32:15,866] Trial 31 finished with value: 0.639344262295082 and parameters: {'learning_rate': 0.03846826023488152, 'num_hidden_layers': 3, 'num_hidden_units': 102}. Best is trial 22 with value: 0.9180327868852459.\n"
     ]
    },
    {
     "name": "stdout",
     "output_type": "stream",
     "text": [
      "2/2 [==============================] - 0s 3ms/step\n"
     ]
    },
    {
     "name": "stderr",
     "output_type": "stream",
     "text": [
      "[I 2023-11-13 18:33:15,072] Trial 32 finished with value: 0.7213114754098361 and parameters: {'learning_rate': 0.025623911663850783, 'num_hidden_layers': 3, 'num_hidden_units': 137}. Best is trial 22 with value: 0.9180327868852459.\n"
     ]
    },
    {
     "name": "stdout",
     "output_type": "stream",
     "text": [
      "2/2 [==============================] - 0s 2ms/step\n"
     ]
    },
    {
     "name": "stderr",
     "output_type": "stream",
     "text": [
      "[I 2023-11-13 18:33:58,314] Trial 33 finished with value: 0.6229508196721312 and parameters: {'learning_rate': 0.03330567376301466, 'num_hidden_layers': 1, 'num_hidden_units': 176}. Best is trial 22 with value: 0.9180327868852459.\n"
     ]
    },
    {
     "name": "stdout",
     "output_type": "stream",
     "text": [
      "2/2 [==============================] - 0s 3ms/step\n"
     ]
    },
    {
     "name": "stderr",
     "output_type": "stream",
     "text": [
      "[I 2023-11-13 18:35:10,147] Trial 34 finished with value: 0.7377049180327869 and parameters: {'learning_rate': 0.00546830685021504, 'num_hidden_layers': 5, 'num_hidden_units': 95}. Best is trial 22 with value: 0.9180327868852459.\n"
     ]
    },
    {
     "name": "stdout",
     "output_type": "stream",
     "text": [
      "2/2 [==============================] - 0s 2ms/step\n"
     ]
    },
    {
     "name": "stderr",
     "output_type": "stream",
     "text": [
      "[I 2023-11-13 18:35:56,989] Trial 35 finished with value: 0.7213114754098361 and parameters: {'learning_rate': 0.013753230974128589, 'num_hidden_layers': 2, 'num_hidden_units': 54}. Best is trial 22 with value: 0.9180327868852459.\n"
     ]
    },
    {
     "name": "stdout",
     "output_type": "stream",
     "text": [
      "2/2 [==============================] - 0s 3ms/step\n"
     ]
    },
    {
     "name": "stderr",
     "output_type": "stream",
     "text": [
      "[I 2023-11-13 18:36:58,472] Trial 36 finished with value: 0.7868852459016393 and parameters: {'learning_rate': 0.006223710554936788, 'num_hidden_layers': 3, 'num_hidden_units': 155}. Best is trial 22 with value: 0.9180327868852459.\n"
     ]
    },
    {
     "name": "stdout",
     "output_type": "stream",
     "text": [
      "2/2 [==============================] - 0s 4ms/step\n"
     ]
    },
    {
     "name": "stderr",
     "output_type": "stream",
     "text": [
      "[I 2023-11-13 18:38:21,995] Trial 37 finished with value: 0.7868852459016393 and parameters: {'learning_rate': 0.00603919993703766, 'num_hidden_layers': 5, 'num_hidden_units': 168}. Best is trial 22 with value: 0.9180327868852459.\n"
     ]
    },
    {
     "name": "stdout",
     "output_type": "stream",
     "text": [
      "2/2 [==============================] - 0s 5ms/step\n"
     ]
    },
    {
     "name": "stderr",
     "output_type": "stream",
     "text": [
      "[I 2023-11-13 18:39:33,062] Trial 38 finished with value: 0.7868852459016393 and parameters: {'learning_rate': 0.004500950944395997, 'num_hidden_layers': 4, 'num_hidden_units': 156}. Best is trial 22 with value: 0.9180327868852459.\n"
     ]
    },
    {
     "name": "stdout",
     "output_type": "stream",
     "text": [
      "2/2 [==============================] - 0s 3ms/step\n"
     ]
    },
    {
     "name": "stderr",
     "output_type": "stream",
     "text": [
      "[I 2023-11-13 18:40:30,419] Trial 39 finished with value: 0.7213114754098361 and parameters: {'learning_rate': 0.013287378937817973, 'num_hidden_layers': 2, 'num_hidden_units': 198}. Best is trial 22 with value: 0.9180327868852459.\n"
     ]
    },
    {
     "name": "stdout",
     "output_type": "stream",
     "text": [
      "2/2 [==============================] - 0s 6ms/step\n"
     ]
    },
    {
     "name": "stderr",
     "output_type": "stream",
     "text": [
      "[I 2023-11-13 18:41:35,249] Trial 40 finished with value: 0.8524590163934426 and parameters: {'learning_rate': 0.005016511972129936, 'num_hidden_layers': 3, 'num_hidden_units': 135}. Best is trial 22 with value: 0.9180327868852459.\n"
     ]
    },
    {
     "name": "stdout",
     "output_type": "stream",
     "text": [
      "2/2 [==============================] - 0s 3ms/step\n"
     ]
    },
    {
     "name": "stderr",
     "output_type": "stream",
     "text": [
      "[I 2023-11-13 18:42:35,576] Trial 41 finished with value: 0.7377049180327869 and parameters: {'learning_rate': 0.005834480948588785, 'num_hidden_layers': 3, 'num_hidden_units': 141}. Best is trial 22 with value: 0.9180327868852459.\n"
     ]
    },
    {
     "name": "stdout",
     "output_type": "stream",
     "text": [
      "2/2 [==============================] - 0s 2ms/step\n"
     ]
    },
    {
     "name": "stderr",
     "output_type": "stream",
     "text": [
      "[I 2023-11-13 18:43:38,636] Trial 42 finished with value: 0.8524590163934426 and parameters: {'learning_rate': 0.0009689204011071305, 'num_hidden_layers': 3, 'num_hidden_units': 149}. Best is trial 22 with value: 0.9180327868852459.\n"
     ]
    },
    {
     "name": "stdout",
     "output_type": "stream",
     "text": [
      "2/2 [==============================] - 0s 4ms/step\n"
     ]
    },
    {
     "name": "stderr",
     "output_type": "stream",
     "text": [
      "[I 2023-11-13 18:44:37,322] Trial 43 finished with value: 0.8852459016393442 and parameters: {'learning_rate': 0.00034418005549203667, 'num_hidden_layers': 3, 'num_hidden_units': 115}. Best is trial 22 with value: 0.9180327868852459.\n"
     ]
    },
    {
     "name": "stdout",
     "output_type": "stream",
     "text": [
      "2/2 [==============================] - 0s 2ms/step\n"
     ]
    },
    {
     "name": "stderr",
     "output_type": "stream",
     "text": [
      "[I 2023-11-13 18:45:33,230] Trial 44 finished with value: 0.6885245901639344 and parameters: {'learning_rate': 0.01630893276925779, 'num_hidden_layers': 3, 'num_hidden_units': 116}. Best is trial 22 with value: 0.9180327868852459.\n"
     ]
    },
    {
     "name": "stdout",
     "output_type": "stream",
     "text": [
      "2/2 [==============================] - 0s 2ms/step\n"
     ]
    },
    {
     "name": "stderr",
     "output_type": "stream",
     "text": [
      "[I 2023-11-13 18:46:45,961] Trial 45 finished with value: 0.7704918032786885 and parameters: {'learning_rate': 0.009968552929324241, 'num_hidden_layers': 3, 'num_hidden_units': 145}. Best is trial 22 with value: 0.9180327868852459.\n"
     ]
    },
    {
     "name": "stdout",
     "output_type": "stream",
     "text": [
      "2/2 [==============================] - 0s 3ms/step\n"
     ]
    },
    {
     "name": "stderr",
     "output_type": "stream",
     "text": [
      "[I 2023-11-13 18:47:37,513] Trial 46 finished with value: 0.9180327868852459 and parameters: {'learning_rate': 0.000450604848300016, 'num_hidden_layers': 2, 'num_hidden_units': 125}. Best is trial 22 with value: 0.9180327868852459.\n"
     ]
    },
    {
     "name": "stdout",
     "output_type": "stream",
     "text": [
      "2/2 [==============================] - 0s 5ms/step\n"
     ]
    },
    {
     "name": "stderr",
     "output_type": "stream",
     "text": [
      "[I 2023-11-13 18:48:27,455] Trial 47 finished with value: 0.7540983606557377 and parameters: {'learning_rate': 0.012120243847557534, 'num_hidden_layers': 2, 'num_hidden_units': 127}. Best is trial 22 with value: 0.9180327868852459.\n"
     ]
    },
    {
     "name": "stdout",
     "output_type": "stream",
     "text": [
      "2/2 [==============================] - 0s 2ms/step\n"
     ]
    },
    {
     "name": "stderr",
     "output_type": "stream",
     "text": [
      "[I 2023-11-13 18:49:21,199] Trial 48 finished with value: 0.7868852459016393 and parameters: {'learning_rate': 0.004486157889381696, 'num_hidden_layers': 2, 'num_hidden_units': 166}. Best is trial 22 with value: 0.9180327868852459.\n"
     ]
    },
    {
     "name": "stdout",
     "output_type": "stream",
     "text": [
      "2/2 [==============================] - 0s 3ms/step\n"
     ]
    },
    {
     "name": "stderr",
     "output_type": "stream",
     "text": [
      "[I 2023-11-13 18:50:21,149] Trial 49 finished with value: 0.8688524590163934 and parameters: {'learning_rate': 0.00041520636517306317, 'num_hidden_layers': 3, 'num_hidden_units': 112}. Best is trial 22 with value: 0.9180327868852459.\n"
     ]
    },
    {
     "name": "stdout",
     "output_type": "stream",
     "text": [
      "2/2 [==============================] - 0s 2ms/step\n"
     ]
    },
    {
     "name": "stderr",
     "output_type": "stream",
     "text": [
      "[I 2023-11-13 18:51:04,194] Trial 50 finished with value: 0.6229508196721312 and parameters: {'learning_rate': 0.01772127531452516, 'num_hidden_layers': 1, 'num_hidden_units': 112}. Best is trial 22 with value: 0.9180327868852459.\n"
     ]
    },
    {
     "name": "stdout",
     "output_type": "stream",
     "text": [
      "2/2 [==============================] - 0s 3ms/step\n"
     ]
    },
    {
     "name": "stderr",
     "output_type": "stream",
     "text": [
      "[I 2023-11-13 18:52:02,104] Trial 51 finished with value: 0.819672131147541 and parameters: {'learning_rate': 0.0010755530958329294, 'num_hidden_layers': 3, 'num_hidden_units': 131}. Best is trial 22 with value: 0.9180327868852459.\n"
     ]
    },
    {
     "name": "stdout",
     "output_type": "stream",
     "text": [
      "2/2 [==============================] - 0s 30ms/step\n"
     ]
    },
    {
     "name": "stderr",
     "output_type": "stream",
     "text": [
      "[I 2023-11-13 18:53:05,837] Trial 52 finished with value: 0.9344262295081968 and parameters: {'learning_rate': 0.00011309688612076588, 'num_hidden_layers': 3, 'num_hidden_units': 122}. Best is trial 52 with value: 0.9344262295081968.\n"
     ]
    },
    {
     "name": "stdout",
     "output_type": "stream",
     "text": [
      "2/2 [==============================] - 0s 4ms/step\n"
     ]
    },
    {
     "name": "stderr",
     "output_type": "stream",
     "text": [
      "[I 2023-11-13 18:54:04,565] Trial 53 finished with value: 0.7704918032786885 and parameters: {'learning_rate': 0.00904955529315666, 'num_hidden_layers': 3, 'num_hidden_units': 120}. Best is trial 52 with value: 0.9344262295081968.\n"
     ]
    },
    {
     "name": "stdout",
     "output_type": "stream",
     "text": [
      "2/2 [==============================] - 0s 5ms/step\n"
     ]
    },
    {
     "name": "stderr",
     "output_type": "stream",
     "text": [
      "[I 2023-11-13 18:55:01,257] Trial 54 finished with value: 0.819672131147541 and parameters: {'learning_rate': 0.004046013375237692, 'num_hidden_layers': 3, 'num_hidden_units': 105}. Best is trial 52 with value: 0.9344262295081968.\n"
     ]
    },
    {
     "name": "stdout",
     "output_type": "stream",
     "text": [
      "2/2 [==============================] - 0s 4ms/step\n"
     ]
    },
    {
     "name": "stderr",
     "output_type": "stream",
     "text": [
      "[I 2023-11-13 18:55:55,809] Trial 55 finished with value: 0.6885245901639344 and parameters: {'learning_rate': 0.014112578568567194, 'num_hidden_layers': 2, 'num_hidden_units': 137}. Best is trial 52 with value: 0.9344262295081968.\n"
     ]
    },
    {
     "name": "stdout",
     "output_type": "stream",
     "text": [
      "2/2 [==============================] - 0s 2ms/step\n"
     ]
    },
    {
     "name": "stderr",
     "output_type": "stream",
     "text": [
      "[I 2023-11-13 18:56:43,956] Trial 56 finished with value: 0.6721311475409836 and parameters: {'learning_rate': 0.008253888365510519, 'num_hidden_layers': 2, 'num_hidden_units': 111}. Best is trial 52 with value: 0.9344262295081968.\n"
     ]
    },
    {
     "name": "stdout",
     "output_type": "stream",
     "text": [
      "2/2 [==============================] - 0s 3ms/step\n"
     ]
    },
    {
     "name": "stderr",
     "output_type": "stream",
     "text": [
      "[I 2023-11-13 18:57:38,039] Trial 57 finished with value: 0.8360655737704918 and parameters: {'learning_rate': 0.0005281169776627699, 'num_hidden_layers': 3, 'num_hidden_units': 95}. Best is trial 52 with value: 0.9344262295081968.\n"
     ]
    },
    {
     "name": "stdout",
     "output_type": "stream",
     "text": [
      "2/2 [==============================] - 0s 2ms/step\n"
     ]
    },
    {
     "name": "stderr",
     "output_type": "stream",
     "text": [
      "[I 2023-11-13 18:58:23,955] Trial 58 finished with value: 0.6229508196721312 and parameters: {'learning_rate': 0.004600581436331141, 'num_hidden_layers': 2, 'num_hidden_units': 78}. Best is trial 52 with value: 0.9344262295081968.\n"
     ]
    },
    {
     "name": "stdout",
     "output_type": "stream",
     "text": [
      "2/2 [==============================] - 0s 2ms/step\n"
     ]
    },
    {
     "name": "stderr",
     "output_type": "stream",
     "text": [
      "[I 2023-11-13 18:59:23,737] Trial 59 finished with value: 0.7377049180327869 and parameters: {'learning_rate': 0.020539475263991438, 'num_hidden_layers': 3, 'num_hidden_units': 123}. Best is trial 52 with value: 0.9344262295081968.\n"
     ]
    },
    {
     "name": "stdout",
     "output_type": "stream",
     "text": [
      "2/2 [==============================] - 0s 3ms/step\n"
     ]
    },
    {
     "name": "stderr",
     "output_type": "stream",
     "text": [
      "[I 2023-11-13 19:00:05,937] Trial 60 finished with value: 0.639344262295082 and parameters: {'learning_rate': 0.011719281859227272, 'num_hidden_layers': 1, 'num_hidden_units': 134}. Best is trial 52 with value: 0.9344262295081968.\n"
     ]
    },
    {
     "name": "stdout",
     "output_type": "stream",
     "text": [
      "2/2 [==============================] - 0s 2ms/step\n"
     ]
    },
    {
     "name": "stderr",
     "output_type": "stream",
     "text": [
      "[I 2023-11-13 19:01:06,277] Trial 61 finished with value: 0.8360655737704918 and parameters: {'learning_rate': 0.0032849523396243957, 'num_hidden_layers': 3, 'num_hidden_units': 149}. Best is trial 52 with value: 0.9344262295081968.\n"
     ]
    },
    {
     "name": "stdout",
     "output_type": "stream",
     "text": [
      "2/2 [==============================] - 0s 2ms/step\n"
     ]
    },
    {
     "name": "stderr",
     "output_type": "stream",
     "text": [
      "[I 2023-11-13 19:02:08,823] Trial 62 finished with value: 0.8688524590163934 and parameters: {'learning_rate': 3.048674551304239e-05, 'num_hidden_layers': 3, 'num_hidden_units': 145}. Best is trial 52 with value: 0.9344262295081968.\n"
     ]
    },
    {
     "name": "stdout",
     "output_type": "stream",
     "text": [
      "2/2 [==============================] - 0s 3ms/step\n"
     ]
    },
    {
     "name": "stderr",
     "output_type": "stream",
     "text": [
      "[I 2023-11-13 19:03:04,396] Trial 63 finished with value: 0.8524590163934426 and parameters: {'learning_rate': 0.00011464941931853723, 'num_hidden_layers': 3, 'num_hidden_units': 98}. Best is trial 52 with value: 0.9344262295081968.\n"
     ]
    },
    {
     "name": "stdout",
     "output_type": "stream",
     "text": [
      "2/2 [==============================] - 0s 4ms/step\n"
     ]
    },
    {
     "name": "stderr",
     "output_type": "stream",
     "text": [
      "[I 2023-11-13 19:04:01,014] Trial 64 finished with value: 0.6065573770491803 and parameters: {'learning_rate': 0.007534063557888177, 'num_hidden_layers': 3, 'num_hidden_units': 107}. Best is trial 52 with value: 0.9344262295081968.\n"
     ]
    },
    {
     "name": "stdout",
     "output_type": "stream",
     "text": [
      "2/2 [==============================] - 0s 4ms/step\n"
     ]
    },
    {
     "name": "stderr",
     "output_type": "stream",
     "text": [
      "[I 2023-11-13 19:05:09,802] Trial 65 finished with value: 0.8688524590163934 and parameters: {'learning_rate': 0.0037510792884254073, 'num_hidden_layers': 4, 'num_hidden_units': 124}. Best is trial 52 with value: 0.9344262295081968.\n"
     ]
    },
    {
     "name": "stdout",
     "output_type": "stream",
     "text": [
      "2/2 [==============================] - 0s 3ms/step\n"
     ]
    },
    {
     "name": "stderr",
     "output_type": "stream",
     "text": [
      "[I 2023-11-13 19:06:14,416] Trial 66 finished with value: 0.7704918032786885 and parameters: {'learning_rate': 0.008349506339345746, 'num_hidden_layers': 4, 'num_hidden_units': 123}. Best is trial 52 with value: 0.9344262295081968.\n"
     ]
    },
    {
     "name": "stdout",
     "output_type": "stream",
     "text": [
      "2/2 [==============================] - 0s 4ms/step\n"
     ]
    },
    {
     "name": "stderr",
     "output_type": "stream",
     "text": [
      "[I 2023-11-13 19:07:12,667] Trial 67 finished with value: 0.7704918032786885 and parameters: {'learning_rate': 0.0024094177529622096, 'num_hidden_layers': 4, 'num_hidden_units': 71}. Best is trial 52 with value: 0.9344262295081968.\n"
     ]
    },
    {
     "name": "stdout",
     "output_type": "stream",
     "text": [
      "2/2 [==============================] - 0s 4ms/step\n"
     ]
    },
    {
     "name": "stderr",
     "output_type": "stream",
     "text": [
      "[I 2023-11-13 19:08:36,859] Trial 68 finished with value: 0.8524590163934426 and parameters: {'learning_rate': 4.999551269144198e-05, 'num_hidden_layers': 4, 'num_hidden_units': 251}. Best is trial 52 with value: 0.9344262295081968.\n"
     ]
    },
    {
     "name": "stdout",
     "output_type": "stream",
     "text": [
      "2/2 [==============================] - 0s 2ms/step\n"
     ]
    },
    {
     "name": "stderr",
     "output_type": "stream",
     "text": [
      "[I 2023-11-13 19:09:24,145] Trial 69 finished with value: 0.7213114754098361 and parameters: {'learning_rate': 0.015337063000199602, 'num_hidden_layers': 2, 'num_hidden_units': 85}. Best is trial 52 with value: 0.9344262295081968.\n"
     ]
    },
    {
     "name": "stdout",
     "output_type": "stream",
     "text": [
      "2/2 [==============================] - 0s 2ms/step\n"
     ]
    },
    {
     "name": "stderr",
     "output_type": "stream",
     "text": [
      "[I 2023-11-13 19:10:26,403] Trial 70 finished with value: 0.7868852459016393 and parameters: {'learning_rate': 0.011467502698128162, 'num_hidden_layers': 4, 'num_hidden_units': 113}. Best is trial 52 with value: 0.9344262295081968.\n"
     ]
    },
    {
     "name": "stdout",
     "output_type": "stream",
     "text": [
      "2/2 [==============================] - 0s 4ms/step\n"
     ]
    },
    {
     "name": "stderr",
     "output_type": "stream",
     "text": [
      "[I 2023-11-13 19:11:26,719] Trial 71 finished with value: 0.7868852459016393 and parameters: {'learning_rate': 0.0038256996597781662, 'num_hidden_layers': 3, 'num_hidden_units': 143}. Best is trial 52 with value: 0.9344262295081968.\n"
     ]
    },
    {
     "name": "stdout",
     "output_type": "stream",
     "text": [
      "2/2 [==============================] - 0s 6ms/step\n"
     ]
    },
    {
     "name": "stderr",
     "output_type": "stream",
     "text": [
      "[I 2023-11-13 19:12:35,139] Trial 72 finished with value: 0.7868852459016393 and parameters: {'learning_rate': 0.006766177953495609, 'num_hidden_layers': 3, 'num_hidden_units': 128}. Best is trial 52 with value: 0.9344262295081968.\n"
     ]
    },
    {
     "name": "stdout",
     "output_type": "stream",
     "text": [
      "2/2 [==============================] - 0s 4ms/step\n"
     ]
    },
    {
     "name": "stderr",
     "output_type": "stream",
     "text": [
      "[I 2023-11-13 19:13:52,077] Trial 73 finished with value: 0.8524590163934426 and parameters: {'learning_rate': 0.0036372834360720624, 'num_hidden_layers': 3, 'num_hidden_units': 158}. Best is trial 52 with value: 0.9344262295081968.\n"
     ]
    },
    {
     "name": "stdout",
     "output_type": "stream",
     "text": [
      "2/2 [==============================] - 0s 6ms/step\n"
     ]
    },
    {
     "name": "stderr",
     "output_type": "stream",
     "text": [
      "[I 2023-11-13 19:14:48,364] Trial 74 finished with value: 0.639344262295082 and parameters: {'learning_rate': 0.007264917723295463, 'num_hidden_layers': 1, 'num_hidden_units': 137}. Best is trial 52 with value: 0.9344262295081968.\n"
     ]
    },
    {
     "name": "stdout",
     "output_type": "stream",
     "text": [
      "2/2 [==============================] - 0s 8ms/step\n"
     ]
    },
    {
     "name": "stderr",
     "output_type": "stream",
     "text": [
      "[I 2023-11-13 19:16:02,468] Trial 75 finished with value: 0.7704918032786885 and parameters: {'learning_rate': 0.0035031622327821254, 'num_hidden_layers': 3, 'num_hidden_units': 119}. Best is trial 52 with value: 0.9344262295081968.\n"
     ]
    },
    {
     "name": "stdout",
     "output_type": "stream",
     "text": [
      "2/2 [==============================] - 0s 5ms/step\n"
     ]
    },
    {
     "name": "stderr",
     "output_type": "stream",
     "text": [
      "[I 2023-11-13 19:17:16,625] Trial 76 finished with value: 0.8360655737704918 and parameters: {'learning_rate': 0.010660916967603167, 'num_hidden_layers': 3, 'num_hidden_units': 106}. Best is trial 52 with value: 0.9344262295081968.\n"
     ]
    },
    {
     "name": "stdout",
     "output_type": "stream",
     "text": [
      "2/2 [==============================] - 0s 5ms/step\n"
     ]
    },
    {
     "name": "stderr",
     "output_type": "stream",
     "text": [
      "[I 2023-11-13 19:18:39,804] Trial 77 finished with value: 0.819672131147541 and parameters: {'learning_rate': 0.006609413827277842, 'num_hidden_layers': 4, 'num_hidden_units': 96}. Best is trial 52 with value: 0.9344262295081968.\n"
     ]
    },
    {
     "name": "stdout",
     "output_type": "stream",
     "text": [
      "2/2 [==============================] - 0s 5ms/step\n"
     ]
    },
    {
     "name": "stderr",
     "output_type": "stream",
     "text": [
      "[I 2023-11-13 19:19:48,925] Trial 78 finished with value: 0.7704918032786885 and parameters: {'learning_rate': 0.002370646834336183, 'num_hidden_layers': 2, 'num_hidden_units': 165}. Best is trial 52 with value: 0.9344262295081968.\n"
     ]
    },
    {
     "name": "stdout",
     "output_type": "stream",
     "text": [
      "2/2 [==============================] - 0s 4ms/step\n"
     ]
    },
    {
     "name": "stderr",
     "output_type": "stream",
     "text": [
      "[I 2023-11-13 19:21:02,428] Trial 79 finished with value: 0.8524590163934426 and parameters: {'learning_rate': 4.306314064555838e-05, 'num_hidden_layers': 3, 'num_hidden_units': 132}. Best is trial 52 with value: 0.9344262295081968.\n"
     ]
    },
    {
     "name": "stdout",
     "output_type": "stream",
     "text": [
      "2/2 [==============================] - 0s 4ms/step\n"
     ]
    },
    {
     "name": "stderr",
     "output_type": "stream",
     "text": [
      "[I 2023-11-13 19:21:55,960] Trial 80 finished with value: 0.6557377049180327 and parameters: {'learning_rate': 0.009279090153554968, 'num_hidden_layers': 1, 'num_hidden_units': 113}. Best is trial 52 with value: 0.9344262295081968.\n"
     ]
    },
    {
     "name": "stdout",
     "output_type": "stream",
     "text": [
      "2/2 [==============================] - 0s 27ms/step\n"
     ]
    },
    {
     "name": "stderr",
     "output_type": "stream",
     "text": [
      "[I 2023-11-13 19:23:25,092] Trial 81 finished with value: 0.8852459016393442 and parameters: {'learning_rate': 0.0020555038329405336, 'num_hidden_layers': 3, 'num_hidden_units': 152}. Best is trial 52 with value: 0.9344262295081968.\n"
     ]
    },
    {
     "name": "stdout",
     "output_type": "stream",
     "text": [
      "2/2 [==============================] - 0s 4ms/step\n"
     ]
    },
    {
     "name": "stderr",
     "output_type": "stream",
     "text": [
      "[I 2023-11-13 19:24:42,053] Trial 82 finished with value: 0.7868852459016393 and parameters: {'learning_rate': 0.005041615599909733, 'num_hidden_layers': 3, 'num_hidden_units': 142}. Best is trial 52 with value: 0.9344262295081968.\n"
     ]
    },
    {
     "name": "stdout",
     "output_type": "stream",
     "text": [
      "2/2 [==============================] - 0s 2ms/step\n"
     ]
    },
    {
     "name": "stderr",
     "output_type": "stream",
     "text": [
      "[I 2023-11-13 19:26:02,156] Trial 83 finished with value: 0.8360655737704918 and parameters: {'learning_rate': 0.002559508261273506, 'num_hidden_layers': 3, 'num_hidden_units': 150}. Best is trial 52 with value: 0.9344262295081968.\n"
     ]
    },
    {
     "name": "stdout",
     "output_type": "stream",
     "text": [
      "2/2 [==============================] - 0s 5ms/step\n"
     ]
    },
    {
     "name": "stderr",
     "output_type": "stream",
     "text": [
      "[I 2023-11-13 19:27:25,100] Trial 84 finished with value: 0.7213114754098361 and parameters: {'learning_rate': 0.013133892650270627, 'num_hidden_layers': 3, 'num_hidden_units': 177}. Best is trial 52 with value: 0.9344262295081968.\n"
     ]
    },
    {
     "name": "stdout",
     "output_type": "stream",
     "text": [
      "2/2 [==============================] - 0s 3ms/step\n"
     ]
    },
    {
     "name": "stderr",
     "output_type": "stream",
     "text": [
      "[I 2023-11-13 19:28:40,199] Trial 85 finished with value: 0.7868852459016393 and parameters: {'learning_rate': 0.006127881122623927, 'num_hidden_layers': 3, 'num_hidden_units': 120}. Best is trial 52 with value: 0.9344262295081968.\n"
     ]
    },
    {
     "name": "stdout",
     "output_type": "stream",
     "text": [
      "2/2 [==============================] - 0s 8ms/step\n"
     ]
    },
    {
     "name": "stderr",
     "output_type": "stream",
     "text": [
      "[I 2023-11-13 19:29:57,719] Trial 86 finished with value: 0.7868852459016393 and parameters: {'learning_rate': 0.009902224138249843, 'num_hidden_layers': 3, 'num_hidden_units': 125}. Best is trial 52 with value: 0.9344262295081968.\n"
     ]
    },
    {
     "name": "stdout",
     "output_type": "stream",
     "text": [
      "2/2 [==============================] - 0s 3ms/step\n"
     ]
    },
    {
     "name": "stderr",
     "output_type": "stream",
     "text": [
      "[I 2023-11-13 19:31:08,110] Trial 87 finished with value: 0.7049180327868853 and parameters: {'learning_rate': 0.002858332631027382, 'num_hidden_layers': 2, 'num_hidden_units': 187}. Best is trial 52 with value: 0.9344262295081968.\n"
     ]
    },
    {
     "name": "stdout",
     "output_type": "stream",
     "text": [
      "2/2 [==============================] - 0s 4ms/step\n"
     ]
    },
    {
     "name": "stderr",
     "output_type": "stream",
     "text": [
      "[I 2023-11-13 19:32:22,155] Trial 88 finished with value: 0.8032786885245902 and parameters: {'learning_rate': 0.0056744968963087904, 'num_hidden_layers': 3, 'num_hidden_units': 102}. Best is trial 52 with value: 0.9344262295081968.\n"
     ]
    },
    {
     "name": "stdout",
     "output_type": "stream",
     "text": [
      "2/2 [==============================] - 0s 5ms/step\n"
     ]
    },
    {
     "name": "stderr",
     "output_type": "stream",
     "text": [
      "[I 2023-11-13 19:33:34,463] Trial 89 finished with value: 0.7049180327868853 and parameters: {'learning_rate': 0.015980133919432635, 'num_hidden_layers': 3, 'num_hidden_units': 91}. Best is trial 52 with value: 0.9344262295081968.\n"
     ]
    },
    {
     "name": "stdout",
     "output_type": "stream",
     "text": [
      "2/2 [==============================] - 0s 4ms/step\n"
     ]
    },
    {
     "name": "stderr",
     "output_type": "stream",
     "text": [
      "[I 2023-11-13 19:34:50,217] Trial 90 finished with value: 0.7049180327868853 and parameters: {'learning_rate': 0.0022641735304064284, 'num_hidden_layers': 3, 'num_hidden_units': 137}. Best is trial 52 with value: 0.9344262295081968.\n"
     ]
    },
    {
     "name": "stdout",
     "output_type": "stream",
     "text": [
      "2/2 [==============================] - 0s 3ms/step\n"
     ]
    },
    {
     "name": "stderr",
     "output_type": "stream",
     "text": [
      "[I 2023-11-13 19:36:05,194] Trial 91 finished with value: 0.8852459016393442 and parameters: {'learning_rate': 0.00041101562262445404, 'num_hidden_layers': 3, 'num_hidden_units': 151}. Best is trial 52 with value: 0.9344262295081968.\n"
     ]
    },
    {
     "name": "stdout",
     "output_type": "stream",
     "text": [
      "2/2 [==============================] - 0s 4ms/step\n"
     ]
    },
    {
     "name": "stderr",
     "output_type": "stream",
     "text": [
      "[I 2023-11-13 19:37:23,096] Trial 92 finished with value: 0.9180327868852459 and parameters: {'learning_rate': 0.00036290878811079305, 'num_hidden_layers': 3, 'num_hidden_units': 160}. Best is trial 52 with value: 0.9344262295081968.\n"
     ]
    },
    {
     "name": "stdout",
     "output_type": "stream",
     "text": [
      "2/2 [==============================] - 0s 5ms/step\n"
     ]
    },
    {
     "name": "stderr",
     "output_type": "stream",
     "text": [
      "[I 2023-11-13 19:38:42,525] Trial 93 finished with value: 0.8852459016393442 and parameters: {'learning_rate': 0.00013555982494938904, 'num_hidden_layers': 3, 'num_hidden_units': 161}. Best is trial 52 with value: 0.9344262295081968.\n"
     ]
    },
    {
     "name": "stdout",
     "output_type": "stream",
     "text": [
      "2/2 [==============================] - 0s 8ms/step\n"
     ]
    },
    {
     "name": "stderr",
     "output_type": "stream",
     "text": [
      "[I 2023-11-13 19:40:04,330] Trial 94 finished with value: 0.9016393442622951 and parameters: {'learning_rate': 0.00018454279111295485, 'num_hidden_layers': 3, 'num_hidden_units': 172}. Best is trial 52 with value: 0.9344262295081968.\n"
     ]
    },
    {
     "name": "stdout",
     "output_type": "stream",
     "text": [
      "2/2 [==============================] - 0s 6ms/step\n"
     ]
    },
    {
     "name": "stderr",
     "output_type": "stream",
     "text": [
      "[I 2023-11-13 19:41:24,647] Trial 95 finished with value: 0.7540983606557377 and parameters: {'learning_rate': 0.00860326284819816, 'num_hidden_layers': 3, 'num_hidden_units': 161}. Best is trial 52 with value: 0.9344262295081968.\n"
     ]
    },
    {
     "name": "stdout",
     "output_type": "stream",
     "text": [
      "2/2 [==============================] - 0s 5ms/step\n"
     ]
    },
    {
     "name": "stderr",
     "output_type": "stream",
     "text": [
      "[I 2023-11-13 19:42:42,528] Trial 96 finished with value: 0.7704918032786885 and parameters: {'learning_rate': 0.0023239059342231743, 'num_hidden_layers': 3, 'num_hidden_units': 154}. Best is trial 52 with value: 0.9344262295081968.\n"
     ]
    },
    {
     "name": "stdout",
     "output_type": "stream",
     "text": [
      "2/2 [==============================] - 0s 5ms/step\n"
     ]
    },
    {
     "name": "stderr",
     "output_type": "stream",
     "text": [
      "[I 2023-11-13 19:44:03,633] Trial 97 finished with value: 0.9344262295081968 and parameters: {'learning_rate': 0.00015297646989122, 'num_hidden_layers': 3, 'num_hidden_units': 179}. Best is trial 52 with value: 0.9344262295081968.\n"
     ]
    },
    {
     "name": "stdout",
     "output_type": "stream",
     "text": [
      "2/2 [==============================] - 0s 4ms/step\n"
     ]
    },
    {
     "name": "stderr",
     "output_type": "stream",
     "text": [
      "[I 2023-11-13 19:45:11,320] Trial 98 finished with value: 0.7704918032786885 and parameters: {'learning_rate': 0.006059103186575205, 'num_hidden_layers': 2, 'num_hidden_units': 172}. Best is trial 52 with value: 0.9344262295081968.\n"
     ]
    },
    {
     "name": "stdout",
     "output_type": "stream",
     "text": [
      "2/2 [==============================] - 0s 4ms/step\n"
     ]
    },
    {
     "name": "stderr",
     "output_type": "stream",
     "text": [
      "[I 2023-11-13 19:46:29,448] Trial 99 finished with value: 0.6721311475409836 and parameters: {'learning_rate': 0.011708404544462966, 'num_hidden_layers': 3, 'num_hidden_units': 183}. Best is trial 52 with value: 0.9344262295081968.\n"
     ]
    },
    {
     "name": "stdout",
     "output_type": "stream",
     "text": [
      "Mejor conjunto de hiperparámetros: {'learning_rate': 0.00011309688612076588, 'num_hidden_layers': 3, 'num_hidden_units': 122}\n"
     ]
    }
   ],
   "source": [
    "import optuna\n",
    "import tensorflow as tf\n",
    "from tensorflow import keras\n",
    "from sklearn.model_selection import train_test_split\n",
    "from sklearn.metrics import accuracy_score\n",
    "\n",
    "def objective(trial):\n",
    "    # Definir espacio de búsqueda de hiperparámetros\n",
    "    learning_rate = trial.suggest_float(\"learning_rate\", 1e-5, 1e-1)\n",
    "    num_hidden_layers = trial.suggest_int(\"num_hidden_layers\", 1, 5)\n",
    "    num_hidden_units = trial.suggest_int(\"num_hidden_units\", 16, 256)\n",
    "\n",
    "    # Construir el modelo de red neuronal con los hiperparámetros\n",
    "    model = keras.Sequential()\n",
    "    for _ in range(num_hidden_layers):\n",
    "        model.add(keras.layers.Dense(num_hidden_units, activation=\"relu\"))\n",
    "        model.add(keras.layers.BatchNormalization())\n",
    "        model.add(keras.layers.Dropout(0.3))\n",
    "        \n",
    "    model.add(keras.layers.Dense(1, activation=\"sigmoid\"))\n",
    "\n",
    "    # Compilar y entrenar el modelo\n",
    "    model.compile(optimizer=keras.optimizers.Adam(learning_rate=learning_rate),\n",
    "                  loss=\"binary_crossentropy\",\n",
    "                  metrics=[\"accuracy\"])\n",
    "    \n",
    "    #early_stopping = keras.callbacks.EarlyStopping(\n",
    "    #patience=50,\n",
    "    #min_delta=0.001,\n",
    "    #restore_best_weights=True,\n",
    "    #)\n",
    "    \n",
    "    model.fit(X_train, y_train, epochs=500, batch_size=16, verbose=0, validation_data=(X_test, y_test))\n",
    "\n",
    "    # Evaluar el modelo\n",
    "    y_pred = (model.predict(X_test) > 0.5).astype(int)\n",
    "    accuracy = accuracy_score(y_test, y_pred)\n",
    "\n",
    "    return accuracy\n",
    "\n",
    "\n",
    "# Crear un estudio Optuna\n",
    "study = optuna.create_study(direction=\"maximize\")\n",
    "study.optimize(objective, n_trials=100)\n",
    "\n",
    "# Obtener el mejor conjunto de hiperparámetros\n",
    "best_params = study.best_params\n",
    "print(\"Mejor conjunto de hiperparámetros:\", best_params)\n"
   ]
  },
  {
   "cell_type": "code",
   "execution_count": 16,
   "metadata": {},
   "outputs": [
    {
     "name": "stdout",
     "output_type": "stream",
     "text": [
      "2/2 [==============================] - 0s 6ms/step\n",
      "              precision    recall  f1-score   support\n",
      "\n",
      "     Clase 0       0.93      0.93      0.93        30\n",
      "     Clase 1       0.94      0.94      0.94        31\n",
      "\n",
      "    accuracy                           0.93        61\n",
      "   macro avg       0.93      0.93      0.93        61\n",
      "weighted avg       0.93      0.93      0.93        61\n",
      "\n"
     ]
    }
   ],
   "source": [
    "from tensorflow import keras\n",
    "\n",
    "# Supongamos que ya tienes un modelo entrenado\n",
    "# Reemplaza esto con tus datos reales\n",
    "y_pred = model.predict(X_test)\n",
    "\n",
    "# Convierte las predicciones en etiquetas binarias aplicando un umbral (por ejemplo, 0.5)\n",
    "threshold = 0.5\n",
    "y_pred_binary = (y_pred > threshold).astype(int)\n",
    "\n",
    "# Calcula el informe de clasificación\n",
    "from sklearn.metrics import classification_report\n",
    "report = classification_report(y_test, y_pred_binary, target_names=[\"Clase 0\", \"Clase 1\"])  # Reemplaza con las etiquetas reales\n",
    "\n",
    "print(report)"
   ]
  },
  {
   "cell_type": "code",
   "execution_count": null,
   "metadata": {},
   "outputs": [],
   "source": []
  }
 ],
 "metadata": {
  "kernelspec": {
   "display_name": "Lab_6",
   "language": "python",
   "name": "python3"
  },
  "language_info": {
   "codemirror_mode": {
    "name": "ipython",
    "version": 3
   },
   "file_extension": ".py",
   "mimetype": "text/x-python",
   "name": "python",
   "nbconvert_exporter": "python",
   "pygments_lexer": "ipython3",
   "version": "3.11.5"
  }
 },
 "nbformat": 4,
 "nbformat_minor": 2
}
